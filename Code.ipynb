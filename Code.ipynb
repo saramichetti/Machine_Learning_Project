{
 "cells": [
  {
   "cell_type": "code",
   "execution_count": 98,
   "metadata": {
    "id": "afjg3hcmw8-2",
    "scrolled": true
   },
   "outputs": [
    {
     "name": "stdout",
     "output_type": "stream",
     "text": [
      "Requirement already satisfied: imbalanced-learn in c:\\users\\saram\\anaconda3\\envs\\programmingfds\\lib\\site-packages (0.7.0)\n",
      "Requirement already satisfied: scikit-learn>=0.23 in c:\\users\\saram\\anaconda3\\envs\\programmingfds\\lib\\site-packages (from imbalanced-learn) (0.23.2)\n",
      "Requirement already satisfied: numpy>=1.13.3 in c:\\users\\saram\\anaconda3\\envs\\programmingfds\\lib\\site-packages (from imbalanced-learn) (1.19.1)\n",
      "Requirement already satisfied: scipy>=0.19.1 in c:\\users\\saram\\anaconda3\\envs\\programmingfds\\lib\\site-packages (from imbalanced-learn) (1.5.0)\n",
      "Requirement already satisfied: joblib>=0.11 in c:\\users\\saram\\anaconda3\\envs\\programmingfds\\lib\\site-packages (from imbalanced-learn) (0.16.0)\n",
      "Requirement already satisfied: threadpoolctl>=2.0.0 in c:\\users\\saram\\anaconda3\\envs\\programmingfds\\lib\\site-packages (from scikit-learn>=0.23->imbalanced-learn) (2.1.0)\n"
     ]
    },
    {
     "name": "stderr",
     "output_type": "stream",
     "text": [
      "WARNING: You are using pip version 20.2.4; however, version 20.3.3 is available.\n",
      "You should consider upgrading via the 'C:\\Users\\saram\\anaconda3\\envs\\ProgrammingFDS\\python.exe -m pip install --upgrade pip' command.\n"
     ]
    },
    {
     "name": "stdout",
     "output_type": "stream",
     "text": [
      "Requirement already satisfied: eli5 in c:\\users\\saram\\anaconda3\\envs\\programmingfds\\lib\\site-packages (0.10.1)\n",
      "Requirement already satisfied: numpy>=1.9.0 in c:\\users\\saram\\anaconda3\\envs\\programmingfds\\lib\\site-packages (from eli5) (1.19.1)\n",
      "Requirement already satisfied: six in c:\\users\\saram\\anaconda3\\envs\\programmingfds\\lib\\site-packages (from eli5) (1.15.0)"
     ]
    },
    {
     "name": "stderr",
     "output_type": "stream",
     "text": [
      "WARNING: You are using pip version 20.2.4; however, version 20.3.3 is available.\n",
      "You should consider upgrading via the 'C:\\Users\\saram\\anaconda3\\envs\\ProgrammingFDS\\python.exe -m pip install --upgrade pip' command.\n"
     ]
    },
    {
     "name": "stdout",
     "output_type": "stream",
     "text": [
      "\n",
      "Requirement already satisfied: graphviz in c:\\users\\saram\\anaconda3\\envs\\programmingfds\\lib\\site-packages (from eli5) (0.14.2)\n",
      "Requirement already satisfied: scikit-learn>=0.18 in c:\\users\\saram\\anaconda3\\envs\\programmingfds\\lib\\site-packages (from eli5) (0.23.2)\n",
      "Requirement already satisfied: attrs>16.0.0 in c:\\users\\saram\\anaconda3\\envs\\programmingfds\\lib\\site-packages (from eli5) (20.2.0)\n",
      "Requirement already satisfied: jinja2 in c:\\users\\saram\\anaconda3\\envs\\programmingfds\\lib\\site-packages (from eli5) (2.11.2)\n",
      "Requirement already satisfied: scipy in c:\\users\\saram\\anaconda3\\envs\\programmingfds\\lib\\site-packages (from eli5) (1.5.0)\n",
      "Requirement already satisfied: tabulate>=0.7.7 in c:\\users\\saram\\anaconda3\\envs\\programmingfds\\lib\\site-packages (from eli5) (0.8.7)\n",
      "Requirement already satisfied: joblib>=0.11 in c:\\users\\saram\\anaconda3\\envs\\programmingfds\\lib\\site-packages (from scikit-learn>=0.18->eli5) (0.16.0)\n",
      "Requirement already satisfied: threadpoolctl>=2.0.0 in c:\\users\\saram\\anaconda3\\envs\\programmingfds\\lib\\site-packages (from scikit-learn>=0.18->eli5) (2.1.0)\n",
      "Requirement already satisfied: MarkupSafe>=0.23 in c:\\users\\saram\\anaconda3\\envs\\programmingfds\\lib\\site-packages (from jinja2->eli5) (1.1.1)\n"
     ]
    }
   ],
   "source": [
    "import numpy as np\n",
    "import pandas as pd\n",
    "from sklearn.tree import export_graphviz\n",
    "from subprocess import call\n",
    "from IPython.display import Image\n",
    "from sklearn.model_selection import train_test_split\n",
    "from sklearn.linear_model import LogisticRegression\n",
    "from sklearn.metrics import confusion_matrix\n",
    "from sklearn.metrics import accuracy_score\n",
    "from sklearn.metrics import f1_score\n",
    "!pip install imbalanced-learn\n",
    "import imblearn as imb\n",
    "from imblearn.over_sampling import SMOTE\n",
    "from sklearn.cluster import KMeans\n",
    "from math import ceil\n",
    "from sklearn.model_selection import GridSearchCV\n",
    "from sklearn.metrics import roc_curve\n",
    "from sklearn.metrics import roc_auc_score\n",
    "\n",
    "#scaling\n",
    "from sklearn.preprocessing import StandardScaler\n",
    "from sklearn.preprocessing import MinMaxScaler\n",
    "\n",
    "#for categorical variables decision\n",
    "from sklearn.preprocessing import LabelEncoder\n",
    "from sklearn.preprocessing import OrdinalEncoder\n",
    "from sklearn.preprocessing import OneHotEncoder\n",
    "from sklearn.feature_selection import SelectKBest\n",
    "from sklearn.feature_selection import chi2\n",
    "from sklearn.feature_selection import mutual_info_classif\n",
    "\n",
    "# Logistic Regression\n",
    "from sklearn.feature_selection import SelectFromModel\n",
    "from sklearn.ensemble import RandomForestClassifier\n",
    "#RFE\n",
    "from sklearn.ensemble import RandomForestClassifier\n",
    "from sklearn.model_selection import StratifiedKFold\n",
    "from sklearn.feature_selection import RFECV\n",
    "from sklearn.feature_selection import RFE\n",
    "\n",
    "#bayes\n",
    "from sklearn.naive_bayes import GaussianNB\n",
    "from sklearn.naive_bayes import CategoricalNB\n",
    "from sklearn.naive_bayes import ComplementNB\n",
    "\n",
    "#NN\n",
    "from sklearn.neural_network import MLPClassifier\n",
    "from sklearn.metrics import classification_report\n",
    "from sklearn.neighbors import KNeighborsClassifier\n",
    "from sklearn.neighbors import KNeighborsRegressor\n",
    "from sklearn.impute import KNNImputer\n",
    "from math import ceil\n",
    "\n",
    "#Decision Tree & random Forest\n",
    "from sklearn.tree import DecisionTreeClassifier\n",
    "import time\n",
    "from sklearn.model_selection import KFold\n",
    "from sklearn import tree\n",
    "from sklearn.ensemble import RandomForestClassifier\n",
    "\n",
    "\n",
    "#Bagging\n",
    "from sklearn.ensemble import BaggingClassifier\n",
    "#Gradient Boost\n",
    "from sklearn.ensemble import GradientBoostingClassifier\n",
    "\n",
    "#Stacking\n",
    "from sklearn.ensemble import StackingClassifier\n",
    "from sklearn.ensemble import RandomForestClassifier\n",
    "from sklearn.linear_model import LogisticRegression\n",
    "from sklearn.naive_bayes import GaussianNB\n",
    "from sklearn import svm\n",
    "from sklearn.ensemble import GradientBoostingClassifier\n",
    "import random as rd\n",
    "import itertools\n",
    "\n",
    "#Graphs\n",
    "import matplotlib.pyplot as plt\n",
    "from matplotlib import pyplot\n",
    "import seaborn as sns\n",
    "\n",
    "#permutation importance\n",
    "!pip install eli5\n",
    "import eli5\n",
    "from eli5.sklearn import PermutationImportance\n",
    "\n",
    "#tests\n",
    "from scipy import stats\n",
    "from sklearn import feature_selection\n",
    "\n",
    "#outlier detection\n",
    "from sklearn.neighbors import LocalOutlierFactor\n",
    "from sklearn.ensemble import IsolationForest\n",
    "\n",
    "#metrics and random\n",
    "import sklearn.metrics as metrics\n",
    "from sklearn.metrics import classification_report, confusion_matrix\n",
    "import random as rd\n",
    "import itertools"
   ]
  },
  {
   "cell_type": "markdown",
   "metadata": {},
   "source": [
    "### How the notebook is organised\n",
    "\n",
    "#### Data Preprocessing \n",
    "Reading and Exploration \\\n",
    "Feature Engineering \\\n",
    "Data Visualizations \\\n",
    "Missing Values \\\n",
    "Outliers \\\n",
    "RFE, Target encoded variables \\\n",
    "Data Scaling \\\n",
    "Preparation Test Set\n",
    "\n",
    "#### Models\n",
    "Logistic regression \\\n",
    "Gaussian NB \\\n",
    "Neural Network \\\n",
    "KNN \\\n",
    "Decision trees \\\n",
    "Gradient Boost \\\n",
    "Random Forest \\\n",
    "Stacking\n",
    "\n",
    "#### Models analysis\n",
    "ROC curves and F1 scores \\\n",
    "GB vs Stacking \\\n",
    "Statistical tests for Stacking\n",
    "\n"
   ]
  },
  {
   "cell_type": "markdown",
   "metadata": {
    "id": "gfHpYGsM8Ufu"
   },
   "source": [
    "# Data Preprocessing\n"
   ]
  },
  {
   "cell_type": "markdown",
   "metadata": {
    "id": "FPPLcEZlrtfm"
   },
   "source": [
    "## Reading and Exploration"
   ]
  },
  {
   "cell_type": "code",
   "execution_count": 3,
   "metadata": {
    "id": "lnid6CDTzcwG"
   },
   "outputs": [],
   "source": [
    "test=pd.read_excel(r\"C:\\Users\\saram\\Downloads\\Project Material-20201106\\Test.xlsx\",\"Sheet1\")\n",
    "train=pd.read_excel(r\"C:\\Users\\saram\\Downloads\\Project Material-20201106\\Train.xlsx\",\"Sheet1\")"
   ]
  },
  {
   "cell_type": "code",
   "execution_count": 4,
   "metadata": {
    "id": "a-NW4Qig8cJT"
   },
   "outputs": [],
   "source": [
    "# train=pd.read_excel(\"Train.xlsx\",\"Sheet1\")"
   ]
  },
  {
   "cell_type": "code",
   "execution_count": 5,
   "metadata": {
    "id": "RWCqqweMIXv8"
   },
   "outputs": [],
   "source": [
    "# test=pd.read_excel(\"Test.xlsx\",\"Sheet1\")"
   ]
  },
  {
   "cell_type": "code",
   "execution_count": 6,
   "metadata": {
    "colab": {
     "base_uri": "https://localhost:8080/",
     "height": 244
    },
    "id": "k8lzr5YGz-Qa",
    "outputId": "cb82faf7-4bd2-404d-8159-c09ca2f6e617"
   },
   "outputs": [
    {
     "data": {
      "text/html": [
       "<div>\n",
       "<style scoped>\n",
       "    .dataframe tbody tr th:only-of-type {\n",
       "        vertical-align: middle;\n",
       "    }\n",
       "\n",
       "    .dataframe tbody tr th {\n",
       "        vertical-align: top;\n",
       "    }\n",
       "\n",
       "    .dataframe thead th {\n",
       "        text-align: right;\n",
       "    }\n",
       "</style>\n",
       "<table border=\"1\" class=\"dataframe\">\n",
       "  <thead>\n",
       "    <tr style=\"text-align: right;\">\n",
       "      <th></th>\n",
       "      <th>CITIZEN_ID</th>\n",
       "      <th>Name</th>\n",
       "      <th>Birthday</th>\n",
       "      <th>Native Continent</th>\n",
       "      <th>Marital Status</th>\n",
       "      <th>Lives with</th>\n",
       "      <th>Base Area</th>\n",
       "      <th>Education Level</th>\n",
       "      <th>Years of Education</th>\n",
       "      <th>Employment Sector</th>\n",
       "      <th>Role</th>\n",
       "      <th>Working Hours per week</th>\n",
       "      <th>Money Received</th>\n",
       "      <th>Ticket Price</th>\n",
       "      <th>Income</th>\n",
       "    </tr>\n",
       "  </thead>\n",
       "  <tbody>\n",
       "    <tr>\n",
       "      <th>0</th>\n",
       "      <td>12486</td>\n",
       "      <td>Mr. Adam Glover</td>\n",
       "      <td>July 1,2003</td>\n",
       "      <td>Europe</td>\n",
       "      <td>Married</td>\n",
       "      <td>Wife</td>\n",
       "      <td>Northbury</td>\n",
       "      <td>High School + PostGraduation</td>\n",
       "      <td>13</td>\n",
       "      <td>Private Sector - Services</td>\n",
       "      <td>Repair &amp; constructions</td>\n",
       "      <td>40</td>\n",
       "      <td>0</td>\n",
       "      <td>2273</td>\n",
       "      <td>1</td>\n",
       "    </tr>\n",
       "    <tr>\n",
       "      <th>1</th>\n",
       "      <td>12487</td>\n",
       "      <td>Mr. Cameron McDonald</td>\n",
       "      <td>January 25,2006</td>\n",
       "      <td>Europe</td>\n",
       "      <td>Married</td>\n",
       "      <td>Wife</td>\n",
       "      <td>Northbury</td>\n",
       "      <td>Professional School</td>\n",
       "      <td>12</td>\n",
       "      <td>Public Sector - Others</td>\n",
       "      <td>Repair &amp; constructions</td>\n",
       "      <td>40</td>\n",
       "      <td>0</td>\n",
       "      <td>0</td>\n",
       "      <td>1</td>\n",
       "    </tr>\n",
       "  </tbody>\n",
       "</table>\n",
       "</div>"
      ],
      "text/plain": [
       "   CITIZEN_ID                  Name          Birthday Native Continent  \\\n",
       "0       12486       Mr. Adam Glover       July 1,2003           Europe   \n",
       "1       12487  Mr. Cameron McDonald   January 25,2006           Europe   \n",
       "\n",
       "  Marital Status Lives with  Base Area               Education Level  \\\n",
       "0        Married       Wife  Northbury  High School + PostGraduation   \n",
       "1        Married       Wife  Northbury           Professional School   \n",
       "\n",
       "   Years of Education           Employment Sector                    Role  \\\n",
       "0                  13  Private Sector - Services   Repair & constructions   \n",
       "1                  12      Public Sector - Others  Repair & constructions   \n",
       "\n",
       "   Working Hours per week  Money Received  Ticket Price  Income  \n",
       "0                      40               0          2273       1  \n",
       "1                      40               0             0       1  "
      ]
     },
     "execution_count": 6,
     "metadata": {},
     "output_type": "execute_result"
    }
   ],
   "source": [
    "train.head(2)"
   ]
  },
  {
   "cell_type": "code",
   "execution_count": 7,
   "metadata": {
    "colab": {
     "base_uri": "https://localhost:8080/"
    },
    "id": "Z3QLbelguqMg",
    "outputId": "b855030d-6ead-49f8-ce25-f5d54f418aac"
   },
   "outputs": [
    {
     "data": {
      "text/plain": [
       "(22400, 15)"
      ]
     },
     "execution_count": 7,
     "metadata": {},
     "output_type": "execute_result"
    }
   ],
   "source": [
    "train.shape"
   ]
  },
  {
   "cell_type": "code",
   "execution_count": 8,
   "metadata": {
    "colab": {
     "base_uri": "https://localhost:8080/"
    },
    "id": "YZInavAO0asn",
    "outputId": "1a5cf9a5-61ee-49f6-d27f-007aed6ba43f"
   },
   "outputs": [
    {
     "name": "stdout",
     "output_type": "stream",
     "text": [
      "<class 'pandas.core.frame.DataFrame'>\n",
      "RangeIndex: 22400 entries, 0 to 22399\n",
      "Data columns (total 15 columns):\n",
      " #   Column                  Non-Null Count  Dtype \n",
      "---  ------                  --------------  ----- \n",
      " 0   CITIZEN_ID              22400 non-null  int64 \n",
      " 1   Name                    22400 non-null  object\n",
      " 2   Birthday                22400 non-null  object\n",
      " 3   Native Continent        22400 non-null  object\n",
      " 4   Marital Status          22400 non-null  object\n",
      " 5   Lives with              22400 non-null  object\n",
      " 6   Base Area               22400 non-null  object\n",
      " 7   Education Level         22400 non-null  object\n",
      " 8   Years of Education      22400 non-null  int64 \n",
      " 9   Employment Sector       22400 non-null  object\n",
      " 10  Role                    22400 non-null  object\n",
      " 11  Working Hours per week  22400 non-null  int64 \n",
      " 12  Money Received          22400 non-null  int64 \n",
      " 13  Ticket Price            22400 non-null  int64 \n",
      " 14  Income                  22400 non-null  int64 \n",
      "dtypes: int64(6), object(9)\n",
      "memory usage: 2.6+ MB\n"
     ]
    }
   ],
   "source": [
    "train.info()"
   ]
  },
  {
   "cell_type": "code",
   "execution_count": 9,
   "metadata": {
    "colab": {
     "base_uri": "https://localhost:8080/"
    },
    "id": "fcL1SnU0RCYg",
    "outputId": "1eecf9bc-5eed-4c7f-9287-074197a6a905"
   },
   "outputs": [
    {
     "data": {
      "text/plain": [
       "0    17089\n",
       "1     5311\n",
       "Name: Income, dtype: int64"
      ]
     },
     "execution_count": 9,
     "metadata": {},
     "output_type": "execute_result"
    }
   ],
   "source": [
    "train.Income.value_counts()"
   ]
  },
  {
   "cell_type": "code",
   "execution_count": 10,
   "metadata": {
    "colab": {
     "base_uri": "https://localhost:8080/",
     "height": 460
    },
    "id": "vz0PNH1yzYxs",
    "outputId": "c58e96a0-e6ed-4585-e20e-9ed97047cbd0"
   },
   "outputs": [
    {
     "data": {
      "text/html": [
       "<div>\n",
       "<style scoped>\n",
       "    .dataframe tbody tr th:only-of-type {\n",
       "        vertical-align: middle;\n",
       "    }\n",
       "\n",
       "    .dataframe tbody tr th {\n",
       "        vertical-align: top;\n",
       "    }\n",
       "\n",
       "    .dataframe thead th {\n",
       "        text-align: right;\n",
       "    }\n",
       "</style>\n",
       "<table border=\"1\" class=\"dataframe\">\n",
       "  <thead>\n",
       "    <tr style=\"text-align: right;\">\n",
       "      <th></th>\n",
       "      <th>CITIZEN_ID</th>\n",
       "      <th>Name</th>\n",
       "      <th>Birthday</th>\n",
       "      <th>Native Continent</th>\n",
       "      <th>Marital Status</th>\n",
       "      <th>Lives with</th>\n",
       "      <th>Base Area</th>\n",
       "      <th>Education Level</th>\n",
       "      <th>Years of Education</th>\n",
       "      <th>Employment Sector</th>\n",
       "      <th>Role</th>\n",
       "      <th>Working Hours per week</th>\n",
       "      <th>Money Received</th>\n",
       "      <th>Ticket Price</th>\n",
       "      <th>Income</th>\n",
       "    </tr>\n",
       "  </thead>\n",
       "  <tbody>\n",
       "    <tr>\n",
       "      <th>count</th>\n",
       "      <td>22400.000000</td>\n",
       "      <td>22400</td>\n",
       "      <td>22400</td>\n",
       "      <td>22400</td>\n",
       "      <td>22400</td>\n",
       "      <td>22400</td>\n",
       "      <td>22400</td>\n",
       "      <td>22400</td>\n",
       "      <td>22400.000000</td>\n",
       "      <td>22400</td>\n",
       "      <td>22400</td>\n",
       "      <td>22400.000000</td>\n",
       "      <td>22400.000000</td>\n",
       "      <td>22400.000000</td>\n",
       "      <td>22400.000000</td>\n",
       "    </tr>\n",
       "    <tr>\n",
       "      <th>unique</th>\n",
       "      <td>NaN</td>\n",
       "      <td>16074</td>\n",
       "      <td>11257</td>\n",
       "      <td>5</td>\n",
       "      <td>7</td>\n",
       "      <td>6</td>\n",
       "      <td>40</td>\n",
       "      <td>16</td>\n",
       "      <td>NaN</td>\n",
       "      <td>9</td>\n",
       "      <td>15</td>\n",
       "      <td>NaN</td>\n",
       "      <td>NaN</td>\n",
       "      <td>NaN</td>\n",
       "      <td>NaN</td>\n",
       "    </tr>\n",
       "    <tr>\n",
       "      <th>top</th>\n",
       "      <td>NaN</td>\n",
       "      <td>Mr. Benjamin Underwood</td>\n",
       "      <td>August 15,2025</td>\n",
       "      <td>Europe</td>\n",
       "      <td>Married</td>\n",
       "      <td>Wife</td>\n",
       "      <td>Northbury</td>\n",
       "      <td>Professional School</td>\n",
       "      <td>NaN</td>\n",
       "      <td>Private Sector - Services</td>\n",
       "      <td>Professor</td>\n",
       "      <td>NaN</td>\n",
       "      <td>NaN</td>\n",
       "      <td>NaN</td>\n",
       "      <td>NaN</td>\n",
       "    </tr>\n",
       "    <tr>\n",
       "      <th>freq</th>\n",
       "      <td>NaN</td>\n",
       "      <td>4</td>\n",
       "      <td>9</td>\n",
       "      <td>19111</td>\n",
       "      <td>10219</td>\n",
       "      <td>9012</td>\n",
       "      <td>20074</td>\n",
       "      <td>7232</td>\n",
       "      <td>NaN</td>\n",
       "      <td>15599</td>\n",
       "      <td>2849</td>\n",
       "      <td>NaN</td>\n",
       "      <td>NaN</td>\n",
       "      <td>NaN</td>\n",
       "      <td>NaN</td>\n",
       "    </tr>\n",
       "    <tr>\n",
       "      <th>mean</th>\n",
       "      <td>23685.500000</td>\n",
       "      <td>NaN</td>\n",
       "      <td>NaN</td>\n",
       "      <td>NaN</td>\n",
       "      <td>NaN</td>\n",
       "      <td>NaN</td>\n",
       "      <td>NaN</td>\n",
       "      <td>NaN</td>\n",
       "      <td>13.173884</td>\n",
       "      <td>NaN</td>\n",
       "      <td>NaN</td>\n",
       "      <td>40.483795</td>\n",
       "      <td>1324.915357</td>\n",
       "      <td>109.145313</td>\n",
       "      <td>0.237098</td>\n",
       "    </tr>\n",
       "    <tr>\n",
       "      <th>std</th>\n",
       "      <td>6466.467351</td>\n",
       "      <td>NaN</td>\n",
       "      <td>NaN</td>\n",
       "      <td>NaN</td>\n",
       "      <td>NaN</td>\n",
       "      <td>NaN</td>\n",
       "      <td>NaN</td>\n",
       "      <td>NaN</td>\n",
       "      <td>2.512451</td>\n",
       "      <td>NaN</td>\n",
       "      <td>NaN</td>\n",
       "      <td>12.370921</td>\n",
       "      <td>9227.771813</td>\n",
       "      <td>500.208904</td>\n",
       "      <td>0.425313</td>\n",
       "    </tr>\n",
       "    <tr>\n",
       "      <th>min</th>\n",
       "      <td>12486.000000</td>\n",
       "      <td>NaN</td>\n",
       "      <td>NaN</td>\n",
       "      <td>NaN</td>\n",
       "      <td>NaN</td>\n",
       "      <td>NaN</td>\n",
       "      <td>NaN</td>\n",
       "      <td>NaN</td>\n",
       "      <td>2.000000</td>\n",
       "      <td>NaN</td>\n",
       "      <td>NaN</td>\n",
       "      <td>1.000000</td>\n",
       "      <td>0.000000</td>\n",
       "      <td>0.000000</td>\n",
       "      <td>0.000000</td>\n",
       "    </tr>\n",
       "    <tr>\n",
       "      <th>25%</th>\n",
       "      <td>18085.750000</td>\n",
       "      <td>NaN</td>\n",
       "      <td>NaN</td>\n",
       "      <td>NaN</td>\n",
       "      <td>NaN</td>\n",
       "      <td>NaN</td>\n",
       "      <td>NaN</td>\n",
       "      <td>NaN</td>\n",
       "      <td>12.000000</td>\n",
       "      <td>NaN</td>\n",
       "      <td>NaN</td>\n",
       "      <td>40.000000</td>\n",
       "      <td>0.000000</td>\n",
       "      <td>0.000000</td>\n",
       "      <td>0.000000</td>\n",
       "    </tr>\n",
       "    <tr>\n",
       "      <th>50%</th>\n",
       "      <td>23685.500000</td>\n",
       "      <td>NaN</td>\n",
       "      <td>NaN</td>\n",
       "      <td>NaN</td>\n",
       "      <td>NaN</td>\n",
       "      <td>NaN</td>\n",
       "      <td>NaN</td>\n",
       "      <td>NaN</td>\n",
       "      <td>13.000000</td>\n",
       "      <td>NaN</td>\n",
       "      <td>NaN</td>\n",
       "      <td>40.000000</td>\n",
       "      <td>0.000000</td>\n",
       "      <td>0.000000</td>\n",
       "      <td>0.000000</td>\n",
       "    </tr>\n",
       "    <tr>\n",
       "      <th>75%</th>\n",
       "      <td>29285.250000</td>\n",
       "      <td>NaN</td>\n",
       "      <td>NaN</td>\n",
       "      <td>NaN</td>\n",
       "      <td>NaN</td>\n",
       "      <td>NaN</td>\n",
       "      <td>NaN</td>\n",
       "      <td>NaN</td>\n",
       "      <td>15.000000</td>\n",
       "      <td>NaN</td>\n",
       "      <td>NaN</td>\n",
       "      <td>45.000000</td>\n",
       "      <td>0.000000</td>\n",
       "      <td>0.000000</td>\n",
       "      <td>0.000000</td>\n",
       "    </tr>\n",
       "    <tr>\n",
       "      <th>max</th>\n",
       "      <td>34885.000000</td>\n",
       "      <td>NaN</td>\n",
       "      <td>NaN</td>\n",
       "      <td>NaN</td>\n",
       "      <td>NaN</td>\n",
       "      <td>NaN</td>\n",
       "      <td>NaN</td>\n",
       "      <td>NaN</td>\n",
       "      <td>21.000000</td>\n",
       "      <td>NaN</td>\n",
       "      <td>NaN</td>\n",
       "      <td>99.000000</td>\n",
       "      <td>122999.000000</td>\n",
       "      <td>5358.000000</td>\n",
       "      <td>1.000000</td>\n",
       "    </tr>\n",
       "  </tbody>\n",
       "</table>\n",
       "</div>"
      ],
      "text/plain": [
       "          CITIZEN_ID                    Name         Birthday  \\\n",
       "count   22400.000000                   22400            22400   \n",
       "unique           NaN                   16074            11257   \n",
       "top              NaN  Mr. Benjamin Underwood   August 15,2025   \n",
       "freq             NaN                       4                9   \n",
       "mean    23685.500000                     NaN              NaN   \n",
       "std      6466.467351                     NaN              NaN   \n",
       "min     12486.000000                     NaN              NaN   \n",
       "25%     18085.750000                     NaN              NaN   \n",
       "50%     23685.500000                     NaN              NaN   \n",
       "75%     29285.250000                     NaN              NaN   \n",
       "max     34885.000000                     NaN              NaN   \n",
       "\n",
       "       Native Continent Marital Status Lives with  Base Area  \\\n",
       "count             22400          22400      22400      22400   \n",
       "unique                5              7          6         40   \n",
       "top              Europe        Married       Wife  Northbury   \n",
       "freq              19111          10219       9012      20074   \n",
       "mean                NaN            NaN        NaN        NaN   \n",
       "std                 NaN            NaN        NaN        NaN   \n",
       "min                 NaN            NaN        NaN        NaN   \n",
       "25%                 NaN            NaN        NaN        NaN   \n",
       "50%                 NaN            NaN        NaN        NaN   \n",
       "75%                 NaN            NaN        NaN        NaN   \n",
       "max                 NaN            NaN        NaN        NaN   \n",
       "\n",
       "            Education Level  Years of Education           Employment Sector  \\\n",
       "count                 22400        22400.000000                       22400   \n",
       "unique                   16                 NaN                           9   \n",
       "top     Professional School                 NaN  Private Sector - Services    \n",
       "freq                   7232                 NaN                       15599   \n",
       "mean                    NaN           13.173884                         NaN   \n",
       "std                     NaN            2.512451                         NaN   \n",
       "min                     NaN            2.000000                         NaN   \n",
       "25%                     NaN           12.000000                         NaN   \n",
       "50%                     NaN           13.000000                         NaN   \n",
       "75%                     NaN           15.000000                         NaN   \n",
       "max                     NaN           21.000000                         NaN   \n",
       "\n",
       "             Role  Working Hours per week  Money Received  Ticket Price  \\\n",
       "count       22400            22400.000000    22400.000000  22400.000000   \n",
       "unique         15                     NaN             NaN           NaN   \n",
       "top     Professor                     NaN             NaN           NaN   \n",
       "freq         2849                     NaN             NaN           NaN   \n",
       "mean          NaN               40.483795     1324.915357    109.145313   \n",
       "std           NaN               12.370921     9227.771813    500.208904   \n",
       "min           NaN                1.000000        0.000000      0.000000   \n",
       "25%           NaN               40.000000        0.000000      0.000000   \n",
       "50%           NaN               40.000000        0.000000      0.000000   \n",
       "75%           NaN               45.000000        0.000000      0.000000   \n",
       "max           NaN               99.000000   122999.000000   5358.000000   \n",
       "\n",
       "              Income  \n",
       "count   22400.000000  \n",
       "unique           NaN  \n",
       "top              NaN  \n",
       "freq             NaN  \n",
       "mean        0.237098  \n",
       "std         0.425313  \n",
       "min         0.000000  \n",
       "25%         0.000000  \n",
       "50%         0.000000  \n",
       "75%         0.000000  \n",
       "max         1.000000  "
      ]
     },
     "execution_count": 10,
     "metadata": {},
     "output_type": "execute_result"
    }
   ],
   "source": [
    "train.describe(include=\"all\")"
   ]
  },
  {
   "cell_type": "markdown",
   "metadata": {
    "id": "E8EnmrypwX6Y"
   },
   "source": [
    "## Feature Engineering"
   ]
  },
  {
   "cell_type": "code",
   "execution_count": 11,
   "metadata": {
    "id": "OALGLoXq2mFm"
   },
   "outputs": [],
   "source": [
    "#create a Gender variable:\n",
    "# create a list of our conditions\n",
    "conditions = [\n",
    "    (train['Name'].str[:3] == \"Mr.\"),\n",
    "    (train['Name'].str[:4] == \"Mrs.\"),\n",
    "    (train['Name'].str[:4] == \"Miss\")\n",
    "    ]\n",
    "\n",
    "# create a list of the values we want to assign for each condition.\n",
    "#1 for male, 0 for female\n",
    "values = [1, 0, 0]\n",
    "\n",
    "# create a new column and use np.select to assign values to it using our lists as arguments\n",
    "train['Gender'] = np.select(conditions, values)"
   ]
  },
  {
   "cell_type": "code",
   "execution_count": 12,
   "metadata": {
    "id": "68zFjYWH4WVx"
   },
   "outputs": [],
   "source": [
    "#create Age variable:\n",
    "train['Birthday'].to_string\n",
    "train['Birthday_year'] = train['Birthday'].str[-4:]\n",
    "#because we are in the future we check the age of people in 2048\n",
    "train['Age'] = 2048 - train['Birthday_year'].astype(int)\n",
    "#create var Age\n",
    "train['Age']\n",
    "train.drop(['Birthday'], axis = 1, inplace = True)\n",
    "train = train.drop(['Birthday_year'], axis=1)"
   ]
  },
  {
   "cell_type": "code",
   "execution_count": 13,
   "metadata": {
    "id": "EFEREHYv5LrX"
   },
   "outputs": [],
   "source": [
    "#creat a GROUP variable:\n",
    "# create a list of our conditions\n",
    "conditions = [\n",
    "    (train['Money Received']>0),\n",
    "    (train['Ticket Price']>0),\n",
    "    ((train['Money Received']==0) & (train['Ticket Price']==0) )\n",
    "    ]\n",
    "\n",
    "# create a list of the values we want to assign for each condition\n",
    "values = [\"B\", \"C\", \"A\"]\n",
    "\n",
    "# create a new column and use np.select to assign values to it using our lists as arguments\n",
    "train['Group'] = np.select(conditions, values)"
   ]
  },
  {
   "cell_type": "markdown",
   "metadata": {
    "id": "fEa7E8GxSQ2j"
   },
   "source": [
    "## Data Visualizations\n"
   ]
  },
  {
   "cell_type": "code",
   "execution_count": 14,
   "metadata": {
    "id": "g_4zU0QeSQ2j"
   },
   "outputs": [],
   "source": [
    " metric_original = ['Years of Education','Working Hours per week', 'Money Received','Ticket Price',  'Age']"
   ]
  },
  {
   "cell_type": "code",
   "execution_count": 15,
   "metadata": {
    "colab": {
     "base_uri": "https://localhost:8080/",
     "height": 714
    },
    "id": "OQdHL8Z0SQ2k",
    "outputId": "580282c2-351e-4327-9ee9-799e49df4c3a"
   },
   "outputs": [
    {
     "data": {
      "text/plain": [
       "Text(0.5, 0.98, \"Numeric Variables' Histograms\")"
      ]
     },
     "execution_count": 15,
     "metadata": {},
     "output_type": "execute_result"
    },
    {
     "data": {
      "image/png": "[encoded data removed]",
      "text/plain": [
       "<Figure size 1440x792 with 6 Axes>"
      ]
     },
     "metadata": {},
     "output_type": "display_data"
    }
   ],
   "source": [
    "# All Numeric Variables' Histograms in one figure\n",
    "sns.set()\n",
    "\n",
    "# Prepare figure. Create individual axes where each histogram will be placed\n",
    "fig, axes = plt.subplots(2, ceil(len(metric_original) / 2), figsize=(20, 11))\n",
    "\n",
    "# Plot data\n",
    "# Iterate across axes objects and associate each histogram (hint: use the ax.hist() instead of plt.hist()):\n",
    "for ax, feat in zip(axes.flatten(), metric_original): # Notice the zip() function and flatten() method\n",
    "    ax.hist(train[feat], bins=30)\n",
    "    ax.set_title(feat, y=-0.13)\n",
    "    \n",
    "# Layout\n",
    "# Add a centered title to the figure:\n",
    "title = \"Numeric Variables' Histograms\"\n",
    "\n",
    "plt.suptitle(title)\n"
   ]
  },
  {
   "cell_type": "code",
   "execution_count": 16,
   "metadata": {
    "id": "fBIdyYi_SQ2l"
   },
   "outputs": [],
   "source": [
    "def bar_charts_categorical(df, feature, target):\n",
    "    cont_tab = pd.crosstab(df[feature], df[target], margins = True)\n",
    "    categories = cont_tab.index[:-1]\n",
    "        \n",
    "    fig = plt.figure(figsize=(15, 5))\n",
    "    \n",
    "    plt.subplot(121)\n",
    "    p1 = plt.bar(categories, cont_tab.iloc[:-1, 0].values, 0.55, color=\"gray\")\n",
    "    p2 = plt.bar(categories, cont_tab.iloc[:-1, 1].values, 0.55, bottom=cont_tab.iloc[:-1, 0], color=\"yellowgreen\")\n",
    "    plt.legend((p2[0], p1[0]), ('$y_i=1$', '$y_i=0$'))\n",
    "    plt.title(\"Frequency bar chart\")\n",
    "    plt.xlabel(feature)\n",
    "    plt.ylabel(\"$Frequency$\")\n",
    "    plt.xticks(rotation=90)\n",
    "\n",
    "    # auxiliary data for 122\n",
    "    obs_pct = np.array([np.divide(cont_tab.iloc[:-1, 0].values, cont_tab.iloc[:-1, 2].values), \n",
    "                        np.divide(cont_tab.iloc[:-1, 1].values, cont_tab.iloc[:-1, 2].values)])\n",
    "      \n",
    "    plt.subplot(122)\n",
    "    p1 = plt.bar(categories, obs_pct[0], 0.55, color=\"gray\")\n",
    "    p2 = plt.bar(categories, obs_pct[1], 0.55, bottom=obs_pct[0], color=\"yellowgreen\")\n",
    "    plt.legend((p2[0], p1[0]), ('$y_i=1$', '$y_i=0$'))\n",
    "    plt.title(\"Proportion bar chart\")\n",
    "    plt.xlabel(feature)\n",
    "    plt.ylabel(\"$p$\")\n",
    "    plt.xticks(rotation=90)\n",
    "\n",
    "    plt.show()"
   ]
  },
  {
   "cell_type": "code",
   "execution_count": 17,
   "metadata": {
    "colab": {
     "base_uri": "https://localhost:8080/",
     "height": 1000
    },
    "id": "iyQCoY0MSQ2l",
    "outputId": "dcf072d9-b499-43ef-93d7-c9a6bab0c5e1"
   },
   "outputs": [
    {
     "data": {
      "image/png": "[encoded data removed]",
      "text/plain": [
       "<Figure size 1080x360 with 2 Axes>"
      ]
     },
     "metadata": {},
     "output_type": "display_data"
    },
    {
     "data": {
      "image/png": "[encoded data removed]",
      "text/plain": [
       "<Figure size 1080x360 with 2 Axes>"
      ]
     },
     "metadata": {},
     "output_type": "display_data"
    },
    {
     "data": {
      "image/png": "[encoded data removed]",
      "text/plain": [
       "<Figure size 1080x360 with 2 Axes>"
      ]
     },
     "metadata": {},
     "output_type": "display_data"
    },
    {
     "data": {
      "image/png": "[encoded data removed]",
      "text/plain": [
       "<Figure size 1080x360 with 2 Axes>"
      ]
     },
     "metadata": {},
     "output_type": "display_data"
    },
    {
     "data": {
      "image/png": "[encoded data removed]",
      "text/plain": [
       "<Figure size 1080x360 with 2 Axes>"
      ]
     },
     "metadata": {},
     "output_type": "display_data"
    },
    {
     "data": {
      "image/png": "[encoded data removed]",
      "text/plain": [
       "<Figure size 1080x360 with 2 Axes>"
      ]
     },
     "metadata": {},
     "output_type": "display_data"
    },
    {
     "data": {
      "image/png": "[encoded data removed]",
      "text/plain": [
       "<Figure size 1080x360 with 2 Axes>"
      ]
     },
     "metadata": {},
     "output_type": "display_data"
    },
    {
     "data": {
      "image/png": "[encoded data removed]",
      "text/plain": [
       "<Figure size 1080x360 with 2 Axes>"
      ]
     },
     "metadata": {},
     "output_type": "display_data"
    },
    {
     "data": {
      "image/png": "[encoded data removed]",
      "text/plain": [
       "<Figure size 1080x360 with 2 Axes>"
      ]
     },
     "metadata": {},
     "output_type": "display_data"
    },
    {
     "data": {
      "image/png": "[encoded data removed]",
      "text/plain": [
       "<Figure size 1080x360 with 2 Axes>"
      ]
     },
     "metadata": {},
     "output_type": "display_data"
    }
   ],
   "source": [
    "#categorical features plots\n",
    "nmf = ['Native Continent', 'Education Level', 'Employment Sector', 'Role', 'Marital Status', 'Lives with', 'Gender', 'Base Area'\\\n",
    "      ,'Group', 'Income']\n",
    "for i in nmf:\n",
    "    bar_charts_categorical(train, i, 'Income')"
   ]
  },
  {
   "cell_type": "markdown",
   "metadata": {
    "id": "i-6meKFovjDR"
   },
   "source": [
    "## Missing Values"
   ]
  },
  {
   "cell_type": "code",
   "execution_count": 18,
   "metadata": {
    "colab": {
     "base_uri": "https://localhost:8080/"
    },
    "id": "1dV2Gph8rr2h",
    "outputId": "870c4210-e0e9-4027-f98b-6db16d03b1e6"
   },
   "outputs": [
    {
     "data": {
      "text/plain": [
       "CITIZEN_ID                   0\n",
       "Name                         0\n",
       "Native Continent             0\n",
       "Marital Status               0\n",
       "Lives with                   0\n",
       "Base Area                  395\n",
       "Education Level              0\n",
       "Years of Education           0\n",
       "Employment Sector         1264\n",
       "Role                      1271\n",
       "Working Hours per week       0\n",
       "Money Received               0\n",
       "Ticket Price                 0\n",
       "Income                       0\n",
       "Gender                       0\n",
       "Age                          0\n",
       "Group                        0\n",
       "dtype: int64"
      ]
     },
     "execution_count": 18,
     "metadata": {},
     "output_type": "execute_result"
    }
   ],
   "source": [
    "#replace ? with nan so it's easier to analyse the data\n",
    "train.replace(r'?', np.nan, inplace = True)\n",
    "test.replace(r'?', np.nan, inplace = True)\n",
    "train.isna().sum()"
   ]
  },
  {
   "cell_type": "markdown",
   "metadata": {
    "id": "0QLwz8nfsOCJ"
   },
   "source": [
    "### Clustering for NAN"
   ]
  },
  {
   "cell_type": "code",
   "execution_count": 19,
   "metadata": {
    "id": "m4-y1RadxKca"
   },
   "outputs": [],
   "source": [
    "lista = train[['Years of Education', 'Working Hours per week','Age']]"
   ]
  },
  {
   "cell_type": "code",
   "execution_count": 20,
   "metadata": {
    "id": "odL7pWRTsOCL"
   },
   "outputs": [],
   "source": [
    "range_clusters = range(1,15)\n",
    "inertia = []\n",
    "for n_clus in range_clusters:  # iterate over desired ncluster range\n",
    "    kmclust = KMeans(n_clusters=n_clus, init='k-means++', n_init=15, random_state=1)\n",
    "    kmclust.fit(lista)\n",
    "    inertia.append(kmclust.inertia_)"
   ]
  },
  {
   "cell_type": "code",
   "execution_count": 21,
   "metadata": {
    "colab": {
     "base_uri": "https://localhost:8080/",
     "height": 357
    },
    "id": "wca6whcasOCL",
    "outputId": "d954fffe-de78-4e79-ea9d-08dc8c5c4c4e"
   },
   "outputs": [
    {
     "data": {
      "image/png": "[encoded data removed]",
      "text/plain": [
       "<Figure size 648x360 with 1 Axes>"
      ]
     },
     "metadata": {},
     "output_type": "display_data"
    }
   ],
   "source": [
    "# The inertia plot\n",
    "plt.figure(figsize=(9,5))\n",
    "plt.plot(inertia)\n",
    "plt.ylabel(\"Inertia: SSw\")\n",
    "plt.xlabel(\"Number of clusters\")\n",
    "plt.title(\"Inertia plot over clusters\", size=15)\n",
    "plt.show()"
   ]
  },
  {
   "cell_type": "code",
   "execution_count": 22,
   "metadata": {
    "colab": {
     "base_uri": "https://localhost:8080/"
    },
    "id": "80sK7hWosOCM",
    "outputId": "0bd84025-e1e7-403e-e515-aa4c9076c0b2"
   },
   "outputs": [
    {
     "data": {
      "text/plain": [
       "array([1, 0, 0, ..., 0, 2, 0])"
      ]
     },
     "execution_count": 22,
     "metadata": {},
     "output_type": "execute_result"
    }
   ],
   "source": [
    "number_clusters = 4\n",
    "kmclust = KMeans(n_clusters=number_clusters, init='k-means++', n_init=15, random_state=1)\n",
    "km_labels = kmclust.fit_predict(lista)\n",
    "km_labels"
   ]
  },
  {
   "cell_type": "code",
   "execution_count": 23,
   "metadata": {
    "id": "vObcvQqDsOCN"
   },
   "outputs": [],
   "source": [
    "df_concat = pd.concat((train.copy(), pd.Series(km_labels, name='labels')), axis=1)\n",
    "aa = df_concat.groupby('labels').mean()\n",
    "# aa"
   ]
  },
  {
   "cell_type": "code",
   "execution_count": 24,
   "metadata": {
    "id": "n4O1b02Wt9Uv"
   },
   "outputs": [],
   "source": [
    "# df_concat.groupby('labels').count()['CITIZEN_ID']"
   ]
  },
  {
   "cell_type": "code",
   "execution_count": 25,
   "metadata": {
    "colab": {
     "base_uri": "https://localhost:8080/"
    },
    "id": "VLXXnitJsOCN",
    "outputId": "7f58ab8a-4eb4-4db4-c6d1-4159493e4390"
   },
   "outputs": [
    {
     "data": {
      "text/plain": [
       "labels  Role                          \n",
       "0       Repair & constructions            1510\n",
       "        Administratives                   1359\n",
       "        Professor                         1228\n",
       "        Management                        1097\n",
       "        Sales                             1048\n",
       "        Other services                     975\n",
       "        Machine Operators & Inspectors     805\n",
       "        Cleaners & Handlers                532\n",
       "        Transports                         466\n",
       "        IT                                 353\n",
       "        Agriculture and Fishing            231\n",
       "        Security                           229\n",
       "        Household Services                  31\n",
       "        Army                                 4\n",
       "1       Management                         947\n",
       "        Professor                          893\n",
       "        Repair & constructions             876\n",
       "        Administratives                    806\n",
       "        Sales                              651\n",
       "        Other services                     589\n",
       "        Machine Operators & Inspectors     443\n",
       "        Transports                         318\n",
       "        Agriculture and Fishing            203\n",
       "        IT                                 175\n",
       "        Cleaners & Handlers                160\n",
       "        Security                           134\n",
       "        Household Services                  42\n",
       "        Army                                 1\n",
       "2       Management                         691\n",
       "        Professor                          531\n",
       "        Sales                              440\n",
       "        Repair & constructions             333\n",
       "        Transports                         239\n",
       "        Agriculture and Fishing            230\n",
       "        Other services                     121\n",
       "        Administratives                    116\n",
       "        Machine Operators & Inspectors      76\n",
       "        Security                            73\n",
       "        Cleaners & Handlers                 63\n",
       "        IT                                  42\n",
       "        Household Services                   6\n",
       "3       Other services                     602\n",
       "        Sales                              392\n",
       "        Administratives                    327\n",
       "        Professor                          197\n",
       "        Cleaners & Handlers                167\n",
       "        Repair & constructions              76\n",
       "        Management                          62\n",
       "        Machine Operators & Inspectors      60\n",
       "        IT                                  56\n",
       "        Transports                          48\n",
       "        Agriculture and Fishing             38\n",
       "        Household Services                  23\n",
       "        Security                            14\n",
       "Name: Role, dtype: int64"
      ]
     },
     "execution_count": 25,
     "metadata": {},
     "output_type": "execute_result"
    }
   ],
   "source": [
    "#finding the most common value per label\n",
    "df_concat.groupby('labels')['Role'].value_counts()"
   ]
  },
  {
   "cell_type": "markdown",
   "metadata": {
    "id": "rhUCMZmCsOCN"
   },
   "source": [
    "### Replacing the nans with the most common value in a cluster"
   ]
  },
  {
   "cell_type": "code",
   "execution_count": 26,
   "metadata": {
    "colab": {
     "base_uri": "https://localhost:8080/"
    },
    "id": "sTSOexEpsOCO",
    "outputId": "e44d556d-f18d-43c4-d0e3-656326f80a5a"
   },
   "outputs": [
    {
     "name": "stderr",
     "output_type": "stream",
     "text": [
      "C:\\Users\\saram\\anaconda3\\envs\\ProgrammingFDS\\lib\\site-packages\\pandas\\core\\series.py:4563: SettingWithCopyWarning: \n",
      "A value is trying to be set on a copy of a slice from a DataFrame\n",
      "\n",
      "See the caveats in the documentation: https://pandas.pydata.org/pandas-docs/stable/user_guide/indexing.html#returning-a-view-versus-a-copy\n",
      "  return super().replace(\n",
      "C:\\Users\\saram\\anaconda3\\envs\\ProgrammingFDS\\lib\\site-packages\\pandas\\core\\series.py:4563: SettingWithCopyWarning: \n",
      "A value is trying to be set on a copy of a slice from a DataFrame\n",
      "\n",
      "See the caveats in the documentation: https://pandas.pydata.org/pandas-docs/stable/user_guide/indexing.html#returning-a-view-versus-a-copy\n",
      "  return super().replace(\n",
      "C:\\Users\\saram\\anaconda3\\envs\\ProgrammingFDS\\lib\\site-packages\\pandas\\core\\series.py:4563: SettingWithCopyWarning: \n",
      "A value is trying to be set on a copy of a slice from a DataFrame\n",
      "\n",
      "See the caveats in the documentation: https://pandas.pydata.org/pandas-docs/stable/user_guide/indexing.html#returning-a-view-versus-a-copy\n",
      "  return super().replace(\n",
      "C:\\Users\\saram\\anaconda3\\envs\\ProgrammingFDS\\lib\\site-packages\\pandas\\core\\series.py:4563: SettingWithCopyWarning: \n",
      "A value is trying to be set on a copy of a slice from a DataFrame\n",
      "\n",
      "See the caveats in the documentation: https://pandas.pydata.org/pandas-docs/stable/user_guide/indexing.html#returning-a-view-versus-a-copy\n",
      "  return super().replace(\n"
     ]
    }
   ],
   "source": [
    "#fill missing value with their neighbours\n",
    "df_0 = df_concat[df_concat['labels'] == 0]\n",
    "df_0['Role'].replace(np.nan, 'Repair & constructions',regex=True, inplace= True)\n",
    "df_1 = df_concat[(df_concat['labels'] == 1)]\n",
    "df_1['Role'].replace(np.nan, 'Management',regex=True, inplace= True)\n",
    "df_2 = df_concat[df_concat['labels'] == 2]\n",
    "df_2['Role'].replace(np.nan, 'Management',regex=True, inplace= True)\n",
    "df_3 = df_concat[df_concat['labels'] == 3]\n",
    "df_3['Role'].replace(np.nan, 'Other services',regex=True, inplace= True)"
   ]
  },
  {
   "cell_type": "code",
   "execution_count": 27,
   "metadata": {
    "id": "rymEUdGfsOCO"
   },
   "outputs": [],
   "source": [
    "train = pd.concat([df_0,df_1,df_2, df_3])\n",
    "#after having filled in the NaNs, drop the labels column\n",
    "train = train.drop(['labels'], axis=1)"
   ]
  },
  {
   "cell_type": "code",
   "execution_count": 28,
   "metadata": {
    "colab": {
     "base_uri": "https://localhost:8080/"
    },
    "id": "e8XtSmXesOCO",
    "outputId": "037f1126-a381-4266-f4e3-c7b64ad3ff8f"
   },
   "outputs": [
    {
     "data": {
      "text/plain": [
       "Private Sector - Services     15599\n",
       "Self-Employed (Individual)     1764\n",
       "Public Sector - Others         1419\n",
       "Private Sector - Others         880\n",
       "Self-Employed (Company)         763\n",
       "Public Sector - Government      692\n",
       "Unemployed                       12\n",
       "Never Worked                      7\n",
       "Name: Employment Sector, dtype: int64"
      ]
     },
     "execution_count": 28,
     "metadata": {},
     "output_type": "execute_result"
    }
   ],
   "source": [
    "#find the mode value of Employment Sector\n",
    "train['Employment Sector'].value_counts()"
   ]
  },
  {
   "cell_type": "code",
   "execution_count": 28,
   "metadata": {
    "colab": {
     "base_uri": "https://localhost:8080/"
    },
    "id": "nwxsC8NbsOCP",
    "outputId": "5ca2e435-26f1-4bb9-8d55-2bbb73ec2cce"
   },
   "outputs": [
    {
     "data": {
      "text/plain": [
       "Northbury        20074\n",
       "Fanfoss            443\n",
       "Alverton           135\n",
       "Butterpond          96\n",
       "Watford             83\n",
       "Auchenshuggle       80\n",
       "Pran                77\n",
       "Sharnwick           70\n",
       "Aroonshire          64\n",
       "Laewaes             63\n",
       "Fool's March        59\n",
       "Wigston             56\n",
       "Eelry               56\n",
       "Sharpton            54\n",
       "Lanercost           52\n",
       "Cherrytown          51\n",
       "Aerilon             45\n",
       "King's Watch        44\n",
       "Bellmoral           40\n",
       "Kirkwall            40\n",
       "Knife's Edge        37\n",
       "Laenteglos          32\n",
       "Tranmere            30\n",
       "Drumchapel          25\n",
       "Aberuthven          23\n",
       "Orilon              22\n",
       "Kald                19\n",
       "Carlisle            18\n",
       "MillerVille         17\n",
       "Willesden           16\n",
       "Lewes               16\n",
       "Conriston           12\n",
       "Marnmouth           11\n",
       "Middlesbrough       10\n",
       "Mensfield            9\n",
       "Woodpine             9\n",
       "Redwick Bush         8\n",
       "Bellenau             8\n",
       "Ironforge            1\n",
       "Name: Base Area, dtype: int64"
      ]
     },
     "execution_count": 28,
     "metadata": {
      "tags": []
     },
     "output_type": "execute_result"
    }
   ],
   "source": [
    "#find the mode value of Base Area\n",
    "train['Base Area'].value_counts()"
   ]
  },
  {
   "cell_type": "code",
   "execution_count": 29,
   "metadata": {
    "id": "NBj3mHYzsOCP"
   },
   "outputs": [],
   "source": [
    "#fill missing value with the modes\n",
    "train['Employment Sector'].replace(np.nan, 'Private Sector - Services',regex=True, inplace= True)\n",
    "train['Base Area'].replace(np.nan, 'Northbury',regex=True, inplace= True)"
   ]
  },
  {
   "cell_type": "markdown",
   "metadata": {
    "id": "ZGj1GF3xXLeJ"
   },
   "source": [
    "## Outlier Removal"
   ]
  },
  {
   "cell_type": "code",
   "execution_count": 31,
   "metadata": {
    "colab": {
     "base_uri": "https://localhost:8080/",
     "height": 284
    },
    "id": "gELtPJXGXLeV",
    "outputId": "6789d42a-17be-487c-fc14-d9767014d45c"
   },
   "outputs": [
    {
     "data": {
      "text/html": [
       "<div>\n",
       "<style scoped>\n",
       "    .dataframe tbody tr th:only-of-type {\n",
       "        vertical-align: middle;\n",
       "    }\n",
       "\n",
       "    .dataframe tbody tr th {\n",
       "        vertical-align: top;\n",
       "    }\n",
       "\n",
       "    .dataframe thead th {\n",
       "        text-align: right;\n",
       "    }\n",
       "</style>\n",
       "<table border=\"1\" class=\"dataframe\">\n",
       "  <thead>\n",
       "    <tr style=\"text-align: right;\">\n",
       "      <th></th>\n",
       "      <th>Years of Education</th>\n",
       "      <th>Working Hours per week</th>\n",
       "      <th>Money Received</th>\n",
       "      <th>Ticket Price</th>\n",
       "      <th>Age</th>\n",
       "    </tr>\n",
       "  </thead>\n",
       "  <tbody>\n",
       "    <tr>\n",
       "      <th>count</th>\n",
       "      <td>22400.000000</td>\n",
       "      <td>22400.000000</td>\n",
       "      <td>22400.000000</td>\n",
       "      <td>22400.000000</td>\n",
       "      <td>22400.000000</td>\n",
       "    </tr>\n",
       "    <tr>\n",
       "      <th>mean</th>\n",
       "      <td>13.173884</td>\n",
       "      <td>40.483795</td>\n",
       "      <td>1324.915357</td>\n",
       "      <td>109.145313</td>\n",
       "      <td>38.584866</td>\n",
       "    </tr>\n",
       "    <tr>\n",
       "      <th>std</th>\n",
       "      <td>2.512451</td>\n",
       "      <td>12.370921</td>\n",
       "      <td>9227.771813</td>\n",
       "      <td>500.208904</td>\n",
       "      <td>13.651578</td>\n",
       "    </tr>\n",
       "    <tr>\n",
       "      <th>min</th>\n",
       "      <td>2.000000</td>\n",
       "      <td>1.000000</td>\n",
       "      <td>0.000000</td>\n",
       "      <td>0.000000</td>\n",
       "      <td>17.000000</td>\n",
       "    </tr>\n",
       "    <tr>\n",
       "      <th>25%</th>\n",
       "      <td>12.000000</td>\n",
       "      <td>40.000000</td>\n",
       "      <td>0.000000</td>\n",
       "      <td>0.000000</td>\n",
       "      <td>28.000000</td>\n",
       "    </tr>\n",
       "    <tr>\n",
       "      <th>50%</th>\n",
       "      <td>13.000000</td>\n",
       "      <td>40.000000</td>\n",
       "      <td>0.000000</td>\n",
       "      <td>0.000000</td>\n",
       "      <td>37.000000</td>\n",
       "    </tr>\n",
       "    <tr>\n",
       "      <th>75%</th>\n",
       "      <td>15.000000</td>\n",
       "      <td>45.000000</td>\n",
       "      <td>0.000000</td>\n",
       "      <td>0.000000</td>\n",
       "      <td>48.000000</td>\n",
       "    </tr>\n",
       "    <tr>\n",
       "      <th>max</th>\n",
       "      <td>21.000000</td>\n",
       "      <td>99.000000</td>\n",
       "      <td>122999.000000</td>\n",
       "      <td>5358.000000</td>\n",
       "      <td>90.000000</td>\n",
       "    </tr>\n",
       "  </tbody>\n",
       "</table>\n",
       "</div>"
      ],
      "text/plain": [
       "       Years of Education  Working Hours per week  ...  Ticket Price           Age\n",
       "count        22400.000000            22400.000000  ...  22400.000000  22400.000000\n",
       "mean            13.173884               40.483795  ...    109.145313     38.584866\n",
       "std              2.512451               12.370921  ...    500.208904     13.651578\n",
       "min              2.000000                1.000000  ...      0.000000     17.000000\n",
       "25%             12.000000               40.000000  ...      0.000000     28.000000\n",
       "50%             13.000000               40.000000  ...      0.000000     37.000000\n",
       "75%             15.000000               45.000000  ...      0.000000     48.000000\n",
       "max             21.000000               99.000000  ...   5358.000000     90.000000\n",
       "\n",
       "[8 rows x 5 columns]"
      ]
     },
     "execution_count": 31,
     "metadata": {
      "tags": []
     },
     "output_type": "execute_result"
    }
   ],
   "source": [
    "train[metric_original].describe()"
   ]
  },
  {
   "cell_type": "code",
   "execution_count": null,
   "metadata": {
    "id": "0Wy6WO4hXLeX"
   },
   "outputs": [],
   "source": [
    "# #checking outliers using Interquartile Range\n",
    "\n",
    "# q25 = train.quantile(.25)\n",
    "# q75 = train.quantile(.75)\n",
    "# iqr = (q75 - q25)\n",
    "\n",
    "# upper_lim = q75 + 11 * iqr\n",
    "# lower_lim = q25 - 11 * iqr\n",
    "\n",
    "# filters = []\n",
    "# for metric in metric_original:\n",
    "#     llim = lower_lim[metric]\n",
    "#     ulim = upper_lim[metric]\n",
    "#     filters.append(train[metric].between(llim, ulim, inclusive=True))\n",
    "\n",
    "# filters = pd.Series(np.all(filters, 0))\n",
    "# train_2 = train[filters] \n",
    "# print('Percentage of data kept after removing outliers:', np.round(train_2.shape[0] / train.shape[0], 4))\n",
    "\n",
    "# #too many 12.9%"
   ]
  },
  {
   "cell_type": "code",
   "execution_count": null,
   "metadata": {
    "id": "6Ny8j4XKXLeY"
   },
   "outputs": [],
   "source": [
    "# #checking outliers using Local Outlier Factor\n",
    "# clf = LocalOutlierFactor(n_neighbors=1)\n",
    "# preds = clf.fit_predict(train[metric_original])\n",
    "# unique, counts = np.unique(preds, return_counts=True)\n",
    "# dict(zip(unique, counts))\n",
    "\n",
    "# #too many 9.6% (2158/22400)"
   ]
  },
  {
   "cell_type": "code",
   "execution_count": null,
   "metadata": {
    "id": "1pPL9S9rXLeY"
   },
   "outputs": [],
   "source": [
    "# #checking outliers using Isolation Forest\n",
    "\n",
    "# clf = IsolationForest( behaviour = 'new', max_samples=100, random_state = 10, contamination= 'auto')\n",
    "# preds = clf.fit_predict(train[metric_original])\n",
    "# unique, counts = np.unique(preds, return_counts=True)\n",
    "# dict(zip(unique, counts))\n",
    "# # -1 are outliers, 1 are not\n",
    "\n",
    "# #too many 15% (3393/22400)"
   ]
  },
  {
   "cell_type": "code",
   "execution_count": 39,
   "metadata": {
    "colab": {
     "base_uri": "https://localhost:8080/",
     "height": 917
    },
    "id": "ygBk-CMuXLeZ",
    "outputId": "30a5d057-e0d0-4c4a-9a3f-8779cc59b570"
   },
   "outputs": [
    {
     "name": "stderr",
     "output_type": "stream",
     "text": [
      "/usr/local/lib/python3.6/dist-packages/seaborn/_decorators.py:43: FutureWarning: Pass the following variable as a keyword arg: x. From version 0.12, the only valid positional argument will be `data`, and passing other arguments without an explicit keyword will result in an error or misinterpretation.\n",
      "  FutureWarning\n",
      "/usr/local/lib/python3.6/dist-packages/seaborn/_decorators.py:43: FutureWarning: Pass the following variable as a keyword arg: x. From version 0.12, the only valid positional argument will be `data`, and passing other arguments without an explicit keyword will result in an error or misinterpretation.\n",
      "  FutureWarning\n",
      "/usr/local/lib/python3.6/dist-packages/seaborn/_decorators.py:43: FutureWarning: Pass the following variable as a keyword arg: x. From version 0.12, the only valid positional argument will be `data`, and passing other arguments without an explicit keyword will result in an error or misinterpretation.\n",
      "  FutureWarning\n",
      "/usr/local/lib/python3.6/dist-packages/seaborn/_decorators.py:43: FutureWarning: Pass the following variable as a keyword arg: x. From version 0.12, the only valid positional argument will be `data`, and passing other arguments without an explicit keyword will result in an error or misinterpretation.\n",
      "  FutureWarning\n",
      "/usr/local/lib/python3.6/dist-packages/seaborn/_decorators.py:43: FutureWarning: Pass the following variable as a keyword arg: x. From version 0.12, the only valid positional argument will be `data`, and passing other arguments without an explicit keyword will result in an error or misinterpretation.\n",
      "  FutureWarning\n"
     ]
    },
    {
     "data": {
      "image/png": "[encoded data removed]",
      "text/plain": [
       "<Figure size 1440x792 with 6 Axes>"
      ]
     },
     "metadata": {
      "tags": []
     },
     "output_type": "display_data"
    }
   ],
   "source": [
    "#checking outliers using common sense and visualizations of distributions\n",
    "\n",
    "\n",
    "# All Metric Variables' Box Plots in one figure\n",
    "sns.set()\n",
    "\n",
    "# Prepare figure. Create individual axes where each box plot will be placed\n",
    "fig, axes = plt.subplots(2,ceil(len(metric_original) / 2), figsize=(20, 11))\n",
    "\n",
    "# Plot data\n",
    "# Iterate across axes objects and associate each box plot (hint: use the ax argument):\n",
    "for ax, feat in zip(axes.flatten(), metric_original): # Notice the zip() function and flatten() method\n",
    "    sns.boxplot(train[feat], ax=ax)\n",
    "    \n",
    "# Layout\n",
    "# Add a centered title to the figure:\n",
    "title = \"Metric Variables' Box Plots\"\n",
    "\n",
    "plt.suptitle(title)\n",
    "\n",
    "plt.show()"
   ]
  },
  {
   "cell_type": "code",
   "execution_count": 40,
   "metadata": {
    "colab": {
     "base_uri": "https://localhost:8080/"
    },
    "id": "gTfe0zx0XLea",
    "outputId": "86bca057-8da9-482d-a784-d48f35de2a20"
   },
   "outputs": [
    {
     "data": {
      "text/plain": [
       "0.0029464285714285716"
      ]
     },
     "execution_count": 40,
     "metadata": {
      "tags": []
     },
     "output_type": "execute_result"
    }
   ],
   "source": [
    "#looking at the Age boxplot, there seems to be a lot of outliers past the \n",
    "#upper bound of the interquartile range, thus let's check them (age>80)\n",
    "\n",
    "#checking the proportion of old seniors in the Age column\n",
    "proportion1=len(train[train['Age']>80])/len(train)\n",
    "proportion1\n"
   ]
  },
  {
   "cell_type": "code",
   "execution_count": null,
   "metadata": {
    "id": "XmJ8uxDrXLea"
   },
   "outputs": [],
   "source": [
    "# #Further analysis to be sure...\n",
    "\n",
    "# #These are probably mistakes because someone who is older than 80 wouldn't\n",
    "# #be paid by the govn to move there...additionally, they wouldn't be working 50\n",
    "# #hours per week in labour work such as construction\n",
    "# train.loc[(train['Age']>80) & (train['Money Received']>0)]\n",
    "\n",
    "# #Thus it is safe to drop them"
   ]
  },
  {
   "cell_type": "code",
   "execution_count": null,
   "metadata": {
    "id": "aGxCRlKVXLeb"
   },
   "outputs": [],
   "source": [
    "# #Further analysis to be sure...\n",
    "\n",
    "# #These would make sense as even though they are >80 years old, they have\n",
    "# #a very good job and are probably able to pay to go to the planet\n",
    "\n",
    "# train.loc[(train['Age']>80) & (train['Ticket Price']>0)] \n",
    "\n",
    "# #Thus, we will NOT drop them"
   ]
  },
  {
   "cell_type": "code",
   "execution_count": 30,
   "metadata": {
    "colab": {
     "base_uri": "https://localhost:8080/"
    },
    "id": "AHhlMPuPibNC",
    "outputId": "8a4d68ae-4cb8-4eec-824f-848308335947"
   },
   "outputs": [
    {
     "data": {
      "text/plain": [
       "(22339, 17)"
      ]
     },
     "execution_count": 30,
     "metadata": {},
     "output_type": "execute_result"
    }
   ],
   "source": [
    "#Note: >80 is outside our upper bound in the boxplot\n",
    "\n",
    "#The purpose of this tax is to keep the planet viable, and so it does not\n",
    "#make sense to bring very old seniors to the planet as they would just be an\n",
    "#economic load on it. \n",
    "#Thus, given the objective in this case, and the low proportion of old seniors \n",
    "#(>80) in the dataset, we can safely consider them as outliers to drop.\n",
    "#(except the high-paid professors, managers etc who paid to be there as they seem plausible)\n",
    "\n",
    "old_poor = train.loc[(train['Age']>80) & (train['Ticket Price']==0)].index\n",
    "\n",
    "train_cleaned = train.drop(old_poor,axis=0)\n",
    "train_cleaned.shape"
   ]
  },
  {
   "cell_type": "code",
   "execution_count": 31,
   "metadata": {
    "colab": {
     "base_uri": "https://localhost:8080/"
    },
    "id": "Qw7nLQdWXLeb",
    "outputId": "69fc854a-a960-4651-be19-c8493feb1cc7"
   },
   "outputs": [
    {
     "data": {
      "text/plain": [
       "0.03504464285714286"
      ]
     },
     "execution_count": 31,
     "metadata": {},
     "output_type": "execute_result"
    }
   ],
   "source": [
    "#working 60 hours per week means 12 hours per day all 5 working days, or \n",
    "#8.6 hours per day all 7 days which is absurd\n",
    "\n",
    "#checking the proportion of >60 hours in the Working Hours per week column\n",
    "proportion2=len(train_cleaned[train_cleaned['Working Hours per week']>60])/len(train)\n",
    "proportion2\n"
   ]
  },
  {
   "cell_type": "code",
   "execution_count": 32,
   "metadata": {
    "colab": {
     "base_uri": "https://localhost:8080/"
    },
    "id": "nvqb7SG-ko_m",
    "outputId": "8bebc6be-d23d-488a-94dd-78cd3e3fb71c"
   },
   "outputs": [
    {
     "data": {
      "text/plain": [
       "(21554, 17)"
      ]
     },
     "execution_count": 32,
     "metadata": {},
     "output_type": "execute_result"
    }
   ],
   "source": [
    "#Note: >60 is outside our upper bound in the boxplot\n",
    "\n",
    "#The purpose of this tax is to keep the planet viable, and so this should mean\n",
    "#avoiding illegal exploitation of people, and ensuring these people can stay\n",
    "#healthy, alive, and productive by not being over worked.\n",
    "#Thus, given the objective, and the low proportion of people who work such a \n",
    "#high number of hours (extreme), we can safely consider them as outliers to drop.\n",
    "\n",
    "overworked = train_cleaned.loc[train_cleaned['Working Hours per week']>60].index\n",
    "\n",
    "train_cleaned = train_cleaned.drop(overworked,axis=0)\n",
    "train_cleaned.shape"
   ]
  },
  {
   "cell_type": "code",
   "execution_count": 33,
   "metadata": {
    "colab": {
     "base_uri": "https://localhost:8080/"
    },
    "id": "QTivryo-lLVG",
    "outputId": "f1d997a2-b182-44e9-e0e2-5288dedafb3d"
   },
   "outputs": [
    {
     "data": {
      "text/plain": [
       "0.016785714285714286"
      ]
     },
     "execution_count": 33,
     "metadata": {},
     "output_type": "execute_result"
    }
   ],
   "source": [
    "#looking at the Years of Education boxplot, there seems to be a lot of outliers \n",
    "#past the lower bound of the interquartile range, thus let's check them (<8)\n",
    "\n",
    "#proportion of people with <Middle School-2nd Cycle level of education \n",
    "proportion3=len(train_cleaned[train_cleaned['Years of Education']<8])/len(train)\n",
    "proportion3\n",
    "\n",
    "#if a person did not get to Grade 2, that means they cannot read and write"
   ]
  },
  {
   "cell_type": "code",
   "execution_count": 34,
   "metadata": {
    "id": "r_t0KXWjXLeb"
   },
   "outputs": [
    {
     "data": {
      "text/html": [
       "<div>\n",
       "<style scoped>\n",
       "    .dataframe tbody tr th:only-of-type {\n",
       "        vertical-align: middle;\n",
       "    }\n",
       "\n",
       "    .dataframe tbody tr th {\n",
       "        vertical-align: top;\n",
       "    }\n",
       "\n",
       "    .dataframe thead th {\n",
       "        text-align: right;\n",
       "    }\n",
       "</style>\n",
       "<table border=\"1\" class=\"dataframe\">\n",
       "  <thead>\n",
       "    <tr style=\"text-align: right;\">\n",
       "      <th></th>\n",
       "      <th>CITIZEN_ID</th>\n",
       "      <th>Name</th>\n",
       "      <th>Native Continent</th>\n",
       "      <th>Marital Status</th>\n",
       "      <th>Lives with</th>\n",
       "      <th>Base Area</th>\n",
       "      <th>Education Level</th>\n",
       "      <th>Years of Education</th>\n",
       "      <th>Employment Sector</th>\n",
       "      <th>Role</th>\n",
       "      <th>Working Hours per week</th>\n",
       "      <th>Money Received</th>\n",
       "      <th>Ticket Price</th>\n",
       "      <th>Income</th>\n",
       "      <th>Gender</th>\n",
       "      <th>Age</th>\n",
       "      <th>Group</th>\n",
       "    </tr>\n",
       "  </thead>\n",
       "  <tbody>\n",
       "    <tr>\n",
       "      <th>1680</th>\n",
       "      <td>14166</td>\n",
       "      <td>Mr. Jonathan Clarkson</td>\n",
       "      <td>Oceania</td>\n",
       "      <td>Married</td>\n",
       "      <td>Wife</td>\n",
       "      <td>Fanfoss</td>\n",
       "      <td>Middle School - 1st Cycle</td>\n",
       "      <td>6</td>\n",
       "      <td>Private Sector - Services</td>\n",
       "      <td>Other services</td>\n",
       "      <td>40</td>\n",
       "      <td>4999</td>\n",
       "      <td>0</td>\n",
       "      <td>0</td>\n",
       "      <td>1</td>\n",
       "      <td>40</td>\n",
       "      <td>B</td>\n",
       "    </tr>\n",
       "    <tr>\n",
       "      <th>1869</th>\n",
       "      <td>14355</td>\n",
       "      <td>Mr. Gavin Hughes</td>\n",
       "      <td>Europe</td>\n",
       "      <td>Married</td>\n",
       "      <td>Wife</td>\n",
       "      <td>Fanfoss</td>\n",
       "      <td>Middle School - 1st Cycle</td>\n",
       "      <td>6</td>\n",
       "      <td>Private Sector - Services</td>\n",
       "      <td>Agriculture and Fishing</td>\n",
       "      <td>40</td>\n",
       "      <td>4196</td>\n",
       "      <td>0</td>\n",
       "      <td>0</td>\n",
       "      <td>1</td>\n",
       "      <td>41</td>\n",
       "      <td>B</td>\n",
       "    </tr>\n",
       "    <tr>\n",
       "      <th>12275</th>\n",
       "      <td>24761</td>\n",
       "      <td>Mr. Dominic Marshall</td>\n",
       "      <td>Europe</td>\n",
       "      <td>Married</td>\n",
       "      <td>Wife</td>\n",
       "      <td>Fanfoss</td>\n",
       "      <td>Middle School - 1st Cycle</td>\n",
       "      <td>6</td>\n",
       "      <td>Private Sector - Services</td>\n",
       "      <td>Machine Operators &amp; Inspectors</td>\n",
       "      <td>40</td>\n",
       "      <td>8977</td>\n",
       "      <td>0</td>\n",
       "      <td>1</td>\n",
       "      <td>1</td>\n",
       "      <td>36</td>\n",
       "      <td>B</td>\n",
       "    </tr>\n",
       "    <tr>\n",
       "      <th>18685</th>\n",
       "      <td>31171</td>\n",
       "      <td>Mr. Evan Tucker</td>\n",
       "      <td>Europe</td>\n",
       "      <td>Married</td>\n",
       "      <td>Wife</td>\n",
       "      <td>Fanfoss</td>\n",
       "      <td>Middle School - 1st Cycle</td>\n",
       "      <td>6</td>\n",
       "      <td>Private Sector - Services</td>\n",
       "      <td>Machine Operators &amp; Inspectors</td>\n",
       "      <td>40</td>\n",
       "      <td>4261</td>\n",
       "      <td>0</td>\n",
       "      <td>0</td>\n",
       "      <td>1</td>\n",
       "      <td>30</td>\n",
       "      <td>B</td>\n",
       "    </tr>\n",
       "    <tr>\n",
       "      <th>20791</th>\n",
       "      <td>33277</td>\n",
       "      <td>Mr. Robert Tucker</td>\n",
       "      <td>Europe</td>\n",
       "      <td>Single</td>\n",
       "      <td>Other Family</td>\n",
       "      <td>King's Watch</td>\n",
       "      <td>Primary School</td>\n",
       "      <td>4</td>\n",
       "      <td>Private Sector - Services</td>\n",
       "      <td>Repair &amp; constructions</td>\n",
       "      <td>40</td>\n",
       "      <td>4519</td>\n",
       "      <td>0</td>\n",
       "      <td>0</td>\n",
       "      <td>1</td>\n",
       "      <td>32</td>\n",
       "      <td>B</td>\n",
       "    </tr>\n",
       "    <tr>\n",
       "      <th>21408</th>\n",
       "      <td>33894</td>\n",
       "      <td>Miss Karen Gibson</td>\n",
       "      <td>Europe</td>\n",
       "      <td>Single</td>\n",
       "      <td>Other relatives</td>\n",
       "      <td>Auchenshuggle</td>\n",
       "      <td>Middle School - 1st Cycle</td>\n",
       "      <td>6</td>\n",
       "      <td>Private Sector - Services</td>\n",
       "      <td>Household Services</td>\n",
       "      <td>40</td>\n",
       "      <td>2676</td>\n",
       "      <td>0</td>\n",
       "      <td>0</td>\n",
       "      <td>0</td>\n",
       "      <td>27</td>\n",
       "      <td>B</td>\n",
       "    </tr>\n",
       "    <tr>\n",
       "      <th>1492</th>\n",
       "      <td>13978</td>\n",
       "      <td>Mrs. Lily Fisher</td>\n",
       "      <td>Europe</td>\n",
       "      <td>Widow</td>\n",
       "      <td>Other relatives</td>\n",
       "      <td>Northbury</td>\n",
       "      <td>Middle School - 1st Cycle</td>\n",
       "      <td>6</td>\n",
       "      <td>Private Sector - Services</td>\n",
       "      <td>Other services</td>\n",
       "      <td>40</td>\n",
       "      <td>2886</td>\n",
       "      <td>0</td>\n",
       "      <td>0</td>\n",
       "      <td>0</td>\n",
       "      <td>70</td>\n",
       "      <td>B</td>\n",
       "    </tr>\n",
       "    <tr>\n",
       "      <th>10801</th>\n",
       "      <td>23287</td>\n",
       "      <td>Mr. Joshua Vance</td>\n",
       "      <td>Asia</td>\n",
       "      <td>Married</td>\n",
       "      <td>Wife</td>\n",
       "      <td>Alverton</td>\n",
       "      <td>Middle School - 1st Cycle</td>\n",
       "      <td>6</td>\n",
       "      <td>Private Sector - Services</td>\n",
       "      <td>Cleaners &amp; Handlers</td>\n",
       "      <td>40</td>\n",
       "      <td>8977</td>\n",
       "      <td>0</td>\n",
       "      <td>1</td>\n",
       "      <td>1</td>\n",
       "      <td>61</td>\n",
       "      <td>B</td>\n",
       "    </tr>\n",
       "    <tr>\n",
       "      <th>13533</th>\n",
       "      <td>26019</td>\n",
       "      <td>Mr. Anthony Rampling</td>\n",
       "      <td>Europe</td>\n",
       "      <td>Divorced</td>\n",
       "      <td>Alone</td>\n",
       "      <td>Northbury</td>\n",
       "      <td>Middle School - 1st Cycle</td>\n",
       "      <td>6</td>\n",
       "      <td>Private Sector - Services</td>\n",
       "      <td>Transports</td>\n",
       "      <td>40</td>\n",
       "      <td>7991</td>\n",
       "      <td>0</td>\n",
       "      <td>0</td>\n",
       "      <td>1</td>\n",
       "      <td>57</td>\n",
       "      <td>B</td>\n",
       "    </tr>\n",
       "    <tr>\n",
       "      <th>17432</th>\n",
       "      <td>29918</td>\n",
       "      <td>Mr. Christopher Burgess</td>\n",
       "      <td>Europe</td>\n",
       "      <td>Married</td>\n",
       "      <td>Wife</td>\n",
       "      <td>Auchenshuggle</td>\n",
       "      <td>Middle School - 1st Cycle</td>\n",
       "      <td>6</td>\n",
       "      <td>Self-Employed (Individual)</td>\n",
       "      <td>Other services</td>\n",
       "      <td>15</td>\n",
       "      <td>3173</td>\n",
       "      <td>0</td>\n",
       "      <td>0</td>\n",
       "      <td>1</td>\n",
       "      <td>59</td>\n",
       "      <td>B</td>\n",
       "    </tr>\n",
       "    <tr>\n",
       "      <th>20049</th>\n",
       "      <td>32535</td>\n",
       "      <td>Mrs. Penelope North</td>\n",
       "      <td>Europe</td>\n",
       "      <td>Widow</td>\n",
       "      <td>Other Family</td>\n",
       "      <td>Willesden</td>\n",
       "      <td>Primary School</td>\n",
       "      <td>4</td>\n",
       "      <td>Private Sector - Services</td>\n",
       "      <td>Machine Operators &amp; Inspectors</td>\n",
       "      <td>34</td>\n",
       "      <td>2536</td>\n",
       "      <td>0</td>\n",
       "      <td>0</td>\n",
       "      <td>0</td>\n",
       "      <td>67</td>\n",
       "      <td>B</td>\n",
       "    </tr>\n",
       "    <tr>\n",
       "      <th>3535</th>\n",
       "      <td>16021</td>\n",
       "      <td>Mr. Thomas Slater</td>\n",
       "      <td>Europe</td>\n",
       "      <td>Married</td>\n",
       "      <td>Wife</td>\n",
       "      <td>Fanfoss</td>\n",
       "      <td>Primary School</td>\n",
       "      <td>4</td>\n",
       "      <td>Private Sector - Services</td>\n",
       "      <td>Agriculture and Fishing</td>\n",
       "      <td>50</td>\n",
       "      <td>4651</td>\n",
       "      <td>0</td>\n",
       "      <td>0</td>\n",
       "      <td>1</td>\n",
       "      <td>48</td>\n",
       "      <td>B</td>\n",
       "    </tr>\n",
       "    <tr>\n",
       "      <th>20352</th>\n",
       "      <td>32838</td>\n",
       "      <td>Mr. Jacob Hamilton</td>\n",
       "      <td>Europe</td>\n",
       "      <td>Married</td>\n",
       "      <td>Other relatives</td>\n",
       "      <td>Fanfoss</td>\n",
       "      <td>Preschool</td>\n",
       "      <td>2</td>\n",
       "      <td>Private Sector - Services</td>\n",
       "      <td>Agriculture and Fishing</td>\n",
       "      <td>24</td>\n",
       "      <td>50811</td>\n",
       "      <td>0</td>\n",
       "      <td>0</td>\n",
       "      <td>1</td>\n",
       "      <td>27</td>\n",
       "      <td>B</td>\n",
       "    </tr>\n",
       "  </tbody>\n",
       "</table>\n",
       "</div>"
      ],
      "text/plain": [
       "       CITIZEN_ID                     Name Native Continent Marital Status  \\\n",
       "1680        14166    Mr. Jonathan Clarkson          Oceania        Married   \n",
       "1869        14355         Mr. Gavin Hughes           Europe        Married   \n",
       "12275       24761     Mr. Dominic Marshall           Europe        Married   \n",
       "18685       31171          Mr. Evan Tucker           Europe        Married   \n",
       "20791       33277        Mr. Robert Tucker           Europe         Single   \n",
       "21408       33894        Miss Karen Gibson           Europe         Single   \n",
       "1492        13978         Mrs. Lily Fisher           Europe          Widow   \n",
       "10801       23287         Mr. Joshua Vance             Asia        Married   \n",
       "13533       26019     Mr. Anthony Rampling           Europe       Divorced   \n",
       "17432       29918  Mr. Christopher Burgess           Europe        Married   \n",
       "20049       32535      Mrs. Penelope North           Europe          Widow   \n",
       "3535        16021        Mr. Thomas Slater           Europe        Married   \n",
       "20352       32838       Mr. Jacob Hamilton           Europe        Married   \n",
       "\n",
       "            Lives with      Base Area            Education Level  \\\n",
       "1680              Wife        Fanfoss  Middle School - 1st Cycle   \n",
       "1869              Wife        Fanfoss  Middle School - 1st Cycle   \n",
       "12275             Wife        Fanfoss  Middle School - 1st Cycle   \n",
       "18685             Wife        Fanfoss  Middle School - 1st Cycle   \n",
       "20791     Other Family   King's Watch             Primary School   \n",
       "21408  Other relatives  Auchenshuggle  Middle School - 1st Cycle   \n",
       "1492   Other relatives      Northbury  Middle School - 1st Cycle   \n",
       "10801             Wife       Alverton  Middle School - 1st Cycle   \n",
       "13533            Alone      Northbury  Middle School - 1st Cycle   \n",
       "17432             Wife  Auchenshuggle  Middle School - 1st Cycle   \n",
       "20049     Other Family      Willesden             Primary School   \n",
       "3535              Wife        Fanfoss             Primary School   \n",
       "20352  Other relatives        Fanfoss                  Preschool   \n",
       "\n",
       "       Years of Education           Employment Sector  \\\n",
       "1680                    6  Private Sector - Services    \n",
       "1869                    6  Private Sector - Services    \n",
       "12275                   6  Private Sector - Services    \n",
       "18685                   6  Private Sector - Services    \n",
       "20791                   4  Private Sector - Services    \n",
       "21408                   6  Private Sector - Services    \n",
       "1492                    6  Private Sector - Services    \n",
       "10801                   6  Private Sector - Services    \n",
       "13533                   6  Private Sector - Services    \n",
       "17432                   6  Self-Employed (Individual)   \n",
       "20049                   4  Private Sector - Services    \n",
       "3535                    4  Private Sector - Services    \n",
       "20352                   2  Private Sector - Services    \n",
       "\n",
       "                                 Role  Working Hours per week  Money Received  \\\n",
       "1680                   Other services                      40            4999   \n",
       "1869          Agriculture and Fishing                      40            4196   \n",
       "12275  Machine Operators & Inspectors                      40            8977   \n",
       "18685  Machine Operators & Inspectors                      40            4261   \n",
       "20791          Repair & constructions                      40            4519   \n",
       "21408              Household Services                      40            2676   \n",
       "1492                   Other services                      40            2886   \n",
       "10801             Cleaners & Handlers                      40            8977   \n",
       "13533                      Transports                      40            7991   \n",
       "17432                  Other services                      15            3173   \n",
       "20049  Machine Operators & Inspectors                      34            2536   \n",
       "3535          Agriculture and Fishing                      50            4651   \n",
       "20352         Agriculture and Fishing                      24           50811   \n",
       "\n",
       "       Ticket Price  Income  Gender  Age Group  \n",
       "1680              0       0       1   40     B  \n",
       "1869              0       0       1   41     B  \n",
       "12275             0       1       1   36     B  \n",
       "18685             0       0       1   30     B  \n",
       "20791             0       0       1   32     B  \n",
       "21408             0       0       0   27     B  \n",
       "1492              0       0       0   70     B  \n",
       "10801             0       1       1   61     B  \n",
       "13533             0       0       1   57     B  \n",
       "17432             0       0       1   59     B  \n",
       "20049             0       0       0   67     B  \n",
       "3535              0       0       1   48     B  \n",
       "20352             0       0       1   27     B  "
      ]
     },
     "execution_count": 34,
     "metadata": {},
     "output_type": "execute_result"
    }
   ],
   "source": [
    "#Further analysis to be sure...\n",
    "\n",
    "#0.06% (13/22400) people with <8 years of educ who got paid to go there\n",
    "\n",
    "#they are mostly quite old with labour jobs, while the younger uneducated ones\n",
    "#are pais a lot (e.g. 50k)...this doesnt make sense so probably a mistake\n",
    "train_cleaned.loc[(train_cleaned['Years of Education']<8) & (train_cleaned['Money Received']>0)]\n",
    "\n",
    "#Thus it is safe to drop them"
   ]
  },
  {
   "cell_type": "code",
   "execution_count": 35,
   "metadata": {
    "colab": {
     "base_uri": "https://localhost:8080/",
     "height": 956
    },
    "id": "5FWistpEXLec",
    "outputId": "68f3fee6-bbca-4f1f-fb42-7a6aeb3dcd79"
   },
   "outputs": [
    {
     "data": {
      "text/html": [
       "<div>\n",
       "<style scoped>\n",
       "    .dataframe tbody tr th:only-of-type {\n",
       "        vertical-align: middle;\n",
       "    }\n",
       "\n",
       "    .dataframe tbody tr th {\n",
       "        vertical-align: top;\n",
       "    }\n",
       "\n",
       "    .dataframe thead th {\n",
       "        text-align: right;\n",
       "    }\n",
       "</style>\n",
       "<table border=\"1\" class=\"dataframe\">\n",
       "  <thead>\n",
       "    <tr style=\"text-align: right;\">\n",
       "      <th></th>\n",
       "      <th>CITIZEN_ID</th>\n",
       "      <th>Name</th>\n",
       "      <th>Native Continent</th>\n",
       "      <th>Marital Status</th>\n",
       "      <th>Lives with</th>\n",
       "      <th>Base Area</th>\n",
       "      <th>Education Level</th>\n",
       "      <th>Years of Education</th>\n",
       "      <th>Employment Sector</th>\n",
       "      <th>Role</th>\n",
       "      <th>Working Hours per week</th>\n",
       "      <th>Money Received</th>\n",
       "      <th>Ticket Price</th>\n",
       "      <th>Income</th>\n",
       "      <th>Gender</th>\n",
       "      <th>Age</th>\n",
       "      <th>Group</th>\n",
       "    </tr>\n",
       "  </thead>\n",
       "  <tbody>\n",
       "    <tr>\n",
       "      <th>3287</th>\n",
       "      <td>15773</td>\n",
       "      <td>Mr. Julian Greene</td>\n",
       "      <td>Europe</td>\n",
       "      <td>Married</td>\n",
       "      <td>Wife</td>\n",
       "      <td>Fanfoss</td>\n",
       "      <td>Preschool</td>\n",
       "      <td>2</td>\n",
       "      <td>Private Sector - Services</td>\n",
       "      <td>Other services</td>\n",
       "      <td>40</td>\n",
       "      <td>0</td>\n",
       "      <td>2057</td>\n",
       "      <td>0</td>\n",
       "      <td>1</td>\n",
       "      <td>40</td>\n",
       "      <td>C</td>\n",
       "    </tr>\n",
       "    <tr>\n",
       "      <th>4858</th>\n",
       "      <td>17344</td>\n",
       "      <td>Mr. Adrian Chapman</td>\n",
       "      <td>Europe</td>\n",
       "      <td>Married - Spouse Missing</td>\n",
       "      <td>Other Family</td>\n",
       "      <td>Fanfoss</td>\n",
       "      <td>Preschool</td>\n",
       "      <td>2</td>\n",
       "      <td>Private Sector - Services</td>\n",
       "      <td>Machine Operators &amp; Inspectors</td>\n",
       "      <td>40</td>\n",
       "      <td>0</td>\n",
       "      <td>2114</td>\n",
       "      <td>0</td>\n",
       "      <td>1</td>\n",
       "      <td>26</td>\n",
       "      <td>C</td>\n",
       "    </tr>\n",
       "    <tr>\n",
       "      <th>6923</th>\n",
       "      <td>19409</td>\n",
       "      <td>Mr. Richard Mackenzie</td>\n",
       "      <td>Europe</td>\n",
       "      <td>Married</td>\n",
       "      <td>Other Family</td>\n",
       "      <td>Fanfoss</td>\n",
       "      <td>Primary School</td>\n",
       "      <td>4</td>\n",
       "      <td>Private Sector - Services</td>\n",
       "      <td>Repair &amp; constructions</td>\n",
       "      <td>32</td>\n",
       "      <td>0</td>\n",
       "      <td>3202</td>\n",
       "      <td>0</td>\n",
       "      <td>1</td>\n",
       "      <td>33</td>\n",
       "      <td>C</td>\n",
       "    </tr>\n",
       "    <tr>\n",
       "      <th>14536</th>\n",
       "      <td>27022</td>\n",
       "      <td>Mr. Sebastian Greene</td>\n",
       "      <td>Europe</td>\n",
       "      <td>Married</td>\n",
       "      <td>Wife</td>\n",
       "      <td>Northbury</td>\n",
       "      <td>Middle School - 1st Cycle</td>\n",
       "      <td>6</td>\n",
       "      <td>Private Sector - Services</td>\n",
       "      <td>Repair &amp; constructions</td>\n",
       "      <td>50</td>\n",
       "      <td>0</td>\n",
       "      <td>2002</td>\n",
       "      <td>0</td>\n",
       "      <td>1</td>\n",
       "      <td>26</td>\n",
       "      <td>C</td>\n",
       "    </tr>\n",
       "    <tr>\n",
       "      <th>10444</th>\n",
       "      <td>22930</td>\n",
       "      <td>Mr. Jake Quinn</td>\n",
       "      <td>Europe</td>\n",
       "      <td>Married</td>\n",
       "      <td>Wife</td>\n",
       "      <td>Orilon</td>\n",
       "      <td>Middle School - 1st Cycle</td>\n",
       "      <td>6</td>\n",
       "      <td>Private Sector - Services</td>\n",
       "      <td>Other services</td>\n",
       "      <td>40</td>\n",
       "      <td>0</td>\n",
       "      <td>3202</td>\n",
       "      <td>0</td>\n",
       "      <td>1</td>\n",
       "      <td>49</td>\n",
       "      <td>C</td>\n",
       "    </tr>\n",
       "    <tr>\n",
       "      <th>14874</th>\n",
       "      <td>27360</td>\n",
       "      <td>Mrs. Chloe May</td>\n",
       "      <td>Europe</td>\n",
       "      <td>Widow</td>\n",
       "      <td>Other relatives</td>\n",
       "      <td>Bellmoral</td>\n",
       "      <td>Primary School</td>\n",
       "      <td>4</td>\n",
       "      <td>Self-Employed (Individual)</td>\n",
       "      <td>Repair &amp; constructions</td>\n",
       "      <td>45</td>\n",
       "      <td>0</td>\n",
       "      <td>1970</td>\n",
       "      <td>0</td>\n",
       "      <td>0</td>\n",
       "      <td>57</td>\n",
       "      <td>C</td>\n",
       "    </tr>\n",
       "    <tr>\n",
       "      <th>15141</th>\n",
       "      <td>27627</td>\n",
       "      <td>Mr. Luke Lee</td>\n",
       "      <td>Europe</td>\n",
       "      <td>Married</td>\n",
       "      <td>Wife</td>\n",
       "      <td>Northbury</td>\n",
       "      <td>Primary School</td>\n",
       "      <td>4</td>\n",
       "      <td>Self-Employed (Individual)</td>\n",
       "      <td>Transports</td>\n",
       "      <td>18</td>\n",
       "      <td>0</td>\n",
       "      <td>2680</td>\n",
       "      <td>0</td>\n",
       "      <td>1</td>\n",
       "      <td>58</td>\n",
       "      <td>C</td>\n",
       "    </tr>\n",
       "    <tr>\n",
       "      <th>17750</th>\n",
       "      <td>30236</td>\n",
       "      <td>Mr. Alan Wallace</td>\n",
       "      <td>Europe</td>\n",
       "      <td>Divorced</td>\n",
       "      <td>Other Family</td>\n",
       "      <td>Northbury</td>\n",
       "      <td>Middle School - 1st Cycle</td>\n",
       "      <td>6</td>\n",
       "      <td>Private Sector - Services</td>\n",
       "      <td>Transports</td>\n",
       "      <td>56</td>\n",
       "      <td>0</td>\n",
       "      <td>2307</td>\n",
       "      <td>0</td>\n",
       "      <td>1</td>\n",
       "      <td>61</td>\n",
       "      <td>C</td>\n",
       "    </tr>\n",
       "    <tr>\n",
       "      <th>17995</th>\n",
       "      <td>30481</td>\n",
       "      <td>Mrs. Deirdre Short</td>\n",
       "      <td>Europe</td>\n",
       "      <td>Divorced</td>\n",
       "      <td>Other Family</td>\n",
       "      <td>Northbury</td>\n",
       "      <td>Middle School - 1st Cycle</td>\n",
       "      <td>6</td>\n",
       "      <td>Private Sector - Services</td>\n",
       "      <td>Repair &amp; constructions</td>\n",
       "      <td>45</td>\n",
       "      <td>0</td>\n",
       "      <td>2877</td>\n",
       "      <td>0</td>\n",
       "      <td>0</td>\n",
       "      <td>46</td>\n",
       "      <td>C</td>\n",
       "    </tr>\n",
       "    <tr>\n",
       "      <th>18535</th>\n",
       "      <td>31021</td>\n",
       "      <td>Mr. Phil Clark</td>\n",
       "      <td>America</td>\n",
       "      <td>Married</td>\n",
       "      <td>Wife</td>\n",
       "      <td>Northbury</td>\n",
       "      <td>Middle School - 1st Cycle</td>\n",
       "      <td>6</td>\n",
       "      <td>Private Sector - Services</td>\n",
       "      <td>Transports</td>\n",
       "      <td>40</td>\n",
       "      <td>0</td>\n",
       "      <td>2339</td>\n",
       "      <td>0</td>\n",
       "      <td>1</td>\n",
       "      <td>46</td>\n",
       "      <td>C</td>\n",
       "    </tr>\n",
       "    <tr>\n",
       "      <th>20711</th>\n",
       "      <td>33197</td>\n",
       "      <td>Mr. Dylan McDonald</td>\n",
       "      <td>Africa</td>\n",
       "      <td>Single</td>\n",
       "      <td>Other Family</td>\n",
       "      <td>Northbury</td>\n",
       "      <td>Middle School - 1st Cycle</td>\n",
       "      <td>6</td>\n",
       "      <td>Private Sector - Services</td>\n",
       "      <td>Cleaners &amp; Handlers</td>\n",
       "      <td>40</td>\n",
       "      <td>0</td>\n",
       "      <td>2877</td>\n",
       "      <td>0</td>\n",
       "      <td>1</td>\n",
       "      <td>61</td>\n",
       "      <td>C</td>\n",
       "    </tr>\n",
       "    <tr>\n",
       "      <th>21769</th>\n",
       "      <td>34255</td>\n",
       "      <td>Mr. Owen Baker</td>\n",
       "      <td>Europe</td>\n",
       "      <td>Married</td>\n",
       "      <td>Wife</td>\n",
       "      <td>Northbury</td>\n",
       "      <td>Middle School - 1st Cycle</td>\n",
       "      <td>6</td>\n",
       "      <td>Private Sector - Services</td>\n",
       "      <td>Machine Operators &amp; Inspectors</td>\n",
       "      <td>40</td>\n",
       "      <td>0</td>\n",
       "      <td>2788</td>\n",
       "      <td>0</td>\n",
       "      <td>1</td>\n",
       "      <td>69</td>\n",
       "      <td>C</td>\n",
       "    </tr>\n",
       "    <tr>\n",
       "      <th>6986</th>\n",
       "      <td>19472</td>\n",
       "      <td>Mr. Lucas Metcalfe</td>\n",
       "      <td>Europe</td>\n",
       "      <td>Married</td>\n",
       "      <td>Wife</td>\n",
       "      <td>Fanfoss</td>\n",
       "      <td>Middle School - 1st Cycle</td>\n",
       "      <td>6</td>\n",
       "      <td>Self-Employed (Individual)</td>\n",
       "      <td>Sales</td>\n",
       "      <td>50</td>\n",
       "      <td>0</td>\n",
       "      <td>2680</td>\n",
       "      <td>0</td>\n",
       "      <td>1</td>\n",
       "      <td>47</td>\n",
       "      <td>C</td>\n",
       "    </tr>\n",
       "  </tbody>\n",
       "</table>\n",
       "</div>"
      ],
      "text/plain": [
       "       CITIZEN_ID                   Name Native Continent  \\\n",
       "3287        15773      Mr. Julian Greene           Europe   \n",
       "4858        17344     Mr. Adrian Chapman           Europe   \n",
       "6923        19409  Mr. Richard Mackenzie           Europe   \n",
       "14536       27022   Mr. Sebastian Greene           Europe   \n",
       "10444       22930         Mr. Jake Quinn           Europe   \n",
       "14874       27360         Mrs. Chloe May           Europe   \n",
       "15141       27627           Mr. Luke Lee           Europe   \n",
       "17750       30236       Mr. Alan Wallace           Europe   \n",
       "17995       30481     Mrs. Deirdre Short           Europe   \n",
       "18535       31021         Mr. Phil Clark          America   \n",
       "20711       33197     Mr. Dylan McDonald           Africa   \n",
       "21769       34255         Mr. Owen Baker           Europe   \n",
       "6986        19472     Mr. Lucas Metcalfe           Europe   \n",
       "\n",
       "                 Marital Status       Lives with  Base Area  \\\n",
       "3287                    Married             Wife    Fanfoss   \n",
       "4858   Married - Spouse Missing     Other Family    Fanfoss   \n",
       "6923                    Married     Other Family    Fanfoss   \n",
       "14536                   Married             Wife  Northbury   \n",
       "10444                   Married             Wife     Orilon   \n",
       "14874                     Widow  Other relatives  Bellmoral   \n",
       "15141                   Married             Wife  Northbury   \n",
       "17750                  Divorced     Other Family  Northbury   \n",
       "17995                  Divorced     Other Family  Northbury   \n",
       "18535                   Married             Wife  Northbury   \n",
       "20711                    Single     Other Family  Northbury   \n",
       "21769                   Married             Wife  Northbury   \n",
       "6986                    Married             Wife    Fanfoss   \n",
       "\n",
       "                 Education Level  Years of Education  \\\n",
       "3287                   Preschool                   2   \n",
       "4858                   Preschool                   2   \n",
       "6923              Primary School                   4   \n",
       "14536  Middle School - 1st Cycle                   6   \n",
       "10444  Middle School - 1st Cycle                   6   \n",
       "14874             Primary School                   4   \n",
       "15141             Primary School                   4   \n",
       "17750  Middle School - 1st Cycle                   6   \n",
       "17995  Middle School - 1st Cycle                   6   \n",
       "18535  Middle School - 1st Cycle                   6   \n",
       "20711  Middle School - 1st Cycle                   6   \n",
       "21769  Middle School - 1st Cycle                   6   \n",
       "6986   Middle School - 1st Cycle                   6   \n",
       "\n",
       "                Employment Sector                            Role  \\\n",
       "3287   Private Sector - Services                   Other services   \n",
       "4858   Private Sector - Services   Machine Operators & Inspectors   \n",
       "6923   Private Sector - Services           Repair & constructions   \n",
       "14536  Private Sector - Services           Repair & constructions   \n",
       "10444  Private Sector - Services                   Other services   \n",
       "14874  Self-Employed (Individual)          Repair & constructions   \n",
       "15141  Self-Employed (Individual)                      Transports   \n",
       "17750  Private Sector - Services                       Transports   \n",
       "17995  Private Sector - Services           Repair & constructions   \n",
       "18535  Private Sector - Services                       Transports   \n",
       "20711  Private Sector - Services              Cleaners & Handlers   \n",
       "21769  Private Sector - Services   Machine Operators & Inspectors   \n",
       "6986   Self-Employed (Individual)                           Sales   \n",
       "\n",
       "       Working Hours per week  Money Received  Ticket Price  Income  Gender  \\\n",
       "3287                       40               0          2057       0       1   \n",
       "4858                       40               0          2114       0       1   \n",
       "6923                       32               0          3202       0       1   \n",
       "14536                      50               0          2002       0       1   \n",
       "10444                      40               0          3202       0       1   \n",
       "14874                      45               0          1970       0       0   \n",
       "15141                      18               0          2680       0       1   \n",
       "17750                      56               0          2307       0       1   \n",
       "17995                      45               0          2877       0       0   \n",
       "18535                      40               0          2339       0       1   \n",
       "20711                      40               0          2877       0       1   \n",
       "21769                      40               0          2788       0       1   \n",
       "6986                       50               0          2680       0       1   \n",
       "\n",
       "       Age Group  \n",
       "3287    40     C  \n",
       "4858    26     C  \n",
       "6923    33     C  \n",
       "14536   26     C  \n",
       "10444   49     C  \n",
       "14874   57     C  \n",
       "15141   58     C  \n",
       "17750   61     C  \n",
       "17995   46     C  \n",
       "18535   46     C  \n",
       "20711   61     C  \n",
       "21769   69     C  \n",
       "6986    47     C  "
      ]
     },
     "execution_count": 35,
     "metadata": {},
     "output_type": "execute_result"
    }
   ],
   "source": [
    "#Further analysis to be sure...\n",
    "\n",
    "#0.06% (13/22400) people with <8 years of educ who paid money to go there\n",
    "\n",
    "train_cleaned.loc[(train_cleaned['Years of Education']<8) & (train_cleaned['Ticket Price']>0)]\n",
    "\n",
    "#people with barely any education but managed to pay to go there (could be from parents?)"
   ]
  },
  {
   "cell_type": "code",
   "execution_count": 36,
   "metadata": {
    "colab": {
     "base_uri": "https://localhost:8080/"
    },
    "id": "_EXo6RxRoTLt",
    "outputId": "fd37e733-2936-41c5-ab71-ccfb7eadce39"
   },
   "outputs": [
    {
     "data": {
      "text/plain": [
       "(21178, 17)"
      ]
     },
     "execution_count": 36,
     "metadata": {},
     "output_type": "execute_result"
    }
   ],
   "source": [
    "#Note: <8 is outside our lower bound in the boxplot\n",
    "\n",
    "#The purpose of this tax is to keep the planet viable, and this small percentage\n",
    "#of people with very low education and very low-paying jobs would not be able to\n",
    "#pay taxes regardless. \n",
    "#Thus, given the objective, and the low proportion of people with such low \n",
    "#education level (<8 years), we can safely consider them as outliers to drop.\n",
    "\n",
    "#This is better for our model as they would create wrongful bias...\n",
    "loweducation = train_cleaned.loc[train_cleaned['Years of Education']<8].index\n",
    "\n",
    "train_cleaned = train_cleaned.drop(loweducation,axis=0)\n",
    "train_cleaned.shape"
   ]
  },
  {
   "cell_type": "code",
   "execution_count": 49,
   "metadata": {
    "id": "Xnrl6pJebnn2"
   },
   "outputs": [],
   "source": [
    "#check shape after dropping everything and if you dropped <5%\n",
    "#1222 rows = 5.5% of dataset dropped"
   ]
  },
  {
   "cell_type": "markdown",
   "metadata": {
    "id": "ES-TGGZ-WRIK"
   },
   "source": [
    "### Processing the set without outliers"
   ]
  },
  {
   "cell_type": "code",
   "execution_count": 38,
   "metadata": {},
   "outputs": [],
   "source": [
    "#target encoded variables for category variables"
   ]
  },
  {
   "cell_type": "code",
   "execution_count": 39,
   "metadata": {
    "id": "u0JD6UcQWPzC"
   },
   "outputs": [],
   "source": [
    "mean = train_cleaned['Income'].mean()"
   ]
  },
  {
   "cell_type": "code",
   "execution_count": 40,
   "metadata": {
    "colab": {
     "base_uri": "https://localhost:8080/"
    },
    "id": "wqXJ33WCbjyh",
    "outputId": "ccd317d7-6de9-40ba-bb55-fbb85c9fbec4"
   },
   "outputs": [
    {
     "name": "stdout",
     "output_type": "stream",
     "text": [
      "Lives with\n",
      "Alone              0.073837\n",
      "Children           0.019689\n",
      "Husband            0.462711\n",
      "Other Family       0.106697\n",
      "Other relatives    0.062860\n",
      "Wife               0.443937\n",
      "dtype: float64\n"
     ]
    }
   ],
   "source": [
    "agg = train_cleaned.groupby('Lives with')['Income'].agg(['count','mean'])\n",
    "counts = agg['count']\n",
    "means = agg['mean']\n",
    "weight  = 100\n",
    "#smoothed means\n",
    "smooth = (counts * means + weight * mean) / (counts + weight)\n",
    "print(smooth)\n",
    "train_cleaned.loc[:, 'Lives_smean_enc'] = train_cleaned['Lives with'].map(smooth)"
   ]
  },
  {
   "cell_type": "code",
   "execution_count": 41,
   "metadata": {
    "colab": {
     "base_uri": "https://localhost:8080/"
    },
    "id": "xFVCfSQ3cSpi",
    "outputId": "837814d8-2506-445c-e32b-945add48dcbe"
   },
   "outputs": [
    {
     "name": "stdout",
     "output_type": "stream",
     "text": [
      "Education Level\n",
      "Bachelors                               0.241349\n",
      "Bachelors + PostGraduation              0.400245\n",
      "High School + PostGraduation            0.184262\n",
      "High School - 1st Cycle                 0.083955\n",
      "High School - 2nd Cycle                 0.066477\n",
      "High School Complete                    0.130102\n",
      "Masters                                 0.516856\n",
      "Masters + PostGraduation                0.606400\n",
      "Middle School - 2nd Cycle               0.097010\n",
      "Middle School Complete                  0.095860\n",
      "PhD                                     0.606404\n",
      "Professional School                     0.156132\n",
      "Professional School + PostGraduation    0.255587\n",
      "dtype: float64\n"
     ]
    }
   ],
   "source": [
    "agg = train_cleaned.groupby('Education Level')['Income'].agg(['count','mean'])\n",
    "counts = agg['count']\n",
    "means = agg['mean']\n",
    "weight  = 100\n",
    "#smoothed means\n",
    "smooth = (counts * means + weight * mean) / (counts + weight)\n",
    "print(smooth)\n",
    "train_cleaned.loc[:, 'Education_smean_enc'] = train_cleaned['Education Level'].map(smooth)"
   ]
  },
  {
   "cell_type": "code",
   "execution_count": 42,
   "metadata": {
    "colab": {
     "base_uri": "https://localhost:8080/"
    },
    "id": "v9ECWrCCb_Kf",
    "outputId": "87bc3e82-e91d-4a07-9826-9aea4af3ccdc"
   },
   "outputs": [
    {
     "name": "stdout",
     "output_type": "stream",
     "text": [
      "Role\n",
      "Administratives                   0.142851\n",
      "Agriculture and Fishing           0.132661\n",
      "Army                              0.235230\n",
      "Cleaners & Handlers               0.082334\n",
      "Household Services                0.130215\n",
      "IT                                0.290488\n",
      "Machine Operators & Inspectors    0.128632\n",
      "Management                        0.427912\n",
      "Other services                    0.045264\n",
      "Professor                         0.431502\n",
      "Repair & constructions            0.200411\n",
      "Sales                             0.256036\n",
      "Security                          0.290855\n",
      "Transports                        0.192930\n",
      "dtype: float64\n"
     ]
    }
   ],
   "source": [
    "agg = train_cleaned.groupby('Role')['Income'].agg(['count','mean'])\n",
    "counts = agg['count']\n",
    "means = agg['mean']\n",
    "weight  = 100\n",
    "#smoothed means\n",
    "smooth = (counts * means + weight * mean) / (counts + weight)\n",
    "print(smooth)\n",
    "train_cleaned.loc[:, 'Role_smean_enc'] = train_cleaned['Role'].map(smooth)"
   ]
  },
  {
   "cell_type": "code",
   "execution_count": 43,
   "metadata": {
    "colab": {
     "base_uri": "https://localhost:8080/"
    },
    "id": "RtPu4UHCcZgv",
    "outputId": "2a74df30-965f-44ed-b5e6-74be8c0ee44c"
   },
   "outputs": [
    {
     "name": "stdout",
     "output_type": "stream",
     "text": [
      "Marital Status\n",
      "Divorced                        0.108897\n",
      "Married                         0.443063\n",
      "Married - Spouse Missing        0.141191\n",
      "Married - Spouse in the Army    0.269291\n",
      "Separated                       0.088110\n",
      "Single                          0.049551\n",
      "Widow                           0.109053\n",
      "dtype: float64\n"
     ]
    }
   ],
   "source": [
    "agg = train_cleaned.groupby('Marital Status')['Income'].agg(['count','mean'])\n",
    "counts = agg['count']\n",
    "means = agg['mean']\n",
    "weight  = 100\n",
    "#smoothed means\n",
    "smooth = (counts * means + weight * mean) / (counts + weight)\n",
    "print(smooth)\n",
    "train_cleaned.loc[:, 'Marital_smean_enc'] = train_cleaned['Marital Status'].map(smooth)"
   ]
  },
  {
   "cell_type": "code",
   "execution_count": 44,
   "metadata": {
    "colab": {
     "base_uri": "https://localhost:8080/"
    },
    "id": "krpxDSC8ceJ4",
    "outputId": "e2381c88-d757-464e-b11b-03e1f88474b1"
   },
   "outputs": [
    {
     "name": "stdout",
     "output_type": "stream",
     "text": [
      "Native Continent\n",
      "Africa     0.123232\n",
      "America    0.155372\n",
      "Asia       0.253948\n",
      "Europe     0.253154\n",
      "Oceania    0.132710\n",
      "dtype: float64\n"
     ]
    }
   ],
   "source": [
    "agg = train_cleaned.groupby('Native Continent')['Income'].agg(['count','mean'])\n",
    "counts = agg['count']\n",
    "means = agg['mean']\n",
    "weight  = 100\n",
    "#smoothed means\n",
    "smooth = (counts * means + weight * mean) / (counts + weight)\n",
    "print(smooth)\n",
    "train_cleaned.loc[:, 'Continent_smean_enc'] = train_cleaned['Native Continent'].map(smooth)"
   ]
  },
  {
   "cell_type": "code",
   "execution_count": 45,
   "metadata": {
    "colab": {
     "base_uri": "https://localhost:8080/"
    },
    "id": "Ls7VHMrXckcl",
    "outputId": "0588d3a1-1c43-47f5-8530-3513b789cd71"
   },
   "outputs": [
    {
     "name": "stdout",
     "output_type": "stream",
     "text": [
      "Employment Sector\n",
      "Never Worked                  0.221487\n",
      "Private Sector - Others       0.253101\n",
      "Private Sector - Services     0.119239\n",
      "Private Sector - Services     0.216342\n",
      "Public Sector - Government    0.368644\n",
      "Public Sector - Others        0.278864\n",
      "Self-Employed (Company)       0.500260\n",
      "Self-Employed (Individual)    0.288036\n",
      "Unemployed                    0.213506\n",
      "dtype: float64\n"
     ]
    }
   ],
   "source": [
    "agg = train_cleaned.groupby('Employment Sector')['Income'].agg(['count','mean'])\n",
    "counts = agg['count']\n",
    "means = agg['mean']\n",
    "weight  = 100\n",
    "#smoothed means\n",
    "smooth = (counts * means + weight * mean) / (counts + weight)\n",
    "print(smooth)\n",
    "train_cleaned.loc[:, 'Employment_smean_enc'] = train_cleaned['Employment Sector'].map(smooth)"
   ]
  },
  {
   "cell_type": "code",
   "execution_count": 46,
   "metadata": {
    "colab": {
     "base_uri": "https://localhost:8080/"
    },
    "id": "reygNomMcqhO",
    "outputId": "7d94c415-733d-42dc-91e6-5f3f6a48836d"
   },
   "outputs": [
    {
     "name": "stdout",
     "output_type": "stream",
     "text": [
      "Base Area\n",
      "Aberuthven       0.204125\n",
      "Aerilon          0.240966\n",
      "Alverton         0.282428\n",
      "Aroonshire       0.265600\n",
      "Auchenshuggle    0.198059\n",
      "Bellenau         0.237955\n",
      "Bellmoral        0.178979\n",
      "Butterpond       0.269266\n",
      "Carlisle         0.219651\n",
      "Cherrytown       0.182263\n",
      "Conriston        0.235772\n",
      "Drumchapel       0.220654\n",
      "Eelry            0.302831\n",
      "Fanfoss          0.099456\n",
      "Fool's March     0.238306\n",
      "Ironforge        0.234645\n",
      "Kald             0.270933\n",
      "King's Watch     0.190364\n",
      "Kirkwall         0.258689\n",
      "Knife's Edge     0.271845\n",
      "Laenteglos       0.280146\n",
      "Laewaes          0.178255\n",
      "Lanercost        0.184661\n",
      "Lewes            0.238786\n",
      "Marnmouth        0.226597\n",
      "Mensfield        0.217423\n",
      "Middlesbrough    0.244946\n",
      "MillerVille      0.240862\n",
      "Northbury        0.240202\n",
      "Orilon           0.234738\n",
      "Pran             0.177839\n",
      "Redwick Bush     0.237955\n",
      "Sharnwick        0.299392\n",
      "Sharpton         0.241442\n",
      "Tranmere         0.203961\n",
      "Watford          0.266476\n",
      "Wigston          0.220940\n",
      "Willesden        0.207887\n",
      "Woodpine         0.221487\n",
      "dtype: float64\n"
     ]
    }
   ],
   "source": [
    "agg = train_cleaned.groupby('Base Area')['Income'].agg(['count','mean'])\n",
    "counts = agg['count']\n",
    "means = agg['mean']\n",
    "weight  = 100\n",
    "#smoothed means\n",
    "smooth = (counts * means + weight * mean) / (counts + weight)\n",
    "print(smooth)\n",
    "train_cleaned.loc[:, 'Area_smean_enc'] = train_cleaned['Base Area'].map(smooth)"
   ]
  },
  {
   "cell_type": "code",
   "execution_count": 47,
   "metadata": {
    "id": "rKAR8virczpc"
   },
   "outputs": [],
   "source": [
    "categories=[\n",
    " 'Native Continent','Lives with','Base Area','Education Level','Employment Sector','Group','Role','Marital Status'] "
   ]
  },
  {
   "cell_type": "code",
   "execution_count": 48,
   "metadata": {
    "colab": {
     "base_uri": "https://localhost:8080/",
     "height": 472
    },
    "id": "S0iV93E4czpc",
    "outputId": "c0a8b838-99ed-422c-bc7a-e7ec65612bd1"
   },
   "outputs": [
    {
     "data": {
      "text/html": [
       "<div>\n",
       "<style scoped>\n",
       "    .dataframe tbody tr th:only-of-type {\n",
       "        vertical-align: middle;\n",
       "    }\n",
       "\n",
       "    .dataframe tbody tr th {\n",
       "        vertical-align: top;\n",
       "    }\n",
       "\n",
       "    .dataframe thead th {\n",
       "        text-align: right;\n",
       "    }\n",
       "</style>\n",
       "<table border=\"1\" class=\"dataframe\">\n",
       "  <thead>\n",
       "    <tr style=\"text-align: right;\">\n",
       "      <th></th>\n",
       "      <th>x0_America</th>\n",
       "      <th>x0_Asia</th>\n",
       "      <th>x0_Europe</th>\n",
       "      <th>x0_Oceania</th>\n",
       "      <th>x1_Children</th>\n",
       "      <th>x1_Husband</th>\n",
       "      <th>x1_Other Family</th>\n",
       "      <th>x1_Other relatives</th>\n",
       "      <th>x1_Wife</th>\n",
       "      <th>x2_Aerilon</th>\n",
       "      <th>...</th>\n",
       "      <th>x6_Repair &amp; constructions</th>\n",
       "      <th>x6_Sales</th>\n",
       "      <th>x6_Security</th>\n",
       "      <th>x6_Transports</th>\n",
       "      <th>x7_Married</th>\n",
       "      <th>x7_Married - Spouse Missing</th>\n",
       "      <th>x7_Married - Spouse in the Army</th>\n",
       "      <th>x7_Separated</th>\n",
       "      <th>x7_Single</th>\n",
       "      <th>x7_Widow</th>\n",
       "    </tr>\n",
       "  </thead>\n",
       "  <tbody>\n",
       "    <tr>\n",
       "      <th>1</th>\n",
       "      <td>0.0</td>\n",
       "      <td>0.0</td>\n",
       "      <td>1.0</td>\n",
       "      <td>0.0</td>\n",
       "      <td>0.0</td>\n",
       "      <td>0.0</td>\n",
       "      <td>0.0</td>\n",
       "      <td>0.0</td>\n",
       "      <td>1.0</td>\n",
       "      <td>0.0</td>\n",
       "      <td>...</td>\n",
       "      <td>1.0</td>\n",
       "      <td>0.0</td>\n",
       "      <td>0.0</td>\n",
       "      <td>0.0</td>\n",
       "      <td>1.0</td>\n",
       "      <td>0.0</td>\n",
       "      <td>0.0</td>\n",
       "      <td>0.0</td>\n",
       "      <td>0.0</td>\n",
       "      <td>0.0</td>\n",
       "    </tr>\n",
       "    <tr>\n",
       "      <th>2</th>\n",
       "      <td>0.0</td>\n",
       "      <td>0.0</td>\n",
       "      <td>1.0</td>\n",
       "      <td>0.0</td>\n",
       "      <td>0.0</td>\n",
       "      <td>0.0</td>\n",
       "      <td>0.0</td>\n",
       "      <td>0.0</td>\n",
       "      <td>1.0</td>\n",
       "      <td>0.0</td>\n",
       "      <td>...</td>\n",
       "      <td>0.0</td>\n",
       "      <td>1.0</td>\n",
       "      <td>0.0</td>\n",
       "      <td>0.0</td>\n",
       "      <td>1.0</td>\n",
       "      <td>0.0</td>\n",
       "      <td>0.0</td>\n",
       "      <td>0.0</td>\n",
       "      <td>0.0</td>\n",
       "      <td>0.0</td>\n",
       "    </tr>\n",
       "    <tr>\n",
       "      <th>4</th>\n",
       "      <td>0.0</td>\n",
       "      <td>0.0</td>\n",
       "      <td>1.0</td>\n",
       "      <td>0.0</td>\n",
       "      <td>0.0</td>\n",
       "      <td>0.0</td>\n",
       "      <td>1.0</td>\n",
       "      <td>0.0</td>\n",
       "      <td>0.0</td>\n",
       "      <td>0.0</td>\n",
       "      <td>...</td>\n",
       "      <td>0.0</td>\n",
       "      <td>0.0</td>\n",
       "      <td>0.0</td>\n",
       "      <td>0.0</td>\n",
       "      <td>0.0</td>\n",
       "      <td>0.0</td>\n",
       "      <td>0.0</td>\n",
       "      <td>0.0</td>\n",
       "      <td>1.0</td>\n",
       "      <td>0.0</td>\n",
       "    </tr>\n",
       "    <tr>\n",
       "      <th>6</th>\n",
       "      <td>0.0</td>\n",
       "      <td>0.0</td>\n",
       "      <td>1.0</td>\n",
       "      <td>0.0</td>\n",
       "      <td>0.0</td>\n",
       "      <td>0.0</td>\n",
       "      <td>0.0</td>\n",
       "      <td>0.0</td>\n",
       "      <td>1.0</td>\n",
       "      <td>0.0</td>\n",
       "      <td>...</td>\n",
       "      <td>1.0</td>\n",
       "      <td>0.0</td>\n",
       "      <td>0.0</td>\n",
       "      <td>0.0</td>\n",
       "      <td>1.0</td>\n",
       "      <td>0.0</td>\n",
       "      <td>0.0</td>\n",
       "      <td>0.0</td>\n",
       "      <td>0.0</td>\n",
       "      <td>0.0</td>\n",
       "    </tr>\n",
       "    <tr>\n",
       "      <th>7</th>\n",
       "      <td>0.0</td>\n",
       "      <td>0.0</td>\n",
       "      <td>1.0</td>\n",
       "      <td>0.0</td>\n",
       "      <td>0.0</td>\n",
       "      <td>0.0</td>\n",
       "      <td>0.0</td>\n",
       "      <td>1.0</td>\n",
       "      <td>0.0</td>\n",
       "      <td>0.0</td>\n",
       "      <td>...</td>\n",
       "      <td>0.0</td>\n",
       "      <td>0.0</td>\n",
       "      <td>0.0</td>\n",
       "      <td>0.0</td>\n",
       "      <td>0.0</td>\n",
       "      <td>1.0</td>\n",
       "      <td>0.0</td>\n",
       "      <td>0.0</td>\n",
       "      <td>0.0</td>\n",
       "      <td>0.0</td>\n",
       "    </tr>\n",
       "    <tr>\n",
       "      <th>...</th>\n",
       "      <td>...</td>\n",
       "      <td>...</td>\n",
       "      <td>...</td>\n",
       "      <td>...</td>\n",
       "      <td>...</td>\n",
       "      <td>...</td>\n",
       "      <td>...</td>\n",
       "      <td>...</td>\n",
       "      <td>...</td>\n",
       "      <td>...</td>\n",
       "      <td>...</td>\n",
       "      <td>...</td>\n",
       "      <td>...</td>\n",
       "      <td>...</td>\n",
       "      <td>...</td>\n",
       "      <td>...</td>\n",
       "      <td>...</td>\n",
       "      <td>...</td>\n",
       "      <td>...</td>\n",
       "      <td>...</td>\n",
       "      <td>...</td>\n",
       "    </tr>\n",
       "    <tr>\n",
       "      <th>22317</th>\n",
       "      <td>0.0</td>\n",
       "      <td>0.0</td>\n",
       "      <td>1.0</td>\n",
       "      <td>0.0</td>\n",
       "      <td>1.0</td>\n",
       "      <td>0.0</td>\n",
       "      <td>0.0</td>\n",
       "      <td>0.0</td>\n",
       "      <td>0.0</td>\n",
       "      <td>0.0</td>\n",
       "      <td>...</td>\n",
       "      <td>0.0</td>\n",
       "      <td>0.0</td>\n",
       "      <td>0.0</td>\n",
       "      <td>0.0</td>\n",
       "      <td>0.0</td>\n",
       "      <td>0.0</td>\n",
       "      <td>0.0</td>\n",
       "      <td>0.0</td>\n",
       "      <td>1.0</td>\n",
       "      <td>0.0</td>\n",
       "    </tr>\n",
       "    <tr>\n",
       "      <th>22319</th>\n",
       "      <td>0.0</td>\n",
       "      <td>0.0</td>\n",
       "      <td>1.0</td>\n",
       "      <td>0.0</td>\n",
       "      <td>1.0</td>\n",
       "      <td>0.0</td>\n",
       "      <td>0.0</td>\n",
       "      <td>0.0</td>\n",
       "      <td>0.0</td>\n",
       "      <td>0.0</td>\n",
       "      <td>...</td>\n",
       "      <td>0.0</td>\n",
       "      <td>0.0</td>\n",
       "      <td>0.0</td>\n",
       "      <td>0.0</td>\n",
       "      <td>0.0</td>\n",
       "      <td>0.0</td>\n",
       "      <td>0.0</td>\n",
       "      <td>0.0</td>\n",
       "      <td>1.0</td>\n",
       "      <td>0.0</td>\n",
       "    </tr>\n",
       "    <tr>\n",
       "      <th>22330</th>\n",
       "      <td>0.0</td>\n",
       "      <td>0.0</td>\n",
       "      <td>1.0</td>\n",
       "      <td>0.0</td>\n",
       "      <td>0.0</td>\n",
       "      <td>0.0</td>\n",
       "      <td>0.0</td>\n",
       "      <td>1.0</td>\n",
       "      <td>0.0</td>\n",
       "      <td>0.0</td>\n",
       "      <td>...</td>\n",
       "      <td>0.0</td>\n",
       "      <td>0.0</td>\n",
       "      <td>0.0</td>\n",
       "      <td>0.0</td>\n",
       "      <td>0.0</td>\n",
       "      <td>0.0</td>\n",
       "      <td>0.0</td>\n",
       "      <td>0.0</td>\n",
       "      <td>1.0</td>\n",
       "      <td>0.0</td>\n",
       "    </tr>\n",
       "    <tr>\n",
       "      <th>22361</th>\n",
       "      <td>0.0</td>\n",
       "      <td>0.0</td>\n",
       "      <td>1.0</td>\n",
       "      <td>0.0</td>\n",
       "      <td>1.0</td>\n",
       "      <td>0.0</td>\n",
       "      <td>0.0</td>\n",
       "      <td>0.0</td>\n",
       "      <td>0.0</td>\n",
       "      <td>0.0</td>\n",
       "      <td>...</td>\n",
       "      <td>0.0</td>\n",
       "      <td>0.0</td>\n",
       "      <td>0.0</td>\n",
       "      <td>0.0</td>\n",
       "      <td>0.0</td>\n",
       "      <td>0.0</td>\n",
       "      <td>0.0</td>\n",
       "      <td>0.0</td>\n",
       "      <td>1.0</td>\n",
       "      <td>0.0</td>\n",
       "    </tr>\n",
       "    <tr>\n",
       "      <th>22370</th>\n",
       "      <td>0.0</td>\n",
       "      <td>0.0</td>\n",
       "      <td>1.0</td>\n",
       "      <td>0.0</td>\n",
       "      <td>1.0</td>\n",
       "      <td>0.0</td>\n",
       "      <td>0.0</td>\n",
       "      <td>0.0</td>\n",
       "      <td>0.0</td>\n",
       "      <td>0.0</td>\n",
       "      <td>...</td>\n",
       "      <td>0.0</td>\n",
       "      <td>0.0</td>\n",
       "      <td>0.0</td>\n",
       "      <td>0.0</td>\n",
       "      <td>0.0</td>\n",
       "      <td>0.0</td>\n",
       "      <td>0.0</td>\n",
       "      <td>0.0</td>\n",
       "      <td>1.0</td>\n",
       "      <td>0.0</td>\n",
       "    </tr>\n",
       "  </tbody>\n",
       "</table>\n",
       "<p>21178 rows × 88 columns</p>\n",
       "</div>"
      ],
      "text/plain": [
       "       x0_America  x0_Asia  x0_Europe  x0_Oceania  x1_Children  x1_Husband  \\\n",
       "1             0.0      0.0        1.0         0.0          0.0         0.0   \n",
       "2             0.0      0.0        1.0         0.0          0.0         0.0   \n",
       "4             0.0      0.0        1.0         0.0          0.0         0.0   \n",
       "6             0.0      0.0        1.0         0.0          0.0         0.0   \n",
       "7             0.0      0.0        1.0         0.0          0.0         0.0   \n",
       "...           ...      ...        ...         ...          ...         ...   \n",
       "22317         0.0      0.0        1.0         0.0          1.0         0.0   \n",
       "22319         0.0      0.0        1.0         0.0          1.0         0.0   \n",
       "22330         0.0      0.0        1.0         0.0          0.0         0.0   \n",
       "22361         0.0      0.0        1.0         0.0          1.0         0.0   \n",
       "22370         0.0      0.0        1.0         0.0          1.0         0.0   \n",
       "\n",
       "       x1_Other Family  x1_Other relatives  x1_Wife  x2_Aerilon  ...  \\\n",
       "1                  0.0                 0.0      1.0         0.0  ...   \n",
       "2                  0.0                 0.0      1.0         0.0  ...   \n",
       "4                  1.0                 0.0      0.0         0.0  ...   \n",
       "6                  0.0                 0.0      1.0         0.0  ...   \n",
       "7                  0.0                 1.0      0.0         0.0  ...   \n",
       "...                ...                 ...      ...         ...  ...   \n",
       "22317              0.0                 0.0      0.0         0.0  ...   \n",
       "22319              0.0                 0.0      0.0         0.0  ...   \n",
       "22330              0.0                 1.0      0.0         0.0  ...   \n",
       "22361              0.0                 0.0      0.0         0.0  ...   \n",
       "22370              0.0                 0.0      0.0         0.0  ...   \n",
       "\n",
       "       x6_Repair & constructions  x6_Sales  x6_Security  x6_Transports  \\\n",
       "1                            1.0       0.0          0.0            0.0   \n",
       "2                            0.0       1.0          0.0            0.0   \n",
       "4                            0.0       0.0          0.0            0.0   \n",
       "6                            1.0       0.0          0.0            0.0   \n",
       "7                            0.0       0.0          0.0            0.0   \n",
       "...                          ...       ...          ...            ...   \n",
       "22317                        0.0       0.0          0.0            0.0   \n",
       "22319                        0.0       0.0          0.0            0.0   \n",
       "22330                        0.0       0.0          0.0            0.0   \n",
       "22361                        0.0       0.0          0.0            0.0   \n",
       "22370                        0.0       0.0          0.0            0.0   \n",
       "\n",
       "       x7_Married  x7_Married - Spouse Missing  \\\n",
       "1             1.0                          0.0   \n",
       "2             1.0                          0.0   \n",
       "4             0.0                          0.0   \n",
       "6             1.0                          0.0   \n",
       "7             0.0                          1.0   \n",
       "...           ...                          ...   \n",
       "22317         0.0                          0.0   \n",
       "22319         0.0                          0.0   \n",
       "22330         0.0                          0.0   \n",
       "22361         0.0                          0.0   \n",
       "22370         0.0                          0.0   \n",
       "\n",
       "       x7_Married - Spouse in the Army  x7_Separated  x7_Single  x7_Widow  \n",
       "1                                  0.0           0.0        0.0       0.0  \n",
       "2                                  0.0           0.0        0.0       0.0  \n",
       "4                                  0.0           0.0        1.0       0.0  \n",
       "6                                  0.0           0.0        0.0       0.0  \n",
       "7                                  0.0           0.0        0.0       0.0  \n",
       "...                                ...           ...        ...       ...  \n",
       "22317                              0.0           0.0        1.0       0.0  \n",
       "22319                              0.0           0.0        1.0       0.0  \n",
       "22330                              0.0           0.0        1.0       0.0  \n",
       "22361                              0.0           0.0        1.0       0.0  \n",
       "22370                              0.0           0.0        1.0       0.0  \n",
       "\n",
       "[21178 rows x 88 columns]"
      ]
     },
     "execution_count": 48,
     "metadata": {},
     "output_type": "execute_result"
    }
   ],
   "source": [
    "# Use OneHotEncoder to encode the categorical features. Get feature names and create a DataFrame \n",
    "# with the one-hot encoded categorical features (pass feature names)\n",
    "ohc = OneHotEncoder(sparse=False, drop=\"first\")\n",
    "ohc_feat = ohc.fit_transform(train_cleaned[categories])\n",
    "ohc_feat_names = ohc.get_feature_names()\n",
    "ohc_df = pd.DataFrame(ohc_feat, index=train_cleaned.index, columns=ohc_feat_names) \n",
    "ohc_df"
   ]
  },
  {
   "cell_type": "code",
   "execution_count": 49,
   "metadata": {
    "id": "W0W6o9Xmczpi"
   },
   "outputs": [],
   "source": [
    "# Reassigning df to contain ohc variables\n",
    "train_cleaned = pd.concat([train_cleaned, ohc_df], axis=1)"
   ]
  },
  {
   "cell_type": "code",
   "execution_count": 50,
   "metadata": {
    "id": "w8jvg7H1dk63"
   },
   "outputs": [],
   "source": [
    "metrics = ['Years of Education', 'Working Hours per week', 'Money Received',\n",
    "       'Ticket Price', 'Gender', 'Age', 'Lives_smean_enc',\n",
    "       'Education_smean_enc', 'Role_smean_enc', 'Marital_smean_enc',\n",
    "       'Continent_smean_enc', 'Employment_smean_enc', 'Area_smean_enc']"
   ]
  },
  {
   "cell_type": "code",
   "execution_count": 51,
   "metadata": {
    "colab": {
     "base_uri": "https://localhost:8080/",
     "height": 273
    },
    "id": "4iQm8LTOdk64",
    "outputId": "ed7edbd9-4df0-4ddc-8900-83cd72b769dc"
   },
   "outputs": [
    {
     "data": {
      "text/html": [
       "<div>\n",
       "<style scoped>\n",
       "    .dataframe tbody tr th:only-of-type {\n",
       "        vertical-align: middle;\n",
       "    }\n",
       "\n",
       "    .dataframe tbody tr th {\n",
       "        vertical-align: top;\n",
       "    }\n",
       "\n",
       "    .dataframe thead th {\n",
       "        text-align: right;\n",
       "    }\n",
       "</style>\n",
       "<table border=\"1\" class=\"dataframe\">\n",
       "  <thead>\n",
       "    <tr style=\"text-align: right;\">\n",
       "      <th></th>\n",
       "      <th>CITIZEN_ID</th>\n",
       "      <th>Name</th>\n",
       "      <th>Native Continent</th>\n",
       "      <th>Marital Status</th>\n",
       "      <th>Lives with</th>\n",
       "      <th>Base Area</th>\n",
       "      <th>Education Level</th>\n",
       "      <th>Years of Education</th>\n",
       "      <th>Employment Sector</th>\n",
       "      <th>Role</th>\n",
       "      <th>...</th>\n",
       "      <th>x6_Repair &amp; constructions</th>\n",
       "      <th>x6_Sales</th>\n",
       "      <th>x6_Security</th>\n",
       "      <th>x6_Transports</th>\n",
       "      <th>x7_Married</th>\n",
       "      <th>x7_Married - Spouse Missing</th>\n",
       "      <th>x7_Married - Spouse in the Army</th>\n",
       "      <th>x7_Separated</th>\n",
       "      <th>x7_Single</th>\n",
       "      <th>x7_Widow</th>\n",
       "    </tr>\n",
       "  </thead>\n",
       "  <tbody>\n",
       "    <tr>\n",
       "      <th>1</th>\n",
       "      <td>12487</td>\n",
       "      <td>Mr. Cameron McDonald</td>\n",
       "      <td>Europe</td>\n",
       "      <td>Married</td>\n",
       "      <td>Wife</td>\n",
       "      <td>Northbury</td>\n",
       "      <td>Professional School</td>\n",
       "      <td>0.307692</td>\n",
       "      <td>Public Sector - Others</td>\n",
       "      <td>Repair &amp; constructions</td>\n",
       "      <td>...</td>\n",
       "      <td>1.0</td>\n",
       "      <td>0.0</td>\n",
       "      <td>0.0</td>\n",
       "      <td>0.0</td>\n",
       "      <td>1.0</td>\n",
       "      <td>0.0</td>\n",
       "      <td>0.0</td>\n",
       "      <td>0.0</td>\n",
       "      <td>0.0</td>\n",
       "      <td>0.0</td>\n",
       "    </tr>\n",
       "    <tr>\n",
       "      <th>2</th>\n",
       "      <td>12488</td>\n",
       "      <td>Mr. Keith Davidson</td>\n",
       "      <td>Europe</td>\n",
       "      <td>Married</td>\n",
       "      <td>Wife</td>\n",
       "      <td>Northbury</td>\n",
       "      <td>Professional School</td>\n",
       "      <td>0.307692</td>\n",
       "      <td>Private Sector - Services</td>\n",
       "      <td>Sales</td>\n",
       "      <td>...</td>\n",
       "      <td>0.0</td>\n",
       "      <td>1.0</td>\n",
       "      <td>0.0</td>\n",
       "      <td>0.0</td>\n",
       "      <td>1.0</td>\n",
       "      <td>0.0</td>\n",
       "      <td>0.0</td>\n",
       "      <td>0.0</td>\n",
       "      <td>0.0</td>\n",
       "      <td>0.0</td>\n",
       "    </tr>\n",
       "  </tbody>\n",
       "</table>\n",
       "<p>2 rows × 112 columns</p>\n",
       "</div>"
      ],
      "text/plain": [
       "   CITIZEN_ID                  Name Native Continent Marital Status  \\\n",
       "1       12487  Mr. Cameron McDonald           Europe        Married   \n",
       "2       12488    Mr. Keith Davidson           Europe        Married   \n",
       "\n",
       "  Lives with  Base Area      Education Level  Years of Education  \\\n",
       "1       Wife  Northbury  Professional School            0.307692   \n",
       "2       Wife  Northbury  Professional School            0.307692   \n",
       "\n",
       "            Employment Sector                    Role  ...  \\\n",
       "1      Public Sector - Others  Repair & constructions  ...   \n",
       "2  Private Sector - Services                    Sales  ...   \n",
       "\n",
       "   x6_Repair & constructions  x6_Sales  x6_Security  x6_Transports  \\\n",
       "1                        1.0       0.0          0.0            0.0   \n",
       "2                        0.0       1.0          0.0            0.0   \n",
       "\n",
       "   x7_Married  x7_Married - Spouse Missing x7_Married - Spouse in the Army  \\\n",
       "1         1.0                          0.0                             0.0   \n",
       "2         1.0                          0.0                             0.0   \n",
       "\n",
       "   x7_Separated  x7_Single  x7_Widow  \n",
       "1           0.0        0.0       0.0  \n",
       "2           0.0        0.0       0.0  \n",
       "\n",
       "[2 rows x 112 columns]"
      ]
     },
     "execution_count": 51,
     "metadata": {},
     "output_type": "execute_result"
    }
   ],
   "source": [
    "#create a scaler object\n",
    "scaler = MinMaxScaler()\n",
    "# fit and transform the data\n",
    "train_cleaned[metrics] = scaler.fit_transform(train_cleaned[metrics])\n",
    "train_cleaned.head(2)"
   ]
  },
  {
   "cell_type": "code",
   "execution_count": 52,
   "metadata": {
    "id": "y4XGGGGOdk64"
   },
   "outputs": [],
   "source": [
    "train_cleaned.reset_index(inplace = True)"
   ]
  },
  {
   "cell_type": "markdown",
   "metadata": {
    "id": "XEZoh6jUQE8z"
   },
   "source": [
    "## Feature Selection and Analysis"
   ]
  },
  {
   "cell_type": "code",
   "execution_count": null,
   "metadata": {
    "id": "9GWhqmvQ_LXG"
   },
   "outputs": [],
   "source": [
    "## RFE continuous variables"
   ]
  },
  {
   "cell_type": "code",
   "execution_count": null,
   "metadata": {
    "id": "n9_J36OKN0dy"
   },
   "outputs": [],
   "source": [
    "#RFE for continous variables selected all the feauters as important for our model as you can see below. "
   ]
  },
  {
   "cell_type": "code",
   "execution_count": 65,
   "metadata": {
    "id": "M3Fcm40YN0dy"
   },
   "outputs": [],
   "source": [
    "# X = train[metric_original]\n",
    "# target = train['Income']\n",
    "\n",
    "# rfc = RandomForestClassifier(random_state=101)\n",
    "# rfecv = RFECV(estimator=rfc, step=1, cv=StratifiedKFold(10), scoring='accuracy')\n",
    "# rfecv.fit(X, target)"
   ]
  },
  {
   "cell_type": "code",
   "execution_count": 67,
   "metadata": {
    "id": "b55bAchqN0d0"
   },
   "outputs": [],
   "source": [
    "# print('Optimal number of features: {}'.format(rfecv.n_features_))"
   ]
  },
  {
   "cell_type": "code",
   "execution_count": 69,
   "metadata": {
    "id": "sDfY2X0ZN0d0"
   },
   "outputs": [],
   "source": [
    "# plt.figure(figsize=(16, 9))\n",
    "# plt.title('Recursive Feature Elimination with Cross-Validation', fontsize=18, fontweight='bold', pad=20)\n",
    "# plt.xlabel('Number of features selected', fontsize=14, labelpad=20)\n",
    "# plt.ylabel('% Correct Classification', fontsize=14, labelpad=20)\n",
    "# plt.plot(range(1, len(rfecv.grid_scores_) + 1), rfecv.grid_scores_, color='#303F9F', linewidth=3)\n",
    "\n",
    "# plt.show()"
   ]
  },
  {
   "cell_type": "code",
   "execution_count": null,
   "metadata": {
    "id": "d14HVl-s_FAx"
   },
   "outputs": [],
   "source": [
    "## Chi-Square for categorical variables"
   ]
  },
  {
   "cell_type": "code",
   "execution_count": 80,
   "metadata": {
    "id": "nPqWrKRb7SJM"
   },
   "outputs": [],
   "source": [
    "# categories_2=[ 'Native Continent','Lives with','Gender','Base Area','Education Level','Employment Sector','Role','Marital Status'] "
   ]
  },
  {
   "cell_type": "code",
   "execution_count": 81,
   "metadata": {
    "id": "0WQDLU22H56w"
   },
   "outputs": [],
   "source": [
    "# X = train[categories_2]\n",
    "# y = train['Income']"
   ]
  },
  {
   "cell_type": "code",
   "execution_count": 82,
   "metadata": {
    "id": "sFv51GHYRCHR"
   },
   "outputs": [],
   "source": [
    "# # prepare input data\n",
    "# def prepare_inputs(X):\n",
    "# \toe = OrdinalEncoder()\n",
    "# \toe.fit(X)\n",
    "# \tX_enc = oe.transform(X)\n",
    "# \treturn X_enc\n",
    " \n",
    "# # prepare target\n",
    "# def prepare_targets(y):\n",
    "# \tle = LabelEncoder()\n",
    "# \tle.fit(y)\n",
    "# \ty_enc = le.transform(y)\n",
    "# \treturn y_enc"
   ]
  },
  {
   "cell_type": "code",
   "execution_count": 83,
   "metadata": {
    "id": "OOfdaL1JN1NM"
   },
   "outputs": [],
   "source": [
    "# # prepare input data\n",
    "# X_enc = prepare_inputs(X)\n",
    "# # prepare output data\n",
    "# y_enc = prepare_targets(y)"
   ]
  },
  {
   "cell_type": "code",
   "execution_count": 84,
   "metadata": {
    "id": "gWc3HI8EO6si"
   },
   "outputs": [],
   "source": [
    "# X_train, X_test, y_train, y_test = train_test_split(X_enc, y_enc, test_size=0.33, random_state=1)"
   ]
  },
  {
   "cell_type": "code",
   "execution_count": null,
   "metadata": {
    "id": "rRy6Gikz-_rE"
   },
   "outputs": [],
   "source": [
    "## Feature selection categoricals"
   ]
  },
  {
   "cell_type": "code",
   "execution_count": 85,
   "metadata": {
    "id": "NEVgQrOkI_Jp"
   },
   "outputs": [],
   "source": [
    "# # feature selection\n",
    "# def select_features(X_train, y_train, X_test):\n",
    "# \tfs = SelectKBest(score_func=chi2, k='all')\n",
    "# \tfs.fit(X_train, y_train)\n",
    "# \tX_train_fs = fs.transform(X_train)\n",
    "# \tX_test_fs = fs.transform(X_test)\n",
    "# \treturn X_train_fs, X_test_fs, fs"
   ]
  },
  {
   "cell_type": "code",
   "execution_count": null,
   "metadata": {
    "id": "nndGtPoOHcjr"
   },
   "outputs": [],
   "source": [
    "# # feature selection\n",
    "# X_train_fs, X_test_fs, fs = select_features(X_train, y_train, X_test)\n",
    "# # what are scores for the features\n",
    "# for i in range(len(fs.scores_)):\n",
    "# \tprint('Feature %d: %f' % (i, fs.scores_[i]))\n",
    "# # plot the scores\n",
    "# pyplot.bar([i for i in range(len(fs.scores_))],\n",
    "#  fs.scores_)\n",
    "# pyplot.xlabel('categories', fontweight='bold')\n",
    " \n",
    "# pyplot.show()"
   ]
  },
  {
   "cell_type": "code",
   "execution_count": null,
   "metadata": {
    "id": "94OurZwxWDw0"
   },
   "outputs": [],
   "source": [
    "# #categorical variables to use!\n",
    "# i = [1,2,4,6,7]\n",
    "# for i in i:\n",
    "#   print(categories_2[i])"
   ]
  },
  {
   "cell_type": "markdown",
   "metadata": {
    "id": "DhGw6jsBlO9K"
   },
   "source": [
    "## Categorical in Mean Encoding"
   ]
  },
  {
   "cell_type": "code",
   "execution_count": 53,
   "metadata": {
    "id": "eF2g4_-dhm93"
   },
   "outputs": [],
   "source": [
    "mean = train['Income'].mean()"
   ]
  },
  {
   "cell_type": "code",
   "execution_count": 54,
   "metadata": {
    "colab": {
     "base_uri": "https://localhost:8080/"
    },
    "id": "YkHbcSTmhtQm",
    "outputId": "7885b23a-3e9f-41ff-df38-fcc5a061f920"
   },
   "outputs": [
    {
     "name": "stdout",
     "output_type": "stream",
     "text": [
      "Lives with\n",
      "Alone              0.075024\n",
      "Children           0.019815\n",
      "Husband            0.459277\n",
      "Other Family       0.106808\n",
      "Other relatives    0.059808\n",
      "Wife               0.438401\n",
      "dtype: float64\n"
     ]
    }
   ],
   "source": [
    "agg = train.groupby('Lives with')['Income'].agg(['count','mean'])\n",
    "counts = agg['count']\n",
    "means = agg['mean']\n",
    "weight  = 100\n",
    "#smoothed means\n",
    "smooth = (counts * means + weight * mean) / (counts + weight)\n",
    "print(smooth)\n",
    "train.loc[:, 'Lives_smean_enc'] = train['Lives with'].map(smooth)"
   ]
  },
  {
   "cell_type": "code",
   "execution_count": 55,
   "metadata": {
    "colab": {
     "base_uri": "https://localhost:8080/"
    },
    "id": "GvCRUm77j5rK",
    "outputId": "1435b8ca-e471-4f78-d318-fdc8de199856"
   },
   "outputs": [
    {
     "name": "stdout",
     "output_type": "stream",
     "text": [
      "Education Level\n",
      "Bachelors                               0.243964\n",
      "Bachelors + PostGraduation              0.402189\n",
      "High School + PostGraduation            0.186437\n",
      "High School - 1st Cycle                 0.083725\n",
      "High School - 2nd Cycle                 0.068988\n",
      "High School Complete                    0.133617\n",
      "Masters                                 0.521044\n",
      "Masters + PostGraduation                0.617122\n",
      "Middle School - 1st Cycle               0.100029\n",
      "Middle School - 2nd Cycle               0.099079\n",
      "Middle School Complete                  0.096629\n",
      "PhD                                     0.611079\n",
      "Preschool                               0.178269\n",
      "Primary School                          0.129324\n",
      "Professional School                     0.158853\n",
      "Professional School + PostGraduation    0.255185\n",
      "dtype: float64\n"
     ]
    }
   ],
   "source": [
    "agg = train.groupby('Education Level')['Income'].agg(['count','mean'])\n",
    "counts = agg['count']\n",
    "means = agg['mean']\n",
    "weight  = 100\n",
    "#smoothed means\n",
    "smooth = (counts * means + weight * mean) / (counts + weight)\n",
    "print(smooth)\n",
    "train.loc[:, 'Education_smean_enc'] = train['Education Level'].map(smooth)"
   ]
  },
  {
   "cell_type": "code",
   "execution_count": 56,
   "metadata": {
    "colab": {
     "base_uri": "https://localhost:8080/"
    },
    "id": "8L2xRiEqkC1T",
    "outputId": "7a59602f-9499-48e5-edc3-4bceaa7e6c0a"
   },
   "outputs": [
    {
     "name": "stdout",
     "output_type": "stream",
     "text": [
      "Role\n",
      "Administratives                   0.142433\n",
      "Agriculture and Fishing           0.128067\n",
      "Army                              0.235332\n",
      "Cleaners & Handlers               0.079951\n",
      "Household Services                0.117375\n",
      "IT                                0.290234\n",
      "Machine Operators & Inspectors    0.125815\n",
      "Management                        0.426024\n",
      "Other services                    0.044718\n",
      "Professor                         0.436999\n",
      "Repair & constructions            0.199912\n",
      "Sales                             0.261007\n",
      "Security                          0.286745\n",
      "Transports                        0.199581\n",
      "dtype: float64\n"
     ]
    }
   ],
   "source": [
    "agg = train.groupby('Role')['Income'].agg(['count','mean'])\n",
    "counts = agg['count']\n",
    "means = agg['mean']\n",
    "weight  = 100\n",
    "#smoothed means\n",
    "smooth = (counts * means + weight * mean) / (counts + weight)\n",
    "print(smooth)\n",
    "train.loc[:, 'Role_smean_enc'] = train['Role'].map(smooth)"
   ]
  },
  {
   "cell_type": "code",
   "execution_count": 57,
   "metadata": {
    "colab": {
     "base_uri": "https://localhost:8080/"
    },
    "id": "Y90nyF5pkcg4",
    "outputId": "3e354942-cd98-4eb7-820f-034d0c3e80df"
   },
   "outputs": [
    {
     "name": "stdout",
     "output_type": "stream",
     "text": [
      "Marital Status\n",
      "Divorced                        0.110564\n",
      "Married                         0.437224\n",
      "Married - Spouse Missing        0.137265\n",
      "Married - Spouse in the Army    0.269384\n",
      "Separated                       0.084743\n",
      "Single                          0.050254\n",
      "Widow                           0.107676\n",
      "dtype: float64\n"
     ]
    }
   ],
   "source": [
    "agg = train.groupby('Marital Status')['Income'].agg(['count','mean'])\n",
    "counts = agg['count']\n",
    "means = agg['mean']\n",
    "weight  = 100\n",
    "#smoothed means\n",
    "smooth = (counts * means + weight * mean) / (counts + weight)\n",
    "print(smooth)\n",
    "train.loc[:, 'Marital_smean_enc'] = train['Marital Status'].map(smooth)"
   ]
  },
  {
   "cell_type": "code",
   "execution_count": 58,
   "metadata": {
    "colab": {
     "base_uri": "https://localhost:8080/"
    },
    "id": "Dxv6gEpRlwUt",
    "outputId": "90aad8b4-6bd4-47fe-8a43-1ab9124259c1"
   },
   "outputs": [
    {
     "name": "stdout",
     "output_type": "stream",
     "text": [
      "Native Continent\n",
      "Africa     0.124053\n",
      "America    0.152695\n",
      "Asia       0.256208\n",
      "Europe     0.252757\n",
      "Oceania    0.129260\n",
      "dtype: float64\n"
     ]
    }
   ],
   "source": [
    "agg = train.groupby('Native Continent')['Income'].agg(['count','mean'])\n",
    "counts = agg['count']\n",
    "means = agg['mean']\n",
    "weight  = 100\n",
    "#smoothed means\n",
    "smooth = (counts * means + weight * mean) / (counts + weight)\n",
    "print(smooth)\n",
    "train.loc[:, 'Continent_smean_enc'] = train['Native Continent'].map(smooth)"
   ]
  },
  {
   "cell_type": "code",
   "execution_count": 59,
   "metadata": {
    "colab": {
     "base_uri": "https://localhost:8080/"
    },
    "id": "bI3j7D7cxYtH",
    "outputId": "988fc77c-6b65-45fb-a427-f02dbee4d363"
   },
   "outputs": [
    {
     "name": "stdout",
     "output_type": "stream",
     "text": [
      "Employment Sector\n",
      "Never Worked                  0.221587\n",
      "Private Sector - Others       0.256847\n",
      "Private Sector - Services     0.117089\n",
      "Private Sector - Services     0.215855\n",
      "Public Sector - Government    0.368320\n",
      "Public Sector - Others        0.277623\n",
      "Self-Employed (Company)       0.508354\n",
      "Self-Employed (Individual)    0.281497\n",
      "Unemployed                    0.211695\n",
      "dtype: float64\n"
     ]
    }
   ],
   "source": [
    "agg = train.groupby('Employment Sector')['Income'].agg(['count','mean'])\n",
    "counts = agg['count']\n",
    "means = agg['mean']\n",
    "weight  = 100\n",
    "#smoothed means\n",
    "smooth = (counts * means + weight * mean) / (counts + weight)\n",
    "print(smooth)\n",
    "train.loc[:, 'Employment_smean_enc'] = train['Employment Sector'].map(smooth)"
   ]
  },
  {
   "cell_type": "code",
   "execution_count": 60,
   "metadata": {
    "colab": {
     "base_uri": "https://localhost:8080/"
    },
    "id": "7JY50ancXq0t",
    "outputId": "6bd0c33b-6331-42dd-bf2f-1fb36206a569"
   },
   "outputs": [
    {
     "name": "stdout",
     "output_type": "stream",
     "text": [
      "Base Area\n",
      "Aberuthven       0.200893\n",
      "Aerilon          0.239378\n",
      "Alverton         0.283872\n",
      "Aroonshire       0.254328\n",
      "Auchenshuggle    0.170610\n",
      "Bellenau         0.238054\n",
      "Bellmoral        0.176499\n",
      "Butterpond       0.274030\n",
      "Carlisle         0.217880\n",
      "Cherrytown       0.170264\n",
      "Conriston        0.238481\n",
      "Drumchapel       0.213679\n",
      "Eelry            0.286601\n",
      "Fanfoss          0.078655\n",
      "Fool's March     0.237169\n",
      "Ironforge        0.234751\n",
      "Kald             0.274872\n",
      "King's Watch     0.178540\n",
      "Kirkwall         0.269356\n",
      "Knife's Edge     0.282553\n",
      "Laenteglos       0.278105\n",
      "Laewaes          0.176134\n",
      "Lanercost        0.182301\n",
      "Lewes            0.238878\n",
      "Marnmouth        0.231620\n",
      "Mensfield        0.217521\n",
      "Middlesbrough    0.242817\n",
      "MillerVille      0.245383\n",
      "Northbury        0.242390\n",
      "Orilon           0.243523\n",
      "Pran             0.167852\n",
      "Redwick Bush     0.238054\n",
      "Sharnwick        0.310058\n",
      "Sharpton         0.238375\n",
      "Tranmere         0.205460\n",
      "Watford          0.271638\n",
      "Wigston          0.216089\n",
      "Willesden        0.213016\n",
      "Woodpine         0.217521\n",
      "dtype: float64\n"
     ]
    }
   ],
   "source": [
    "agg = train.groupby('Base Area')['Income'].agg(['count','mean'])\n",
    "counts = agg['count']\n",
    "means = agg['mean']\n",
    "weight  = 100\n",
    "#smoothed means\n",
    "smooth = (counts * means + weight * mean) / (counts + weight)\n",
    "print(smooth)\n",
    "train.loc[:, 'Area_smean_enc'] = train['Base Area'].map(smooth)"
   ]
  },
  {
   "cell_type": "code",
   "execution_count": 61,
   "metadata": {
    "colab": {
     "base_uri": "https://localhost:8080/",
     "height": 244
    },
    "id": "4hOWXjnvk0bV",
    "outputId": "3fbc9cbf-b577-4a28-9922-0ad343bcab8b"
   },
   "outputs": [
    {
     "data": {
      "text/html": [
       "<div>\n",
       "<style scoped>\n",
       "    .dataframe tbody tr th:only-of-type {\n",
       "        vertical-align: middle;\n",
       "    }\n",
       "\n",
       "    .dataframe tbody tr th {\n",
       "        vertical-align: top;\n",
       "    }\n",
       "\n",
       "    .dataframe thead th {\n",
       "        text-align: right;\n",
       "    }\n",
       "</style>\n",
       "<table border=\"1\" class=\"dataframe\">\n",
       "  <thead>\n",
       "    <tr style=\"text-align: right;\">\n",
       "      <th></th>\n",
       "      <th>CITIZEN_ID</th>\n",
       "      <th>Name</th>\n",
       "      <th>Native Continent</th>\n",
       "      <th>Marital Status</th>\n",
       "      <th>Lives with</th>\n",
       "      <th>Base Area</th>\n",
       "      <th>Education Level</th>\n",
       "      <th>Years of Education</th>\n",
       "      <th>Employment Sector</th>\n",
       "      <th>Role</th>\n",
       "      <th>...</th>\n",
       "      <th>Gender</th>\n",
       "      <th>Age</th>\n",
       "      <th>Group</th>\n",
       "      <th>Lives_smean_enc</th>\n",
       "      <th>Education_smean_enc</th>\n",
       "      <th>Role_smean_enc</th>\n",
       "      <th>Marital_smean_enc</th>\n",
       "      <th>Continent_smean_enc</th>\n",
       "      <th>Employment_smean_enc</th>\n",
       "      <th>Area_smean_enc</th>\n",
       "    </tr>\n",
       "  </thead>\n",
       "  <tbody>\n",
       "    <tr>\n",
       "      <th>1</th>\n",
       "      <td>12487</td>\n",
       "      <td>Mr. Cameron McDonald</td>\n",
       "      <td>Europe</td>\n",
       "      <td>Married</td>\n",
       "      <td>Wife</td>\n",
       "      <td>Northbury</td>\n",
       "      <td>Professional School</td>\n",
       "      <td>12</td>\n",
       "      <td>Public Sector - Others</td>\n",
       "      <td>Repair &amp; constructions</td>\n",
       "      <td>...</td>\n",
       "      <td>1</td>\n",
       "      <td>42</td>\n",
       "      <td>A</td>\n",
       "      <td>0.438401</td>\n",
       "      <td>0.158853</td>\n",
       "      <td>0.199912</td>\n",
       "      <td>0.437224</td>\n",
       "      <td>0.252757</td>\n",
       "      <td>0.277623</td>\n",
       "      <td>0.24239</td>\n",
       "    </tr>\n",
       "    <tr>\n",
       "      <th>2</th>\n",
       "      <td>12488</td>\n",
       "      <td>Mr. Keith Davidson</td>\n",
       "      <td>Europe</td>\n",
       "      <td>Married</td>\n",
       "      <td>Wife</td>\n",
       "      <td>Northbury</td>\n",
       "      <td>Professional School</td>\n",
       "      <td>12</td>\n",
       "      <td>Private Sector - Services</td>\n",
       "      <td>Sales</td>\n",
       "      <td>...</td>\n",
       "      <td>1</td>\n",
       "      <td>39</td>\n",
       "      <td>C</td>\n",
       "      <td>0.438401</td>\n",
       "      <td>0.158853</td>\n",
       "      <td>0.261007</td>\n",
       "      <td>0.437224</td>\n",
       "      <td>0.252757</td>\n",
       "      <td>0.215855</td>\n",
       "      <td>0.24239</td>\n",
       "    </tr>\n",
       "  </tbody>\n",
       "</table>\n",
       "<p>2 rows × 24 columns</p>\n",
       "</div>"
      ],
      "text/plain": [
       "   CITIZEN_ID                  Name Native Continent Marital Status  \\\n",
       "1       12487  Mr. Cameron McDonald           Europe        Married   \n",
       "2       12488    Mr. Keith Davidson           Europe        Married   \n",
       "\n",
       "  Lives with  Base Area      Education Level  Years of Education  \\\n",
       "1       Wife  Northbury  Professional School                  12   \n",
       "2       Wife  Northbury  Professional School                  12   \n",
       "\n",
       "            Employment Sector                    Role  ...  Gender  Age  \\\n",
       "1      Public Sector - Others  Repair & constructions  ...       1   42   \n",
       "2  Private Sector - Services                    Sales  ...       1   39   \n",
       "\n",
       "   Group  Lives_smean_enc  Education_smean_enc  Role_smean_enc  \\\n",
       "1      A         0.438401             0.158853        0.199912   \n",
       "2      C         0.438401             0.158853        0.261007   \n",
       "\n",
       "  Marital_smean_enc  Continent_smean_enc  Employment_smean_enc  Area_smean_enc  \n",
       "1          0.437224             0.252757              0.277623         0.24239  \n",
       "2          0.437224             0.252757              0.215855         0.24239  \n",
       "\n",
       "[2 rows x 24 columns]"
      ]
     },
     "execution_count": 61,
     "metadata": {},
     "output_type": "execute_result"
    }
   ],
   "source": [
    "train.head(2)"
   ]
  },
  {
   "cell_type": "code",
   "execution_count": 62,
   "metadata": {
    "id": "I2m8AC6fDag0"
   },
   "outputs": [],
   "source": [
    "train.reset_index(inplace = True)"
   ]
  },
  {
   "cell_type": "markdown",
   "metadata": {
    "id": "wSK1yNm-M_87"
   },
   "source": [
    "## Encoding Categorical Variables (More Feature Engineering)"
   ]
  },
  {
   "cell_type": "code",
   "execution_count": 63,
   "metadata": {
    "id": "J5xpa_fZ7J9z"
   },
   "outputs": [],
   "source": [
    "# Use OneHotEncoder to encode the categorical features. Get feature names and create a DataFrame \n",
    "# with the one-hot encoded categorical features (pass feature names)\n",
    "ohc = OneHotEncoder(sparse=False, drop=\"first\")\n",
    "ohc_feat = ohc.fit_transform(train[categories])\n",
    "ohc_feat_names = ohc.get_feature_names()\n",
    "ohc_df = pd.DataFrame(ohc_feat, index=train.index, columns=ohc_feat_names) "
   ]
  },
  {
   "cell_type": "code",
   "execution_count": 64,
   "metadata": {
    "id": "boPgtgyaPMVh"
   },
   "outputs": [],
   "source": [
    "# Reassigning df to contain ohc variables\n",
    "train = pd.concat([train, ohc_df], axis=1)"
   ]
  },
  {
   "cell_type": "markdown",
   "metadata": {
    "id": "u9zIwAwWsLer"
   },
   "source": [
    "## Data Scaling"
   ]
  },
  {
   "cell_type": "code",
   "execution_count": 65,
   "metadata": {
    "id": "DceBwwzBAN3_"
   },
   "outputs": [],
   "source": [
    "#create a scaler object\n",
    "scaler = MinMaxScaler()\n",
    "# fit and transform the data\n",
    "train[metrics] = scaler.fit_transform(train[metrics])\n",
    "# train.head(2)"
   ]
  },
  {
   "cell_type": "code",
   "execution_count": 66,
   "metadata": {
    "id": "g-HPCett5EmH"
   },
   "outputs": [],
   "source": [
    "train.reset_index(inplace = True)"
   ]
  },
  {
   "cell_type": "markdown",
   "metadata": {
    "id": "KNQpxY9tSf8E"
   },
   "source": [
    "## Defining the final data to be used and some variables"
   ]
  },
  {
   "cell_type": "code",
   "execution_count": 67,
   "metadata": {
    "id": "qkYXQHPrSk-N"
   },
   "outputs": [],
   "source": [
    "train = train.drop(['CITIZEN_ID', 'Name', 'index'], axis=1)"
   ]
  },
  {
   "cell_type": "code",
   "execution_count": 68,
   "metadata": {
    "id": "X5OuezI2bUT0"
   },
   "outputs": [],
   "source": [
    "to_drop = ['Income','Lives_smean_enc', 'Education_smean_enc', 'Role_smean_enc', 'Marital_smean_enc', 'Continent_smean_enc',\n",
    " 'Employment_smean_enc', 'Area_smean_enc','Group','Native Continent', 'Marital Status', 'Lives with', 'Base Area', 'Education Level','Employment Sector',\n",
    " 'Role', 'level_0'] #, 'index'\n",
    "log_features = train.drop(to_drop,axis=1).columns.tolist()"
   ]
  },
  {
   "cell_type": "markdown",
   "metadata": {
    "id": "tvtjT8Ym9M6c"
   },
   "source": [
    "## Visualizations for Hypothesis\n"
   ]
  },
  {
   "cell_type": "code",
   "execution_count": 107,
   "metadata": {
    "id": "8jCRlVvL3wT6"
   },
   "outputs": [],
   "source": [
    "# age_0 = train['Age'].loc[train['Income']==0]\n",
    "# age_1 = train['Age'].loc[train['Income']==1]\n",
    "\n",
    "# labels = ['Income=0', 'Income=1']\n",
    "# plt.hist([age_0,age_1], bins = int(180/15), stacked=True, label=labels)\n",
    "\n",
    "# # Plot formatting\n",
    "# plt.legend()\n",
    "# plt.xlabel('Age')\n",
    "# plt.ylabel('# of citizens')\n",
    "# plt.title('Ages of Citizens vs Income')"
   ]
  },
  {
   "cell_type": "code",
   "execution_count": 108,
   "metadata": {
    "id": "eDuU72lc7qFk"
   },
   "outputs": [],
   "source": [
    "# educ_0 = train['Years of Education'].loc[train['Income']==0]\n",
    "# educ_1 = train['Years of Education'].loc[train['Income']==1]\n",
    "\n",
    "# labels = ['Income=0', 'Income=1']\n",
    "# plt.hist([educ_0,educ_1], bins = int(180/15), stacked=True, label=labels)\n",
    "\n",
    "\n",
    "# # Plot formatting\n",
    "# plt.legend()\n",
    "# plt.xlabel('Years of Education')\n",
    "# plt.ylabel('# of citizens')\n",
    "# plt.title('Education of Citizens vs Income')"
   ]
  },
  {
   "cell_type": "code",
   "execution_count": 109,
   "metadata": {
    "id": "mIq9Wwj25F2O"
   },
   "outputs": [],
   "source": [
    "# gender_0 = train['Gender'].loc[train['Income']==0]\n",
    "# gender_1 = train['Gender'].loc[train['Income']==1]\n",
    "\n",
    "# labels = ['Income=0', 'Income=1']\n",
    "# plt.hist([gender_0,gender_1], bins = int(180/15), stacked=True, label=labels)\n",
    "\n",
    "# #xaxis ...0 is female, 1 is male\n",
    "\n",
    "# # Plot formatting\n",
    "# plt.legend()\n",
    "# plt.xlabel('Gender')\n",
    "# plt.ylabel('# of citizens')\n",
    "# plt.title('Gender of Citizens vs Income')"
   ]
  },
  {
   "cell_type": "markdown",
   "metadata": {
    "id": "8xOKIMUcOyuU"
   },
   "source": [
    "# Preparing Test Set"
   ]
  },
  {
   "cell_type": "code",
   "execution_count": 69,
   "metadata": {
    "id": "QrXAgpfUTtTE"
   },
   "outputs": [],
   "source": [
    "#create a Gender variable:\n",
    "conditions = [\n",
    "    (test['Name'].str[:3] == \"Mr.\"),\n",
    "    (test['Name'].str[:4] == \"Mrs.\"),\n",
    "    (test['Name'].str[:4] == \"Miss\")\n",
    "    ]\n",
    "\n",
    "# create a list of the values we want to assign for each condition.\n",
    "#1 for male, 0 for female\n",
    "values = [1, 0, 0]\n",
    "\n",
    "# create a new column and use np.select to assign values to it using our lists as arguments\n",
    "test['Gender'] = np.select(conditions, values)"
   ]
  },
  {
   "cell_type": "code",
   "execution_count": 70,
   "metadata": {
    "id": "KgLb4ddHTtTE"
   },
   "outputs": [],
   "source": [
    "#create Age variable:\n",
    "test['Birthday'].to_string\n",
    "test['Birthday_year'] = test['Birthday'].str[-4:]\n",
    "#because we are in the future we check the age of people in 2048\n",
    "test['Age'] = 2048 - test['Birthday_year'].astype(int)\n",
    "#create var Age\n",
    "test['Age']\n",
    "test.drop(['Birthday'], axis = 1, inplace = True)\n",
    "test = test.drop(['Birthday_year'], axis=1)"
   ]
  },
  {
   "cell_type": "code",
   "execution_count": 71,
   "metadata": {
    "id": "4vDzVY_0TtTE"
   },
   "outputs": [],
   "source": [
    "#create a GROUP variable:\n",
    "# create a list of our conditions\n",
    "conditions = [\n",
    "    (test['Money Received']>0),\n",
    "    (test['Ticket Price']>0),\n",
    "    ((test['Money Received']==0) & (test['Ticket Price']==0) )\n",
    "    ]\n",
    "\n",
    "# create a list of the values we want to assign for each condition\n",
    "values = [\"B\", \"C\", \"A\"]\n",
    "\n",
    "# create a new column and use np.select to assign values to it using our lists as arguments\n",
    "test['Group'] = np.select(conditions, values)"
   ]
  },
  {
   "cell_type": "code",
   "execution_count": 72,
   "metadata": {
    "id": "XZsvnnAc3D8m"
   },
   "outputs": [],
   "source": [
    "# fit and transform Test set\n",
    "listb = test[['Years of Education', 'Working Hours per week','Age']]"
   ]
  },
  {
   "cell_type": "code",
   "execution_count": 73,
   "metadata": {
    "id": "El_padRURq-c"
   },
   "outputs": [],
   "source": [
    "range_clusters = range(1,15)\n",
    "inertia2 = []\n",
    "for n_clus in range_clusters:  # iterate over desired ncluster range\n",
    "    kmclust2 = KMeans(n_clusters=n_clus, init='k-means++', n_init=15, random_state=1)\n",
    "    kmclust2.fit(listb)\n",
    "    inertia2.append(kmclust2.inertia_)"
   ]
  },
  {
   "cell_type": "code",
   "execution_count": 74,
   "metadata": {
    "colab": {
     "base_uri": "https://localhost:8080/",
     "height": 357
    },
    "id": "BSnlu18UR-6Q",
    "outputId": "10e4feed-1132-4be2-ba16-9f19f4424631"
   },
   "outputs": [
    {
     "data": {
      "image/png": "[encoded data removed]",
      "text/plain": [
       "<Figure size 648x360 with 1 Axes>"
      ]
     },
     "metadata": {},
     "output_type": "display_data"
    }
   ],
   "source": [
    "# The inertia plot\n",
    "plt.figure(figsize=(9,5))\n",
    "plt.plot(inertia2)\n",
    "plt.ylabel(\"Inertia: SSw\")\n",
    "plt.xlabel(\"Number of clusters\")\n",
    "plt.title(\"Inertia plot over clusters\", size=15)\n",
    "plt.show()"
   ]
  },
  {
   "cell_type": "code",
   "execution_count": 75,
   "metadata": {
    "colab": {
     "base_uri": "https://localhost:8080/"
    },
    "id": "P55frdeAXDCz",
    "outputId": "6c3eb791-0c39-40f5-a246-1c5dd399d262"
   },
   "outputs": [
    {
     "data": {
      "text/plain": [
       "array([1, 1, 1, ..., 3, 1, 0])"
      ]
     },
     "execution_count": 75,
     "metadata": {},
     "output_type": "execute_result"
    }
   ],
   "source": [
    "number_clusters = 4\n",
    "kmclust2 = KMeans(n_clusters=number_clusters, init='k-means++', n_init=15, random_state=1)\n",
    "km_labels2 = kmclust2.fit_predict(listb)\n",
    "km_labels2"
   ]
  },
  {
   "cell_type": "code",
   "execution_count": 76,
   "metadata": {
    "id": "nquh37rzXdX6"
   },
   "outputs": [],
   "source": [
    "df_concat2 = pd.concat((test.copy(), pd.Series(km_labels2, name='labels')), axis=1)\n",
    "bb = df_concat2.groupby('labels').mean()"
   ]
  },
  {
   "cell_type": "code",
   "execution_count": 77,
   "metadata": {
    "colab": {
     "base_uri": "https://localhost:8080/"
    },
    "id": "TIK6CNv0z5uE",
    "outputId": "ba0f0548-6427-45c8-ba87-260f8069a07d"
   },
   "outputs": [
    {
     "data": {
      "text/plain": [
       "labels  Role                          \n",
       "0       Management                        419\n",
       "        Repair & constructions            405\n",
       "        Professor                         398\n",
       "        Administratives                   353\n",
       "        Sales                             273\n",
       "        Other services                    264\n",
       "        Machine Operators & Inspectors    182\n",
       "        Transports                        161\n",
       "        Cleaners & Handlers                84\n",
       "        IT                                 79\n",
       "        Agriculture and Fishing            77\n",
       "        Security                           57\n",
       "        Household Services                 19\n",
       "1       Repair & constructions            692\n",
       "        Administratives                   584\n",
       "        Professor                         541\n",
       "        Management                        473\n",
       "        Sales                             453\n",
       "        Other services                    419\n",
       "        Machine Operators & Inspectors    362\n",
       "        Cleaners & Handlers               274\n",
       "        Transports                        220\n",
       "        IT                                149\n",
       "        Agriculture and Fishing           106\n",
       "        Security                           87\n",
       "        Household Services                 17\n",
       "        Army                                1\n",
       "2       Management                        331\n",
       "        Professor                         256\n",
       "        Sales                             214\n",
       "        Repair & constructions            154\n",
       "        Transports                        120\n",
       "        Agriculture and Fishing            85\n",
       "        Administratives                    57\n",
       "        Other services                     54\n",
       "        Machine Operators & Inspectors     44\n",
       "        Security                           40\n",
       "        IT                                 35\n",
       "        Cleaners & Handlers                19\n",
       "        Household Services                  3\n",
       "        Army                                2\n",
       "3       Other services                    264\n",
       "        Sales                             170\n",
       "        Administratives                   166\n",
       "        Professor                          93\n",
       "        Cleaners & Handlers                69\n",
       "        Repair & constructions             41\n",
       "        IT                                 36\n",
       "        Management                         34\n",
       "        Machine Operators & Inspectors     28\n",
       "        Agriculture and Fishing            22\n",
       "        Transports                         22\n",
       "        Security                           13\n",
       "        Household Services                  8\n",
       "        Army                                1\n",
       "Name: Role, dtype: int64"
      ]
     },
     "execution_count": 77,
     "metadata": {},
     "output_type": "execute_result"
    }
   ],
   "source": [
    "#finding the most common value per label\n",
    "df_concat2.groupby('labels')['Role'].value_counts()"
   ]
  },
  {
   "cell_type": "code",
   "execution_count": 78,
   "metadata": {
    "colab": {
     "base_uri": "https://localhost:8080/"
    },
    "id": "43QDf2iuvOBb",
    "outputId": "4efb7dea-1d31-4ea4-c2ca-467b74a2a693"
   },
   "outputs": [
    {
     "name": "stderr",
     "output_type": "stream",
     "text": [
      "C:\\Users\\saram\\anaconda3\\envs\\ProgrammingFDS\\lib\\site-packages\\pandas\\core\\series.py:4563: SettingWithCopyWarning: \n",
      "A value is trying to be set on a copy of a slice from a DataFrame\n",
      "\n",
      "See the caveats in the documentation: https://pandas.pydata.org/pandas-docs/stable/user_guide/indexing.html#returning-a-view-versus-a-copy\n",
      "  return super().replace(\n",
      "C:\\Users\\saram\\anaconda3\\envs\\ProgrammingFDS\\lib\\site-packages\\pandas\\core\\series.py:4563: SettingWithCopyWarning: \n",
      "A value is trying to be set on a copy of a slice from a DataFrame\n",
      "\n",
      "See the caveats in the documentation: https://pandas.pydata.org/pandas-docs/stable/user_guide/indexing.html#returning-a-view-versus-a-copy\n",
      "  return super().replace(\n",
      "C:\\Users\\saram\\anaconda3\\envs\\ProgrammingFDS\\lib\\site-packages\\pandas\\core\\series.py:4563: SettingWithCopyWarning: \n",
      "A value is trying to be set on a copy of a slice from a DataFrame\n",
      "\n",
      "See the caveats in the documentation: https://pandas.pydata.org/pandas-docs/stable/user_guide/indexing.html#returning-a-view-versus-a-copy\n",
      "  return super().replace(\n",
      "C:\\Users\\saram\\anaconda3\\envs\\ProgrammingFDS\\lib\\site-packages\\pandas\\core\\series.py:4563: SettingWithCopyWarning: \n",
      "A value is trying to be set on a copy of a slice from a DataFrame\n",
      "\n",
      "See the caveats in the documentation: https://pandas.pydata.org/pandas-docs/stable/user_guide/indexing.html#returning-a-view-versus-a-copy\n",
      "  return super().replace(\n"
     ]
    }
   ],
   "source": [
    "#fill missing value with their neighbours\n",
    "df_0b = df_concat2[(df_concat2['labels'] == 0)]\n",
    "df_0b['Role'].replace(np.nan, 'Management',regex=True, inplace= True)\n",
    "df_1b = df_concat2[df_concat2['labels'] == 1]\n",
    "df_1b['Role'].replace(np.nan, 'Repair & constructions',regex=True, inplace= True)\n",
    "df_2b = df_concat2[df_concat2['labels'] == 2]\n",
    "df_2b['Role'].replace(np.nan, 'Management',regex=True, inplace= True)\n",
    "df_3b = df_concat2[df_concat2['labels'] == 3]\n",
    "df_3b['Role'].replace(np.nan, 'Other services',regex=True, inplace= True)"
   ]
  },
  {
   "cell_type": "code",
   "execution_count": 79,
   "metadata": {
    "id": "CcTJKwlRv5bb"
   },
   "outputs": [],
   "source": [
    "test = pd.concat([df_0b,df_1b,df_2b, df_3b])\n",
    "#after having filled in the NaNs, drop the labels column\n",
    "test = test.drop(['labels'], axis=1)"
   ]
  },
  {
   "cell_type": "code",
   "execution_count": 80,
   "metadata": {
    "colab": {
     "base_uri": "https://localhost:8080/"
    },
    "id": "YVjTKp7wJYp9",
    "outputId": "35a05cde-3b53-4e9b-a2a1-5ac12accf4df"
   },
   "outputs": [
    {
     "data": {
      "text/plain": [
       "CITIZEN_ID                  0\n",
       "Name                        0\n",
       "Native Continent            0\n",
       "Marital Status              0\n",
       "Lives with                  0\n",
       "Base Area                 187\n",
       "Education Level             0\n",
       "Years of Education          0\n",
       "Employment Sector         570\n",
       "Role                        0\n",
       "Working Hours per week      0\n",
       "Money Received              0\n",
       "Ticket Price                0\n",
       "Gender                      0\n",
       "Age                         0\n",
       "Group                       0\n",
       "dtype: int64"
      ]
     },
     "execution_count": 80,
     "metadata": {},
     "output_type": "execute_result"
    }
   ],
   "source": [
    "test.isna().sum()"
   ]
  },
  {
   "cell_type": "code",
   "execution_count": 81,
   "metadata": {
    "colab": {
     "base_uri": "https://localhost:8080/"
    },
    "id": "-VFXJmfr50nW",
    "outputId": "2895fd7b-321e-4c1e-dd13-137ad626285e"
   },
   "outputs": [
    {
     "data": {
      "text/plain": [
       "Private Sector - Services     7052\n",
       "Self-Employed (Individual)     772\n",
       "Public Sector - Others         672\n",
       "Private Sector - Others        417\n",
       "Self-Employed (Company)        349\n",
       "Public Sector - Government     266\n",
       "Unemployed                       2\n",
       "Name: Employment Sector, dtype: int64"
      ]
     },
     "execution_count": 81,
     "metadata": {},
     "output_type": "execute_result"
    }
   ],
   "source": [
    "#find the mode value of Employment Sector\n",
    "test['Employment Sector'].value_counts()"
   ]
  },
  {
   "cell_type": "code",
   "execution_count": 82,
   "metadata": {
    "colab": {
     "base_uri": "https://localhost:8080/"
    },
    "id": "H--rZwDu51vR",
    "outputId": "54266bbe-68e1-4d73-abf7-66d9f9c6b8d7"
   },
   "outputs": [
    {
     "data": {
      "text/plain": [
       "Northbury        9055\n",
       "Fanfoss           200\n",
       "Alverton           63\n",
       "Butterpond         40\n",
       "Watford            38\n",
       "Pran               37\n",
       "Laewaes            35\n",
       "Fool's March       31\n",
       "Aroonshire         31\n",
       "Sharnwick          30\n",
       "Lanercost          29\n",
       "Auchenshuggle      26\n",
       "Wigston            24\n",
       "Kirkwall           22\n",
       "Sharpton           21\n",
       "King's Watch       20\n",
       "Cherrytown         19\n",
       "Bellmoral          19\n",
       "Eelry              17\n",
       "Aerilon            15\n",
       "Knife's Edge       14\n",
       "Tranmere           14\n",
       "Willesden          12\n",
       "Drumchapel         12\n",
       "Laenteglos         11\n",
       "Aberuthven         11\n",
       "Kald               10\n",
       "Middlesbrough       9\n",
       "Lewes               8\n",
       "Orilon              7\n",
       "Marnmouth           7\n",
       "Conriston           6\n",
       "Mensfield           5\n",
       "Redwick Bush        5\n",
       "Bellenau            4\n",
       "Woodpine            3\n",
       "MillerVille         3\n",
       "Name: Base Area, dtype: int64"
      ]
     },
     "execution_count": 82,
     "metadata": {},
     "output_type": "execute_result"
    }
   ],
   "source": [
    "#find the mode value of Base Area\n",
    "test['Base Area'].value_counts()"
   ]
  },
  {
   "cell_type": "code",
   "execution_count": 83,
   "metadata": {
    "id": "JrUUtQU4v6go"
   },
   "outputs": [],
   "source": [
    "#fill missing value with the modes\n",
    "test['Employment Sector'].replace(np.nan, 'Private Sector - Services',regex=True, inplace= True)\n",
    "test['Base Area'].replace(np.nan, 'Northbury',regex=True, inplace= True)"
   ]
  },
  {
   "cell_type": "code",
   "execution_count": 84,
   "metadata": {
    "id": "zr25N9Fs7rEv"
   },
   "outputs": [],
   "source": [
    "# test.head(2)"
   ]
  },
  {
   "cell_type": "code",
   "execution_count": 85,
   "metadata": {
    "id": "K5iyJWjZ0a4C"
   },
   "outputs": [],
   "source": [
    "mapping = dict(train[['Native Continent', 'Continent_smean_enc']].values)\n",
    "test['Continent_smean_enc'] = test['Native Continent'].map(mapping)\n",
    "mapping = dict(train[['Marital Status', 'Marital_smean_enc']].values)\n",
    "test['Marital_smean_enc'] = test['Marital Status'].map(mapping)\n",
    "mapping = dict(train[['Role', 'Role_smean_enc']].values)\n",
    "test['Role_smean_enc'] = test['Role'].map(mapping)\n",
    "mapping = dict(train[['Education Level', 'Education_smean_enc']].values)\n",
    "test['Education_smean_enc'] = test['Education Level'].map(mapping)\n",
    "mapping = dict(train[['Lives with', 'Lives_smean_enc']].values)\n",
    "test['Lives_smean_enc'] = test['Lives with'].map(mapping)\n",
    "mapping = dict(train[['Base Area', 'Area_smean_enc']].values)\n",
    "test['Area_smean_enc'] = test['Base Area'].map(mapping)\n",
    "mapping = dict(train[['Employment Sector', 'Employment_smean_enc']].values)\n",
    "test['Employment_smean_enc'] = test['Employment Sector'].map(mapping)"
   ]
  },
  {
   "cell_type": "code",
   "execution_count": 86,
   "metadata": {
    "id": "ckRjBjQLJsFw"
   },
   "outputs": [],
   "source": [
    "# test[['Role','Role_smean_enc']]"
   ]
  },
  {
   "cell_type": "code",
   "execution_count": 87,
   "metadata": {
    "id": "YoaGfe1aeeAO"
   },
   "outputs": [],
   "source": [
    "test.reset_index(inplace = True)"
   ]
  },
  {
   "cell_type": "code",
   "execution_count": 88,
   "metadata": {
    "id": "QwOc6p7xek_j"
   },
   "outputs": [],
   "source": [
    "scaler = MinMaxScaler()\n",
    "# fit and transform the data\n",
    "test[metrics] = scaler.fit_transform(test[metrics])\n",
    "# test.head(2)"
   ]
  },
  {
   "cell_type": "code",
   "execution_count": 89,
   "metadata": {
    "id": "qCX0t7U4P0a6"
   },
   "outputs": [],
   "source": [
    "# Use OneHotEncoder to encode the categorical features. Get feature names and create a DataFrame \n",
    "# with the one-hot encoded categorical features (pass feature names)\n",
    "ohc_test = OneHotEncoder(sparse=False, drop=\"first\")\n",
    "ohc_feat_test = ohc_test.fit_transform(test[categories])\n",
    "ohc_feat_names_test = ohc_test.get_feature_names()\n",
    "ohc_df_test = pd.DataFrame(ohc_feat_test, index=test.index, columns=ohc_feat_names_test) \n",
    "# ohc_df_test"
   ]
  },
  {
   "cell_type": "code",
   "execution_count": 90,
   "metadata": {
    "id": "gny8qvzBQTqX"
   },
   "outputs": [],
   "source": [
    "# Reassigning df to contain ohc variables if you want to!!!\n",
    "test = pd.concat([test.drop(columns=categories), ohc_df_test], axis=1)"
   ]
  },
  {
   "cell_type": "code",
   "execution_count": 91,
   "metadata": {
    "id": "YTGwfH3m30UQ"
   },
   "outputs": [],
   "source": [
    "test.reset_index(inplace = True)"
   ]
  },
  {
   "cell_type": "code",
   "execution_count": 92,
   "metadata": {
    "colab": {
     "base_uri": "https://localhost:8080/"
    },
    "id": "f-IDtg8sJgbW",
    "outputId": "435c9a5b-0123-45d2-c005-ed9ea251661b"
   },
   "outputs": [
    {
     "data": {
      "text/plain": [
       "level_0                            0\n",
       "index                              0\n",
       "CITIZEN_ID                         0\n",
       "Name                               0\n",
       "Years of Education                 0\n",
       "                                  ..\n",
       "x7_Married - Spouse Missing        0\n",
       "x7_Married - Spouse in the Army    0\n",
       "x7_Separated                       0\n",
       "x7_Single                          0\n",
       "x7_Widow                           0\n",
       "Length: 105, dtype: int64"
      ]
     },
     "execution_count": 92,
     "metadata": {},
     "output_type": "execute_result"
    }
   ],
   "source": [
    "test.isna().sum()"
   ]
  },
  {
   "cell_type": "markdown",
   "metadata": {
    "id": "XVPQrsEe28wr"
   },
   "source": [
    "# Logistic Regression"
   ]
  },
  {
   "cell_type": "markdown",
   "metadata": {
    "id": "Xpgwq1HNuoAE"
   },
   "source": [
    "## Logistic Regression (score: 0.6363)"
   ]
  },
  {
   "cell_type": "code",
   "execution_count": 93,
   "metadata": {
    "id": "jWAOH8z8e2eT"
   },
   "outputs": [],
   "source": [
    "to_drop = ['index', 'CITIZEN_ID', 'Name', 'Income','Lives_smean_enc', 'Education_smean_enc', 'Role_smean_enc', 'Marital_smean_enc', 'Continent_smean_enc',\n",
    " 'Employment_smean_enc', 'Area_smean_enc','Group','Native Continent', 'Marital Status', 'Lives with', 'Base Area', 'Education Level','Employment Sector',\n",
    " 'Role']"
   ]
  },
  {
   "cell_type": "code",
   "execution_count": 94,
   "metadata": {
    "id": "8NrUkWwkeyLP"
   },
   "outputs": [],
   "source": [
    "log_features_cleaned = train_cleaned.drop(to_drop,axis=1).columns.tolist()"
   ]
  },
  {
   "cell_type": "code",
   "execution_count": 95,
   "metadata": {
    "id": "-gPsvQyBx16O"
   },
   "outputs": [],
   "source": [
    "X_train, X_test, y_train, y_test = train_test_split(train_cleaned[log_features_cleaned], train_cleaned['Income'], test_size=0.2, random_state=5, stratify=train_cleaned['Income'])"
   ]
  },
  {
   "cell_type": "code",
   "execution_count": 96,
   "metadata": {
    "colab": {
     "base_uri": "https://localhost:8080/"
    },
    "id": "Y3omAmKmx5E9",
    "outputId": "0deb0bbe-f165-4b4e-f333-8f28b110205d"
   },
   "outputs": [
    {
     "name": "stdout",
     "output_type": "stream",
     "text": [
      "[[2976  256]\n",
      " [ 416  588]]\n",
      "0.8413597733711048 0.6363636363636364\n"
     ]
    }
   ],
   "source": [
    "log_model = LogisticRegression(max_iter=2000)\n",
    "log_model.fit(X_train,y_train)\n",
    "y_pred = log_model.predict(X_test)\n",
    "print(confusion_matrix(y_test, y_pred))\n",
    "print(accuracy_score(y_test, y_pred),f1_score(y_test, y_pred))"
   ]
  },
  {
   "cell_type": "code",
   "execution_count": 99,
   "metadata": {
    "id": "8RVGotl4q8Ja"
   },
   "outputs": [],
   "source": [
    "probs = log_model.predict_proba(X_test)\n",
    "preds = probs[:,1]\n",
    "fpr_log, tpr_log, threshold = metrics.roc_curve(y_test, preds)\n",
    "roc_auc_log = metrics.auc(fpr_log, tpr_log)"
   ]
  },
  {
   "cell_type": "code",
   "execution_count": 144,
   "metadata": {
    "id": "22sMT2oZnNLN"
   },
   "outputs": [],
   "source": [
    "# plt.title('Receiver Operating Characteristic')\n",
    "# plt.plot(fpr, tpr, 'b', label = 'AUC = %0.2f' % roc_auc)\n",
    "# plt.legend(loc = 'lower right')\n",
    "# plt.plot([0, 1], [0, 1],'r--')\n",
    "# plt.xlim([0, 1])\n",
    "# plt.ylim([0, 1])\n",
    "# plt.ylabel('True Positive Rate')\n",
    "# plt.xlabel('False Positive Rate')\n",
    "# plt.show()"
   ]
  },
  {
   "cell_type": "code",
   "execution_count": null,
   "metadata": {
    "id": "jgUnhOdxCIxH"
   },
   "outputs": [],
   "source": [
    "##Logistic Regression with RFE (score: 0.596)"
   ]
  },
  {
   "cell_type": "code",
   "execution_count": 151,
   "metadata": {
    "id": "VItGl4-YzLlK"
   },
   "outputs": [],
   "source": [
    "# logreg = LogisticRegression(max_iter=2000)\n",
    "# # Recursive Feature Elimination\n",
    "# rfe = RFE(logreg, 10)\n",
    "# rfe = rfe.fit(X_train, y_train)\n",
    "# print(rfe.support_)\n",
    "# print(rfe.ranking_)"
   ]
  },
  {
   "cell_type": "code",
   "execution_count": 152,
   "metadata": {
    "id": "QVT4xARWziUm"
   },
   "outputs": [],
   "source": [
    "# X_train.columns[rfe.support_]"
   ]
  },
  {
   "cell_type": "code",
   "execution_count": 147,
   "metadata": {
    "id": "OHN5tDjVLeJY"
   },
   "outputs": [],
   "source": [
    "# y = train_cleaned['Income']"
   ]
  },
  {
   "cell_type": "code",
   "execution_count": 148,
   "metadata": {
    "id": "mIu_PkrQzlEA"
   },
   "outputs": [],
   "source": [
    "# X_train_rfe, X_test_rfe, y_train_rfe, y_test_rfe = train_test_split(train_cleaned[X_train.columns[rfe.support_]], y, test_size=0.2, random_state=5, stratify=y)"
   ]
  },
  {
   "cell_type": "code",
   "execution_count": 153,
   "metadata": {
    "id": "iXkGcLerz7mV"
   },
   "outputs": [],
   "source": [
    "# rfe_log_model = LogisticRegression(max_iter=2000)\n",
    "# rfe_log_model.fit(X_train_rfe,y_train_rfe)\n",
    "# y_rfe_pred = rfe_log_model.predict(X_test_rfe)\n",
    "# y_rfe_pred"
   ]
  },
  {
   "cell_type": "code",
   "execution_count": 154,
   "metadata": {
    "id": "SzkJdLFZ0C3N"
   },
   "outputs": [],
   "source": [
    "# accuracy = accuracy_score(y_test, y_rfe_pred)\n",
    "# f1 = f1_score(y_test, y_rfe_pred)\n",
    "# print(accuracy,f1)"
   ]
  },
  {
   "cell_type": "code",
   "execution_count": 156,
   "metadata": {
    "id": "kId1JqUr0McC"
   },
   "outputs": [],
   "source": [
    "# cm = confusion_matrix(y_test, y_pred)\n",
    "# cm"
   ]
  },
  {
   "cell_type": "markdown",
   "metadata": {
    "id": "xDBN1xV3zX2z"
   },
   "source": [
    "Logistic Regression with Synthetic Data (score: 0.664)"
   ]
  },
  {
   "cell_type": "code",
   "execution_count": 157,
   "metadata": {
    "id": "UMitKSGezaGt"
   },
   "outputs": [],
   "source": [
    "# # Synthetic Minority Oversampling Technique\n",
    "# os = SMOTE(random_state=0)\n",
    "# columns = X_train.columns\n",
    "# os_data_X, os_data_y = os.fit_resample(X_train, y_train)\n",
    "# os_data_X = pd.DataFrame(data=os_data_X,columns=columns )\n",
    "# os_data_y= pd.DataFrame(data=os_data_y)\n",
    "\n",
    "# log_syn_model = LogisticRegression(max_iter=2000)\n",
    "# log_syn_model.fit(os_data_X,os_data_y)\n",
    "# y_syn_pred = log_syn_model.predict(X_test)\n",
    "\n",
    "# accuracy = accuracy_score(y_test, y_syn_pred)\n",
    "# f1 = f1_score(y_test, y_syn_pred)\n",
    "# print(accuracy,f1)"
   ]
  },
  {
   "cell_type": "markdown",
   "metadata": {
    "id": "LcJVxh11C5Tm"
   },
   "source": [
    "Association between categorical values "
   ]
  },
  {
   "cell_type": "code",
   "execution_count": null,
   "metadata": {
    "id": "NdeHnXMdP7Ud"
   },
   "outputs": [],
   "source": [
    "#CORRELATION between Education Level and Years of Education\n",
    "#import scipy.stats as ss\n",
    "#def cramers_v(confusion_matrix):\n",
    "#    \"\"\" calculate Cramers V statistic for categorial-categorial association.\n",
    "#        uses correction from Bergsma and Wicher,\n",
    "#        Journal of the Korean Statistical Society 42 (2013): 323-328\n",
    "#    \"\"\"\n",
    "#    chi2 = ss.chi2_contingency(confusion_matrix)[0]\n",
    "#    n = confusion_matrix.sum()\n",
    "#    phi2 = chi2 / n\n",
    "#    r, k = confusion_matrix.shape\n",
    "#    phi2corr = max(0, phi2 - ((k-1)*(r-1))/(n-1))\n",
    "#    rcorr = r - ((r-1)**2)/(n-1)\n",
    "#    kcorr = k - ((k-1)**2)/(n-1)\n",
    "#    return np.sqrt(phi2corr / min((kcorr-1), (rcorr-1)))\n",
    "\n",
    "#c_matrix = pd.crosstab(train_2[\"Years of Education\"], train_2[\"Education Level\"]).values\n",
    "#cramers_v(confusion_matrix)"
   ]
  },
  {
   "cell_type": "code",
   "execution_count": null,
   "metadata": {
    "id": "1oqK1sLIQCg6"
   },
   "outputs": [],
   "source": [
    "#(train_2.groupby(\"Education Level\").mean()['Years of Education']).sort_values()"
   ]
  },
  {
   "cell_type": "code",
   "execution_count": null,
   "metadata": {
    "id": "wz7sLBUzV1Lq"
   },
   "outputs": [],
   "source": [
    "#education_levels=train_2['Education Level'].unique()\n",
    "#for level in education_levels:\n",
    "#  ed_level=train_2.loc[train_2['Education Level']==level]\n",
    "#  print(level,ed_level['Years of Education'].unique())"
   ]
  },
  {
   "cell_type": "code",
   "execution_count": null,
   "metadata": {
    "id": "ER9lT6ZQzwQ2"
   },
   "outputs": [],
   "source": [
    "#different years of educationtplot \n",
    "#np.sort((train[\"Years of Education\"].unique()))"
   ]
  },
  {
   "cell_type": "markdown",
   "metadata": {
    "id": "OvbOFF4VXsfA"
   },
   "source": [
    "Education levels + Years of Education to categorical values"
   ]
  },
  {
   "cell_type": "code",
   "execution_count": null,
   "metadata": {
    "id": "eSeOamzhyHOZ"
   },
   "outputs": [],
   "source": [
    "#levels=['High School Complete','Professional School + PostGraduation','High School + PostGraduation','Professional School']\n",
    "#train_2.loc[train_2['Education Level'].isin(levels)].groupby(['Education Level','Income']).agg({'CITIZEN_ID': 'count'})"
   ]
  },
  {
   "cell_type": "code",
   "execution_count": null,
   "metadata": {
    "id": "wB40Fzh_XgCp"
   },
   "outputs": [],
   "source": [
    "#train_2.loc[train_2['Education Level'].isin(levels)].groupby(['Education Level']).agg({'CITIZEN_ID': 'count'})"
   ]
  },
  {
   "cell_type": "code",
   "execution_count": null,
   "metadata": {
    "id": "faiZNNOsZibu"
   },
   "outputs": [],
   "source": [
    "#X2 = train_2.drop(columns=['Income'])\n",
    "#y2 = train_2['Income']\n",
    "#from sklearn.model_selection import train_test_split\n",
    "#X_train, X_val, y_train, y_val = train_test_split(X2, y2, test_size=0.25, stratify = y2, random_state=5)\n"
   ]
  },
  {
   "cell_type": "markdown",
   "metadata": {
    "id": "wcB8HlXJkscm"
   },
   "source": [
    "# Gaussian Bayes (0.8303)"
   ]
  },
  {
   "cell_type": "code",
   "execution_count": 101,
   "metadata": {},
   "outputs": [],
   "source": [
    "metrics = ['Years of Education', 'Working Hours per week', 'Money Received',\n",
    "       'Ticket Price', 'Gender', 'Age', 'Lives_smean_enc',\n",
    "       'Education_smean_enc', 'Role_smean_enc', 'Marital_smean_enc',\n",
    "       'Continent_smean_enc', 'Employment_smean_enc', 'Area_smean_enc']"
   ]
  },
  {
   "cell_type": "code",
   "execution_count": 102,
   "metadata": {
    "id": "5gjak507m3Mq",
    "scrolled": true
   },
   "outputs": [],
   "source": [
    "X = train[metrics]\n",
    "target= train['Income']"
   ]
  },
  {
   "cell_type": "code",
   "execution_count": 103,
   "metadata": {
    "id": "o_4ILnNe6CSc"
   },
   "outputs": [],
   "source": [
    "X_train, X_test, y_train, y_test = train_test_split(X,target, test_size=0.2, random_state=5, stratify=target)\n",
    "modelNB = GaussianNB()\n",
    "modelNB.fit(X = X_train, y = y_train)\n",
    "\n",
    "y_pred = modelNB.predict(X_test)"
   ]
  },
  {
   "cell_type": "code",
   "execution_count": 104,
   "metadata": {
    "colab": {
     "base_uri": "https://localhost:8080/"
    },
    "id": "dbjnt5EE-AQa",
    "outputId": "d261a3d3-0d0a-4a45-9bb8-def079f78313"
   },
   "outputs": [
    {
     "name": "stdout",
     "output_type": "stream",
     "text": [
      "[[3100  318]\n",
      " [ 442  620]]\n",
      "0.8359375\n",
      "0.8303571428571429\n",
      "0.8303571428571429\n"
     ]
    }
   ],
   "source": [
    "print(confusion_matrix(y_test, y_pred))\n",
    "print(modelNB.score(X_train, y_train))\n",
    "print(modelNB.score(X_test, y_test))\n",
    "\n",
    "accuracy = accuracy_score(y_test, y_pred)\n",
    "f1 = f1_score(y_test, y_pred, average = \"micro\")\n",
    "print(f1)"
   ]
  },
  {
   "cell_type": "code",
   "execution_count": 106,
   "metadata": {
    "id": "NhPGVaTMwt_D"
   },
   "outputs": [],
   "source": [
    "# print(classification_report(y_true = y_test, y_pred = y_pred))"
   ]
  },
  {
   "cell_type": "markdown",
   "metadata": {
    "id": "5y-8Auk15R_t"
   },
   "source": [
    "## Categorical NB (0.8098)"
   ]
  },
  {
   "cell_type": "code",
   "execution_count": 107,
   "metadata": {
    "id": "fC0JjmzTn57x"
   },
   "outputs": [],
   "source": [
    "modelNB2 = CategoricalNB()"
   ]
  },
  {
   "cell_type": "code",
   "execution_count": 108,
   "metadata": {
    "id": "IZrEHi56CqS4"
   },
   "outputs": [],
   "source": [
    "train2 = train.copy()"
   ]
  },
  {
   "cell_type": "code",
   "execution_count": 109,
   "metadata": {
    "id": "vEfez6rGHupK"
   },
   "outputs": [],
   "source": [
    "for i in categories:\n",
    "  train2[i] = train2[i].astype('category')"
   ]
  },
  {
   "cell_type": "code",
   "execution_count": 110,
   "metadata": {
    "id": "PllakUyIDVe7"
   },
   "outputs": [],
   "source": [
    "ord_enc = OrdinalEncoder()\n",
    "for i in categories:\n",
    "  train2[i] = ord_enc.fit_transform(train2[[i]])"
   ]
  },
  {
   "cell_type": "code",
   "execution_count": 111,
   "metadata": {
    "colab": {
     "base_uri": "https://localhost:8080/"
    },
    "id": "aSZRSWnZoN3o",
    "outputId": "ff68b67a-d50d-4e91-8bd3-c954647b589b"
   },
   "outputs": [
    {
     "name": "stdout",
     "output_type": "stream",
     "text": [
      "0.8098214285714285\n"
     ]
    }
   ],
   "source": [
    "X_train, X_test, y_train, y_test = train_test_split(train2[categories], train['Income'], test_size=0.25, stratify = train['Income'], random_state=5)\n",
    "modelNB2.fit(X = X_train, y = y_train)\n",
    "\n",
    "y_pred = modelNB2.predict(X_test)\n",
    "# print(confusion_matrix(y_test, y_pred))\n",
    "print(f1_score(y_test, y_pred, average = \"micro\"))\n"
   ]
  },
  {
   "cell_type": "markdown",
   "metadata": {
    "id": "pq8UqibICWXy"
   },
   "source": [
    "# Neural Network"
   ]
  },
  {
   "cell_type": "markdown",
   "metadata": {
    "id": "fED83OWYaFmv"
   },
   "source": [
    "MLP with SMOTE\n"
   ]
  },
  {
   "cell_type": "code",
   "execution_count": null,
   "metadata": {
    "id": "u-RAvgCfTisC"
   },
   "outputs": [],
   "source": [
    "#using os_data_X and os_data_y defined in logistic regression with synthetic data.\n",
    "#The code is upsampling 1s since we have an imbalanced dataset"
   ]
  },
  {
   "cell_type": "code",
   "execution_count": null,
   "metadata": {
    "id": "kR9KMwwl_f7N"
   },
   "outputs": [],
   "source": [
    "# X_train, X_val, y_train, y_val = train_test_split(os_data_X,\n",
    "#                                                   os_data_y, \n",
    "#                                                     test_size=0.2, \n",
    "#                                                     random_state=15, \n",
    "#                                                     shuffle=True, \n",
    "#                                                     stratify=os_data_y\n",
    "#                                                    )"
   ]
  },
  {
   "cell_type": "code",
   "execution_count": null,
   "metadata": {
    "id": "HzMRLibe_f0z"
   },
   "outputs": [],
   "source": [
    "# model = MLPClassifier(hidden_layer_sizes = (50),activation='tanh',learning_rate='adaptive',max_iter = 500)"
   ]
  },
  {
   "cell_type": "code",
   "execution_count": null,
   "metadata": {
    "id": "07kk5wMk_tfp"
   },
   "outputs": [],
   "source": [
    "# model.fit(os_data_X, os_data_y)"
   ]
  },
  {
   "cell_type": "code",
   "execution_count": null,
   "metadata": {
    "id": "siLQDaLb_teK"
   },
   "outputs": [],
   "source": [
    "# labels_train = model.predict(X_train)\n",
    "# labels_val = model.predict(X_val)"
   ]
  },
  {
   "cell_type": "code",
   "execution_count": null,
   "metadata": {
    "id": "VnKJLnFy_5n5"
   },
   "outputs": [],
   "source": [
    "# print('Results on the validation set:')\n",
    "# print(\n",
    "#     classification_report(y_true = y_val, y_pred = labels_val)\n",
    "# )"
   ]
  },
  {
   "cell_type": "code",
   "execution_count": null,
   "metadata": {
    "id": "zNc4Grd2AQHP"
   },
   "outputs": [],
   "source": [
    "# cm = confusion_matrix(y_val, labels_val)\n",
    "# f1 = f1_score(y_val, labels_val, average = 'micro')\n",
    "# print(cm,f1)"
   ]
  },
  {
   "cell_type": "markdown",
   "metadata": {
    "id": "WfDL0ebV48rt"
   },
   "source": [
    "MLP - One hot encoding var"
   ]
  },
  {
   "cell_type": "code",
   "execution_count": null,
   "metadata": {
    "id": "_0CG6psB5YRn"
   },
   "outputs": [],
   "source": [
    "# X = train[log_features]\n",
    "# y = train['Income']"
   ]
  },
  {
   "cell_type": "code",
   "execution_count": null,
   "metadata": {
    "id": "967DU-0L48rx"
   },
   "outputs": [],
   "source": [
    "# X_train, X_val, y_train, y_val = train_test_split(X,\n",
    "#                                                   y, \n",
    "#                                                     test_size=0.33, \n",
    "#                                                     random_state=15, \n",
    "#                                                     shuffle=True, \n",
    "#                                                     stratify=y\n",
    "#                                                    )"
   ]
  },
  {
   "cell_type": "code",
   "execution_count": null,
   "metadata": {
    "id": "k7fHAmPD48ry"
   },
   "outputs": [],
   "source": [
    "# model = MLPClassifier(hidden_layer_sizes = (100,50),max_iter = 300)"
   ]
  },
  {
   "cell_type": "code",
   "execution_count": null,
   "metadata": {
    "id": "0LjlpFmu48ry"
   },
   "outputs": [],
   "source": [
    "# model.fit(X_train, y_train)"
   ]
  },
  {
   "cell_type": "code",
   "execution_count": null,
   "metadata": {
    "id": "4Tin4GgJ48ry"
   },
   "outputs": [],
   "source": [
    "# labels_train = model.predict(X_train)\n",
    "# labels_val = model.predict(X_val)"
   ]
  },
  {
   "cell_type": "code",
   "execution_count": null,
   "metadata": {
    "id": "zGSk3xxq48rz"
   },
   "outputs": [],
   "source": [
    "# print('Results on the validation set:')\n",
    "# print(\n",
    "#     # write your code in here\n",
    "#     classification_report(y_true = y_val, y_pred = labels_val)\n",
    "# )"
   ]
  },
  {
   "cell_type": "code",
   "execution_count": null,
   "metadata": {
    "id": "4R5hIZvV48rz"
   },
   "outputs": [],
   "source": [
    "# cm = confusion_matrix(y_val, labels_val)\n",
    "# f1 = f1_score(y_val, labels_val, average = 'micro')\n",
    "# print(cm,f1)"
   ]
  },
  {
   "cell_type": "markdown",
   "metadata": {
    "id": "uyQBiWvACezZ"
   },
   "source": [
    "## MLP - Mean encoded var (0.85607)\n"
   ]
  },
  {
   "cell_type": "code",
   "execution_count": 112,
   "metadata": {
    "id": "YKCD5uetCeza"
   },
   "outputs": [],
   "source": [
    "X = train[metrics]\n",
    "y = train['Income']"
   ]
  },
  {
   "cell_type": "code",
   "execution_count": 113,
   "metadata": {
    "id": "KTiX6qNaCeza"
   },
   "outputs": [],
   "source": [
    "X_train, X_val, y_train, y_val = train_test_split(X,\n",
    "                                                  y, \n",
    "                                                    test_size=0.25, \n",
    "                                                    random_state=15, \n",
    "                                                    shuffle=True, \n",
    "                                                    stratify=y\n",
    "                                                   )"
   ]
  },
  {
   "cell_type": "code",
   "execution_count": 114,
   "metadata": {
    "id": "t03xGpYHCezb"
   },
   "outputs": [],
   "source": [
    "model = MLPClassifier(activation = 'tanh', hidden_layer_sizes = (50, 100, 50), learning_rate = 'adaptive',\n",
    "                      learning_rate_init = 0.05000500000000001, solver = 'sgd')"
   ]
  },
  {
   "cell_type": "code",
   "execution_count": 115,
   "metadata": {
    "colab": {
     "base_uri": "https://localhost:8080/"
    },
    "id": "1VQ1QR06Cezc",
    "outputId": "93979de6-1f45-4b32-f7ae-c2fdcff2f1d7"
   },
   "outputs": [
    {
     "name": "stderr",
     "output_type": "stream",
     "text": [
      "C:\\Users\\saram\\anaconda3\\envs\\ProgrammingFDS\\lib\\site-packages\\sklearn\\neural_network\\_multilayer_perceptron.py:582: ConvergenceWarning: Stochastic Optimizer: Maximum iterations (200) reached and the optimization hasn't converged yet.\n",
      "  warnings.warn(\n"
     ]
    },
    {
     "data": {
      "text/plain": [
       "MLPClassifier(activation='tanh', hidden_layer_sizes=(50, 100, 50),\n",
       "              learning_rate='adaptive', learning_rate_init=0.05000500000000001,\n",
       "              solver='sgd')"
      ]
     },
     "execution_count": 115,
     "metadata": {},
     "output_type": "execute_result"
    }
   ],
   "source": [
    "model.fit(X_train, y_train)"
   ]
  },
  {
   "cell_type": "code",
   "execution_count": 116,
   "metadata": {
    "id": "ADKQ_5UICezd"
   },
   "outputs": [],
   "source": [
    "labels_train = model.predict(X_train)\n",
    "labels_val = model.predict(X_val)"
   ]
  },
  {
   "cell_type": "code",
   "execution_count": 117,
   "metadata": {
    "colab": {
     "base_uri": "https://localhost:8080/"
    },
    "id": "raLPN3VgiEbR",
    "outputId": "09354b0f-eb34-46fa-ebe5-4d4b74932bab"
   },
   "outputs": [
    {
     "data": {
      "text/plain": [
       "0.8609523809523809"
      ]
     },
     "execution_count": 117,
     "metadata": {},
     "output_type": "execute_result"
    }
   ],
   "source": [
    "f1_score(y_train, labels_train, average = 'micro')"
   ]
  },
  {
   "cell_type": "code",
   "execution_count": 118,
   "metadata": {
    "colab": {
     "base_uri": "https://localhost:8080/"
    },
    "id": "2fXpZagxiCq0",
    "outputId": "090b3df5-8a27-49d3-8d8d-c76bab0b5d03"
   },
   "outputs": [
    {
     "data": {
      "text/plain": [
       "0.8560714285714286"
      ]
     },
     "execution_count": 118,
     "metadata": {},
     "output_type": "execute_result"
    }
   ],
   "source": [
    "f1_score(y_val, labels_val, average = 'micro')"
   ]
  },
  {
   "cell_type": "code",
   "execution_count": null,
   "metadata": {
    "id": "fTCeOGXaCezd"
   },
   "outputs": [],
   "source": [
    "# print('Results on the validation set:')\n",
    "# print(\n",
    "#     # write your code in here\n",
    "#     classification_report(y_true = y_val, y_pred = labels_val)\n",
    "# )"
   ]
  },
  {
   "cell_type": "code",
   "execution_count": 180,
   "metadata": {
    "id": "mZ04r1M4Ceze"
   },
   "outputs": [],
   "source": [
    "# cm = confusion_matrix(y_val, labels_val)\n",
    "# f1 = f1_score(y_val, labels_val, average = 'micro')\n",
    "# print(cm,f1)"
   ]
  },
  {
   "cell_type": "code",
   "execution_count": null,
   "metadata": {
    "id": "Dg-cLXN7SR75"
   },
   "outputs": [],
   "source": [
    "#best params for this\n",
    "# {'activation': 'tanh',\n",
    "#  'hidden_layer_sizes': (50, 100, 50),\n",
    "#  'learning_rate': 'adaptive',\n",
    "#  'learning_rate_init': 0.05000500000000001,\n",
    "#  'solver': 'sgd'}"
   ]
  },
  {
   "cell_type": "code",
   "execution_count": 181,
   "metadata": {
    "id": "I4-cWQmONmUz"
   },
   "outputs": [],
   "source": [
    "# y_val.index"
   ]
  },
  {
   "cell_type": "code",
   "execution_count": null,
   "metadata": {
    "id": "GQX2oaZJEslw"
   },
   "outputs": [],
   "source": [
    "# labels_val1 = pd.DataFrame(labels_val,  index=y_val.index)"
   ]
  },
  {
   "cell_type": "code",
   "execution_count": null,
   "metadata": {
    "id": "8YrxDxCvMIZy"
   },
   "outputs": [],
   "source": [
    "# NN_concat = pd.concat([train[metrics1], labels_val1], join='inner', axis=1)"
   ]
  },
  {
   "cell_type": "code",
   "execution_count": null,
   "metadata": {
    "id": "OeVi0AD9F88u"
   },
   "outputs": [],
   "source": [
    "# NN_concat"
   ]
  },
  {
   "cell_type": "code",
   "execution_count": null,
   "metadata": {
    "id": "uaY-CEVEFlBU"
   },
   "outputs": [],
   "source": [
    "# NN_concat['Income'] = NN_concat[0]"
   ]
  },
  {
   "cell_type": "code",
   "execution_count": 182,
   "metadata": {
    "id": "sGBX6Eb7NhNR"
   },
   "outputs": [],
   "source": [
    "# NN_concat.groupby(\"Income\").mean().round(2)"
   ]
  },
  {
   "cell_type": "code",
   "execution_count": null,
   "metadata": {
    "id": "_iXocN3uN0nO"
   },
   "outputs": [],
   "source": [
    "# train[['Lives_smean_enc','Education_smean_enc', 'Role_smean_enc', 'Marital_smean_enc','Years of Education',\n",
    "#  'Working Hours per week','Money Received','Ticket Price','Gender','Age', 'Income']].groupby('Income').mean().round(2)"
   ]
  },
  {
   "cell_type": "code",
   "execution_count": null,
   "metadata": {
    "id": "fIFnM8eum9Cc"
   },
   "outputs": [],
   "source": [
    "# y_pred_proba = model.predict_proba(X_val)[::,1]\n",
    "# fpr, tpr, _ = metrics.roc_curve(y_val,  y_pred_proba)\n",
    "# auc = metrics.roc_auc_score(y_val, y_pred_proba)\n",
    "# plt.plot(fpr,tpr,label=\"data 1, auc=\"+str(auc))\n",
    "# plt.legend(loc=4)\n",
    "# plt.show()"
   ]
  },
  {
   "cell_type": "code",
   "execution_count": 183,
   "metadata": {
    "id": "whusRULDoPnk"
   },
   "outputs": [],
   "source": [
    "# perm = PermutationImportance(model, random_state=1).fit(X_val, y_val)\n",
    "# eli5.show_weights(perm, feature_names = X_val.columns.tolist())"
   ]
  },
  {
   "cell_type": "markdown",
   "metadata": {
    "id": "eUoWyl5nFqTF"
   },
   "source": [
    "MLP with Downsampling"
   ]
  },
  {
   "cell_type": "code",
   "execution_count": null,
   "metadata": {
    "id": "ajf3WBEyGbIL"
   },
   "outputs": [],
   "source": [
    "#train_0 = train[train['Income']==0]\n",
    "#train_00 = train_0[metrics1].astype(float)\n",
    "#X = train_00\n",
    "#train_01 = train_0[metrics1].astype(float)"
   ]
  },
  {
   "cell_type": "code",
   "execution_count": null,
   "metadata": {
    "id": "iQxjCOscGbIL"
   },
   "outputs": [],
   "source": [
    "#import numpy as np\n",
    "#from math import sqrt\n",
    "#def CCMUT(X,f):\n",
    "    # 1. finding cluster centroid....\n",
    "    #cluster_centroid = np.sum(X,axis=0)/X.shape[0]\n",
    "    # 2. finding Euclidean Distance from cluster centroid to samples\n",
    "    #euclidean = [None]*X.shape[0]\n",
    "    #for i in range(0,X.shape[0]):\n",
    "        #euclidean[i] = sqrt(sum((cluster_centroid-X.iloc[i])**2))\n",
    "    # 3. tracking indices of samples in descending order of distance\n",
    "    #indices = list(reversed(sorted(range(len(euclidean)), \n",
    "    #key = lambda j: euclidean[j])))\n",
    "    # 4. removing the instances or under-sampling order-wise....\n",
    "    #X_f = X.iloc[:int(f/100*X.shape[0])]\n",
    "    # 5. returning the under-sampled Majority Sample Matrix\n",
    "    #return X_f"
   ]
  },
  {
   "cell_type": "code",
   "execution_count": null,
   "metadata": {
    "id": "JYr4N_zFGbIL"
   },
   "outputs": [],
   "source": [
    "#X_0red = CCMUT(X,75).index.tolist()"
   ]
  },
  {
   "cell_type": "code",
   "execution_count": null,
   "metadata": {
    "id": "cE5NDbfzGbIL"
   },
   "outputs": [],
   "source": [
    "#X_1 = train[train['Income']==1].index.tolist()\n",
    "#indices_red = X_0red + X_1\n",
    "#trainNN = train.iloc[indices_red]\n",
    "#trainNN = trainNN.drop(columns = \"level_0\", axis =1)\n",
    "#trainNN.reset_index(inplace = True)"
   ]
  },
  {
   "cell_type": "code",
   "execution_count": null,
   "metadata": {
    "id": "GGaTeMT2GbIL"
   },
   "outputs": [],
   "source": [
    "# X = trainNN[metrics1]\n",
    "# y =  trainNN['Income']"
   ]
  },
  {
   "cell_type": "code",
   "execution_count": null,
   "metadata": {
    "id": "l1FlO31jGbIL"
   },
   "outputs": [],
   "source": [
    "# X_train, X_val, y_train, y_val = train_test_split(X,\n",
    "#                                                   y, \n",
    "#                                                     test_size=0.33, \n",
    "#                                                     random_state=15, \n",
    "#                                                     shuffle=True, \n",
    "#                                                     stratify=y\n",
    "#                                                    )"
   ]
  },
  {
   "cell_type": "code",
   "execution_count": null,
   "metadata": {
    "id": "Q9J_8sZQGbIL"
   },
   "outputs": [],
   "source": [
    "# model = MLPClassifier(activation='tanh',max_iter = 300)"
   ]
  },
  {
   "cell_type": "code",
   "execution_count": null,
   "metadata": {
    "id": "BanC36CwGbIL"
   },
   "outputs": [],
   "source": [
    "# model.fit(X_train, y_train)"
   ]
  },
  {
   "cell_type": "code",
   "execution_count": null,
   "metadata": {
    "id": "kW26-lCdGbIM"
   },
   "outputs": [],
   "source": [
    "# labels_train = model.predict(X_train)\n",
    "# labels_val = model.predict(X_val)"
   ]
  },
  {
   "cell_type": "code",
   "execution_count": null,
   "metadata": {
    "id": "D9BZVDa_GbIM"
   },
   "outputs": [],
   "source": [
    "# print('Results on the validation set:')\n",
    "# print(\n",
    "#     # write your code in here\n",
    "#     classification_report(y_true = y_val, y_pred = labels_val)\n",
    "# )"
   ]
  },
  {
   "cell_type": "code",
   "execution_count": null,
   "metadata": {
    "id": "_oVPl67FGbIM"
   },
   "outputs": [],
   "source": [
    "# cm = confusion_matrix(y_val, labels_val)\n",
    "# f1 = f1_score(y_val, labels_val, average = 'micro')\n",
    "# print(cm,f1)"
   ]
  },
  {
   "cell_type": "code",
   "execution_count": null,
   "metadata": {
    "id": "0GOloVa-1Roe"
   },
   "outputs": [],
   "source": [
    "# y_pred_proba = model.predict_proba(X_val)[::,1]\n",
    "# fpr, tpr, _ = metrics.roc_curve(y_val,  y_pred_proba)\n",
    "# auc = metrics.roc_auc_score(y_val, y_pred_proba)\n",
    "# plt.plot(fpr,tpr,label=\"data 1, auc=\"+str(auc))\n",
    "# plt.legend(loc=4)\n",
    "# plt.show()"
   ]
  },
  {
   "cell_type": "code",
   "execution_count": null,
   "metadata": {
    "id": "-m41gQ7p1VNQ"
   },
   "outputs": [],
   "source": [
    "# perm = PermutationImportance(model, random_state=1).fit(X_val, y_val)\n",
    "# eli5.show_weights(perm, feature_names = X_val.columns.tolist())"
   ]
  },
  {
   "cell_type": "markdown",
   "metadata": {
    "id": "vwcr-cFGXDZD"
   },
   "source": [
    "# K Nearest Neighbours (0.8347)"
   ]
  },
  {
   "cell_type": "code",
   "execution_count": 119,
   "metadata": {
    "id": "BOgLHY2VDyOG"
   },
   "outputs": [],
   "source": [
    "x = train_cleaned.drop(['Income'], axis=1)\n",
    "y=train_cleaned['Income']\n",
    "X_train, X_val, y_train, y_val = train_test_split(train_cleaned[metrics], y, test_size=0.25, stratify = y, random_state=5)\n",
    "modelKNN = KNeighborsClassifier(n_neighbors=15)\n",
    "modelKNN.fit(X = X_train, y = y_train)\n",
    "\n",
    "labels_train = modelKNN.predict(X_train)\n",
    "labels_val = modelKNN.predict(X_val)\n",
    "# print(classification_report(y_val, labels_val))"
   ]
  },
  {
   "cell_type": "code",
   "execution_count": 185,
   "metadata": {
    "colab": {
     "base_uri": "https://localhost:8080/",
     "height": 285
    },
    "id": "8VFfO8NrmC1R",
    "outputId": "f62e7ccc-1930-4cb3-8dcf-3085cc343c03"
   },
   "outputs": [
    {
     "data": {
      "image/png": "[encoded data removed]",
      "text/plain": [
       "<Figure size 432x288 with 1 Axes>"
      ]
     },
     "metadata": {
      "tags": []
     },
     "output_type": "display_data"
    }
   ],
   "source": [
    "scores = []\n",
    "\n",
    "# Calculating error for K values between 1 and 80\n",
    "for i in range(1, 80):\n",
    "    knn = KNeighborsClassifier(n_neighbors=i)\n",
    "    knn.fit(X_train, y_train)\n",
    "    labels_val = knn.predict(X_val)\n",
    "    scores.append(f1_score(y_val, labels_val))\n",
    "plt.plot(scores)\n",
    "plt.xlabel('Value of K for KNN')\n",
    "plt.ylabel('Testing Accuracy')\n",
    "plt.grid()"
   ]
  },
  {
   "cell_type": "markdown",
   "metadata": {
    "id": "tfbVjf6BkrVW"
   },
   "source": [
    "## Distance weighted"
   ]
  },
  {
   "cell_type": "code",
   "execution_count": 120,
   "metadata": {
    "id": "bmgGm_uQM8RV"
   },
   "outputs": [],
   "source": [
    "#KNN weighted distance\n",
    "modelKNNW= KNeighborsClassifier(weights='distance', n_neighbors=25)\n",
    "modelKNNW.fit(X = X_train, y = y_train)\n",
    "labels_train = modelKNNW.predict(X_train)\n",
    "labels_val = modelKNNW.predict(X_val)\n",
    "# print(classification_report(y_val, labels_val))"
   ]
  },
  {
   "cell_type": "code",
   "execution_count": 121,
   "metadata": {
    "colab": {
     "base_uri": "https://localhost:8080/"
    },
    "id": "f9sxHgtDjTIq",
    "outputId": "a00e1a78-86f5-4a46-c1db-537da9358935"
   },
   "outputs": [
    {
     "data": {
      "text/plain": [
       "0.9831266133601965"
      ]
     },
     "execution_count": 121,
     "metadata": {},
     "output_type": "execute_result"
    }
   ],
   "source": [
    "labels_train = modelKNNW.predict(X_train)\n",
    "labels_val = modelKNNW.predict(X_val)\n",
    "f1_score(y_train, labels_train, average = 'micro')"
   ]
  },
  {
   "cell_type": "code",
   "execution_count": 122,
   "metadata": {
    "colab": {
     "base_uri": "https://localhost:8080/"
    },
    "id": "2dt0STwIjbq_",
    "outputId": "a5a13ef0-51f4-4034-e338-17c1b51c4eba"
   },
   "outputs": [
    {
     "data": {
      "text/plain": [
       "0.8347497639282342"
      ]
     },
     "execution_count": 122,
     "metadata": {},
     "output_type": "execute_result"
    }
   ],
   "source": [
    "f1_score(y_val, labels_val, average = 'micro')"
   ]
  },
  {
   "cell_type": "code",
   "execution_count": null,
   "metadata": {
    "id": "YmXrWpR0sxl2"
   },
   "outputs": [],
   "source": [
    "# probs = log_model.predict_proba(X_test)\n",
    "# preds = probs[:,1]\n",
    "# fpr_log, tpr_log, threshold = metrics.roc_curve(y_test, preds)\n",
    "# roc_auc_log = metrics.auc(fpr_log, tpr_log)"
   ]
  },
  {
   "cell_type": "markdown",
   "metadata": {
    "id": "UcPC_DQZk_u7"
   },
   "source": [
    "With manhattan distance"
   ]
  },
  {
   "cell_type": "code",
   "execution_count": null,
   "metadata": {
    "id": "q93pcdgoRy5g"
   },
   "outputs": [],
   "source": [
    "#modelKNNW= KNeighborsClassifier(n_neighbors=25,p=1)\n",
    "#modelKNNW.fit(X = X_train, y = y_train)\n",
    "#labels_train = modelKNNW.predict(X_train)\n",
    "#labels_val = modelKNNW.predict(X_val)\n",
    "#print(classification_report(y_val, labels_val))"
   ]
  },
  {
   "cell_type": "markdown",
   "metadata": {
    "id": "2uAHS1kzlJ0m"
   },
   "source": [
    "With minkowski distance"
   ]
  },
  {
   "cell_type": "code",
   "execution_count": null,
   "metadata": {
    "id": "RyrA6qNgTRwM"
   },
   "outputs": [],
   "source": [
    "#KNN with minkowski distance\n",
    "\n",
    "#modelKNNW= KNeighborsClassifier(n_neighbors=25,p=3)\n",
    "#modelKNNW.fit(X = X_train, y = y_train)\n",
    "#labels_train = modelKNNW.predict(X_train)\n",
    "#labels_val = modelKNNW.predict(X_val)\n",
    "#print(classification_report(y_val, labels_val))"
   ]
  },
  {
   "cell_type": "markdown",
   "metadata": {
    "id": "KWncscSklZ1-"
   },
   "source": [
    "K-d tree"
   ]
  },
  {
   "cell_type": "code",
   "execution_count": null,
   "metadata": {
    "id": "G0Hvn2pUTivC"
   },
   "outputs": [],
   "source": [
    "#modelKNNT = KNeighborsClassifier(algorithm='kd_tree')\n",
    "#modelKNNT.fit(X = X_train, y = y_train)\n",
    "#labels_val = modelKNNT.predict(X_val)\n",
    "#print(classification_report(y_val, labels_val))"
   ]
  },
  {
   "cell_type": "markdown",
   "metadata": {
    "id": "M43zXofsU2lJ"
   },
   "source": [
    "# Decision Tree (0.8155)\n"
   ]
  },
  {
   "cell_type": "code",
   "execution_count": 189,
   "metadata": {
    "id": "-jqStzFdU7Ok"
   },
   "outputs": [],
   "source": [
    "# Independent Variable\n",
    "x = train[metrics]\n",
    "# Dependent Variable\n",
    "y = train['Income']\n",
    "X_train, X_test, y_train, y_test = train_test_split(x, y, test_size = 0.25, random_state = 15, stratify = y)"
   ]
  },
  {
   "cell_type": "code",
   "execution_count": 190,
   "metadata": {
    "id": "rFMKMromWJ5o"
   },
   "outputs": [],
   "source": [
    "dt_entropy = DecisionTreeClassifier(criterion = 'entropy').fit(X_train, y_train)\n",
    "y_pred = dt_entropy.predict(X_test)\n",
    "# print(confusion_matrix(y_test, y_pred))\n",
    "# accuracy = accuracy_score(y_test, y_pred)\n",
    "f1 = f1_score(y_test, y_pred, average = 'micro')\n",
    "# print(f1)\n",
    "# print('The defined three has a depth of ' + str(dt_entropy.get_depth()) + ', ' + str(dt_entropy.tree_.node_count) + \n",
    "#       ' nodes and a total of ' + str(dt_entropy.get_n_leaves()) + ' leaves.')"
   ]
  },
  {
   "cell_type": "code",
   "execution_count": 191,
   "metadata": {
    "colab": {
     "base_uri": "https://localhost:8080/"
    },
    "id": "9T6saXiIlKrj",
    "outputId": "3043e46a-07b4-46f3-9993-3b6fc8247283"
   },
   "outputs": [
    {
     "data": {
      "text/plain": [
       "0.8155357142857143"
      ]
     },
     "execution_count": 191,
     "metadata": {
      "tags": []
     },
     "output_type": "execute_result"
    }
   ],
   "source": [
    "f1"
   ]
  },
  {
   "cell_type": "code",
   "execution_count": 192,
   "metadata": {
    "colab": {
     "base_uri": "https://localhost:8080/"
    },
    "id": "TPALlVhxlIJH",
    "outputId": "7b86f7ba-2851-4773-dba5-3d30fa2aff18"
   },
   "outputs": [
    {
     "data": {
      "text/plain": [
       "0.9835119047619048"
      ]
     },
     "execution_count": 192,
     "metadata": {
      "tags": []
     },
     "output_type": "execute_result"
    }
   ],
   "source": [
    "labels_train = dt_entropy.predict(X_train)\n",
    "f1_score(y_train, labels_train, average = 'micro')"
   ]
  },
  {
   "cell_type": "code",
   "execution_count": null,
   "metadata": {
    "id": "lFtozjTrxzvC"
   },
   "outputs": [],
   "source": [
    "# fig, axes = plt.subplots(nrows = 1,ncols = 1,figsize = (4,4), dpi=300)\n",
    "# tree.plot_tree(dt_entropy,\n",
    "#                class_names='Income',\n",
    "#                filled = True);\n",
    "# fig.savefig('imagename.png')"
   ]
  },
  {
   "cell_type": "code",
   "execution_count": null,
   "metadata": {
    "id": "NDxg4P0z1lx5"
   },
   "outputs": [],
   "source": [
    "# fig.savefig('dt.png')"
   ]
  },
  {
   "cell_type": "code",
   "execution_count": null,
   "metadata": {
    "id": "uHjgvDAM0Hzv"
   },
   "outputs": [],
   "source": [
    "# entropy_importance = DecisionTreeClassifier(criterion='entropy').fit(X_train, y_train).feature_importances_\n",
    "# entropy_importance"
   ]
  },
  {
   "cell_type": "code",
   "execution_count": null,
   "metadata": {
    "id": "qcJ6WzuGEQkc"
   },
   "outputs": [],
   "source": [
    "# #X = train[log_features]\n",
    "# #y = train['Income']\n",
    "\n",
    "# X = os_data_X\n",
    "# y = os_data_y"
   ]
  },
  {
   "cell_type": "code",
   "execution_count": null,
   "metadata": {
    "id": "yLklA0yla2H6"
   },
   "outputs": [],
   "source": [
    "# X_train, X_test, y_train, y_test = train_test_split(X, y, test_size=0.20)"
   ]
  },
  {
   "cell_type": "code",
   "execution_count": null,
   "metadata": {
    "id": "-c1FTjwXEQq8"
   },
   "outputs": [],
   "source": [
    "# X_train, X_test, y_train, y_test = train_test_split(X, y, test_size=0.20)\n",
    "# classifier = DecisionTreeClassifier(max_depth=8,criterion='entropy')\n",
    "# clf = classifier.fit(X_train, y_train)"
   ]
  },
  {
   "cell_type": "code",
   "execution_count": null,
   "metadata": {
    "id": "1OISco3ZEfc1"
   },
   "outputs": [],
   "source": [
    "# # Observing the important values in order to see the performance\n",
    "# y_pred = classifier.predict(X_test)\n",
    "\n",
    "# cm = confusion_matrix(y_test, y_pred) \n",
    "# conf_matrix = pd.DataFrame(data = cm,  \n",
    "#                            columns = ['Predicted:0', 'Predicted:1'],  \n",
    "#                            index =['Actual:0', 'Actual:1']) \n",
    "# plt.figure(figsize = (8, 5)) \n",
    "\n",
    "# # Creating a heatmap\n",
    "# sns.heatmap(conf_matrix, annot = True, fmt = 'd', cmap = \"Blues\") \n",
    "# plt.show() \n",
    "\n",
    "# print(confusion_matrix(y_test, y_pred))\n",
    "# print(classification_report(y_test, y_pred))\n"
   ]
  },
  {
   "cell_type": "code",
   "execution_count": null,
   "metadata": {
    "id": "zKLxl_pIEqFD"
   },
   "outputs": [],
   "source": [
    "# # Load libraries\n",
    "# import pydotplus\n",
    "# from sklearn import tree\n",
    "# import collections\n",
    "# from IPython.display import Image\n",
    "\n",
    "# # Visualize data\n",
    "# data_feature_names = X.columns\n",
    "# # Export as dot file\n",
    "# dot_data = tree.export_graphviz(clf,\n",
    "#                                 feature_names=data_feature_names,\n",
    "#                                 out_file=None,\n",
    "#                                 filled=True,\n",
    "#                                 rounded=True)\n",
    "# graph = pydotplus.graph_from_dot_data(dot_data)\n",
    "\n",
    "# colors = ('turquoise', 'orange')\n",
    "# edges = collections.defaultdict(list)\n",
    "\n",
    "# for edge in graph.get_edge_list():\n",
    "#     edges[edge.get_source()].append(int(edge.get_destination()))\n",
    "\n",
    "# for edge in edges:\n",
    "#     edges[edge].sort()    \n",
    "#     for i in range(2):\n",
    "#         dest = graph.get_node(str(edges[edge][i]))[0]\n",
    "#         dest.set_fillcolor(colors[i])\n",
    "\n",
    "# # Display the tree\n",
    "# graph.write_png('tree.png')\n",
    "# Image('tree.png')"
   ]
  },
  {
   "cell_type": "code",
   "execution_count": null,
   "metadata": {
    "id": "aCe0S5PjEs2J"
   },
   "outputs": [],
   "source": [
    "# y_pred_proba = clf.predict_proba(X_test)[::,1]\n",
    "# fpr, tpr, _ = metrics.roc_curve(y_test,  y_pred_proba)\n",
    "# auc = metrics.roc_auc_score(y_test, y_pred_proba)\n",
    "# plt.plot(fpr,tpr,label=\"data 1, auc=\"+str(auc))\n",
    "# plt.legend(loc=4)\n",
    "# plt.show()"
   ]
  },
  {
   "cell_type": "code",
   "execution_count": null,
   "metadata": {
    "id": "OOoOV3NIEuyT"
   },
   "outputs": [],
   "source": [
    "# print(\"Feature importances:\\n{}\".format(clf.feature_importances_))\n",
    "# for col in train[log_features].columns: \n",
    "#   print(col) "
   ]
  },
  {
   "cell_type": "markdown",
   "metadata": {
    "id": "uhPY1Ohu5we3"
   },
   "source": [
    "Bagging"
   ]
  },
  {
   "cell_type": "code",
   "execution_count": 195,
   "metadata": {
    "id": "wyxOpKbVdlZH"
   },
   "outputs": [],
   "source": [
    "# x = train[log_features]\n",
    "# y=train['Income']\n",
    "# X_train, X_test, y_train, y_test = train_test_split(x, y, test_size = 0.2, random_state = 15, stratify = y)"
   ]
  },
  {
   "cell_type": "code",
   "execution_count": null,
   "metadata": {
    "id": "kCsk25qj6Aq0"
   },
   "outputs": [],
   "source": [
    "# modelKNN_bag = KNeighborsClassifier()"
   ]
  },
  {
   "cell_type": "code",
   "execution_count": null,
   "metadata": {
    "id": "RGI2cwSG50Ez"
   },
   "outputs": [],
   "source": [
    "# bagging_KNN = BaggingClassifier(base_estimator = modelKNN_bag, random_state = 5, max_features = 0.6)"
   ]
  },
  {
   "cell_type": "code",
   "execution_count": null,
   "metadata": {
    "id": "tnkd8gPr53xX"
   },
   "outputs": [],
   "source": [
    "# bagging_KNN.fit(X = X_train, y = y_train)"
   ]
  },
  {
   "cell_type": "code",
   "execution_count": null,
   "metadata": {
    "id": "OmRJBdc46SgU"
   },
   "outputs": [],
   "source": [
    "# y_pred_bagging = bagging_KNN.predict(X_test)"
   ]
  },
  {
   "cell_type": "code",
   "execution_count": null,
   "metadata": {
    "id": "jeiVALS86WK6"
   },
   "outputs": [],
   "source": [
    "# bagging_KNN.score(X_test, y_test)"
   ]
  },
  {
   "cell_type": "code",
   "execution_count": null,
   "metadata": {
    "id": "jQn-x2bn6vtw"
   },
   "outputs": [],
   "source": [
    "# print(classification_report(y_test, y_pred_bagging))"
   ]
  },
  {
   "cell_type": "code",
   "execution_count": null,
   "metadata": {
    "id": "WxceucCmcTHh"
   },
   "outputs": [],
   "source": [
    "# cm = confusion_matrix(y_test, y_pred_bagging)\n",
    "# f1 = f1_score(y_test, y_pred_bagging)\n",
    "# print(cm,f1)"
   ]
  },
  {
   "cell_type": "markdown",
   "metadata": {
    "id": "CfGtnu38UA12"
   },
   "source": [
    "Gradient Boost"
   ]
  },
  {
   "cell_type": "code",
   "execution_count": null,
   "metadata": {
    "id": "T0FvipHxCVlY"
   },
   "outputs": [],
   "source": [
    "# y=train['Income']\n",
    "# X_train, X_test, y_train, y_test = train_test_split(train[log_features], y, test_size=0.25, random_state=5, stratify=y)"
   ]
  },
  {
   "cell_type": "code",
   "execution_count": null,
   "metadata": {
    "id": "PgZuR9ceCVlj"
   },
   "outputs": [],
   "source": [
    "# gb = GradientBoostingClassifier(random_state = 5, loss = 'exponential')"
   ]
  },
  {
   "cell_type": "code",
   "execution_count": null,
   "metadata": {
    "colab": {
     "base_uri": "https://localhost:8080/"
    },
    "id": "zwltmSzZCVlk",
    "outputId": "2e8da393-899b-45fe-b0bc-a89b4f9663cc"
   },
   "outputs": [
    {
     "data": {
      "text/plain": [
       "GradientBoostingClassifier(ccp_alpha=0.0, criterion='friedman_mse', init=None,\n",
       "                           learning_rate=0.1, loss='exponential', max_depth=3,\n",
       "                           max_features=None, max_leaf_nodes=None,\n",
       "                           min_impurity_decrease=0.0, min_impurity_split=None,\n",
       "                           min_samples_leaf=1, min_samples_split=2,\n",
       "                           min_weight_fraction_leaf=0.0, n_estimators=100,\n",
       "                           n_iter_no_change=None, presort='deprecated',\n",
       "                           random_state=5, subsample=1.0, tol=0.0001,\n",
       "                           validation_fraction=0.1, verbose=0,\n",
       "                           warm_start=False)"
      ]
     },
     "execution_count": 135,
     "metadata": {
      "tags": []
     },
     "output_type": "execute_result"
    }
   ],
   "source": [
    "# gb.fit(X_train, y_train)"
   ]
  },
  {
   "cell_type": "code",
   "execution_count": null,
   "metadata": {
    "id": "y1Z7Ws05CVll"
   },
   "outputs": [],
   "source": [
    "# y_pred_gb = gb.predict(X_test)"
   ]
  },
  {
   "cell_type": "code",
   "execution_count": null,
   "metadata": {
    "id": "4tZkGzTYCVll"
   },
   "outputs": [],
   "source": [
    "# f1_score(y_test, y_pred_gb, average = 'micro')"
   ]
  },
  {
   "cell_type": "code",
   "execution_count": null,
   "metadata": {
    "id": "QO2nOiZGCVlm"
   },
   "outputs": [],
   "source": [
    "#best score 0.87,\n",
    "#metrics1 = ['Lives_smean_enc','Education_smean_enc', 'Role_smean_enc', 'Marital_smean_enc','Years of Education',\n",
    "# 'Working Hours per week','Money Received','Ticket Price','Gender','Age','Continent_smean_enc']\n",
    "#"
   ]
  },
  {
   "cell_type": "markdown",
   "metadata": {
    "id": "DJVTz0WFykzu"
   },
   "source": [
    "# Gradient Boost - mean encoded var (0.8725)"
   ]
  },
  {
   "cell_type": "code",
   "execution_count": 196,
   "metadata": {
    "id": "T7ucWxx37d0g"
   },
   "outputs": [],
   "source": [
    "y=train['Income']\n",
    "X = train[metrics]"
   ]
  },
  {
   "cell_type": "code",
   "execution_count": 197,
   "metadata": {
    "id": "zjXsPKD1zcuY"
   },
   "outputs": [],
   "source": [
    "X_train, X_test, y_train, y_test = train_test_split(X, y, test_size=0.25, random_state=5, stratify=y)"
   ]
  },
  {
   "cell_type": "code",
   "execution_count": 198,
   "metadata": {
    "id": "gz4U1xu1UDlm"
   },
   "outputs": [],
   "source": [
    "gb = GradientBoostingClassifier(random_state = 5, learning_rate=0.16, n_estimators=170, max_features=10, max_depth=3)"
   ]
  },
  {
   "cell_type": "code",
   "execution_count": 199,
   "metadata": {
    "colab": {
     "base_uri": "https://localhost:8080/"
    },
    "id": "vTyAdG3WUHsJ",
    "outputId": "9a168d7b-613a-47a7-960a-c0593c4ae876"
   },
   "outputs": [
    {
     "data": {
      "text/plain": [
       "GradientBoostingClassifier(ccp_alpha=0.0, criterion='friedman_mse', init=None,\n",
       "                           learning_rate=0.16, loss='deviance', max_depth=3,\n",
       "                           max_features=10, max_leaf_nodes=None,\n",
       "                           min_impurity_decrease=0.0, min_impurity_split=None,\n",
       "                           min_samples_leaf=1, min_samples_split=2,\n",
       "                           min_weight_fraction_leaf=0.0, n_estimators=170,\n",
       "                           n_iter_no_change=None, presort='deprecated',\n",
       "                           random_state=5, subsample=1.0, tol=0.0001,\n",
       "                           validation_fraction=0.1, verbose=0,\n",
       "                           warm_start=False)"
      ]
     },
     "execution_count": 199,
     "metadata": {
      "tags": []
     },
     "output_type": "execute_result"
    }
   ],
   "source": [
    "gb.fit(X_train, y_train)"
   ]
  },
  {
   "cell_type": "code",
   "execution_count": 200,
   "metadata": {
    "id": "pLLO93amUKYL"
   },
   "outputs": [],
   "source": [
    "y_pred_gb = gb.predict(X_test)"
   ]
  },
  {
   "cell_type": "code",
   "execution_count": 201,
   "metadata": {
    "id": "6AzifFepfLeS"
   },
   "outputs": [],
   "source": [
    "labels_train = gb.predict(X_train)"
   ]
  },
  {
   "cell_type": "code",
   "execution_count": 202,
   "metadata": {
    "colab": {
     "base_uri": "https://localhost:8080/"
    },
    "id": "VNhqe6lTfMSh",
    "outputId": "cbe3be01-ea60-48fc-e054-3b948104ed00"
   },
   "outputs": [
    {
     "data": {
      "text/plain": [
       "0.8824404761904762"
      ]
     },
     "execution_count": 202,
     "metadata": {
      "tags": []
     },
     "output_type": "execute_result"
    }
   ],
   "source": [
    "f1_score(y_train, labels_train,average = 'micro')"
   ]
  },
  {
   "cell_type": "code",
   "execution_count": 203,
   "metadata": {
    "colab": {
     "base_uri": "https://localhost:8080/"
    },
    "id": "kCd0NcwTUNMm",
    "outputId": "055023b9-22b7-40ca-e512-12268859a1ae"
   },
   "outputs": [
    {
     "data": {
      "text/plain": [
       "0.8725"
      ]
     },
     "execution_count": 203,
     "metadata": {
      "tags": []
     },
     "output_type": "execute_result"
    }
   ],
   "source": [
    "f1_score(y_test, y_pred_gb, average = 'micro')"
   ]
  },
  {
   "cell_type": "code",
   "execution_count": null,
   "metadata": {
    "id": "F2-sNqMsOGyy"
   },
   "outputs": [],
   "source": [
    "#gradient search results:\n",
    "#clf.best_params_ #{'learning_rate': 0.16, 'loss': 'exponential', 'n_estimators': 173} the exponential doesn't work.....\n",
    "#on kaggle didn't increase the score from the one below"
   ]
  },
  {
   "cell_type": "code",
   "execution_count": null,
   "metadata": {
    "id": "fU4EZkU0AzFe"
   },
   "outputs": [],
   "source": [
    "##best score 0.8726\n",
    "#gb = GradientBoostingClassifier(random_state = 5, learning_rate=0.16, n_estimators=170, max_features=10, max_depth=3),\n",
    "#metrics1 = ['Lives_smean_enc','Education_smean_enc', 'Role_smean_enc', 'Marital_smean_enc','Years of Education',\n",
    "# 'Working Hours per week','Money Received','Ticket Price','Gender','Age']\n",
    "#"
   ]
  },
  {
   "cell_type": "code",
   "execution_count": null,
   "metadata": {
    "id": "4GLPy9XhIPoU"
   },
   "outputs": [],
   "source": [
    "# print(classification_report(y_test, y_pred_gb))"
   ]
  },
  {
   "cell_type": "code",
   "execution_count": null,
   "metadata": {
    "id": "wZkd5mhP2TwE"
   },
   "outputs": [],
   "source": [
    "# import eli5\n",
    "# from eli5.sklearn import PermutationImportance\n",
    "# perm = PermutationImportance(gb, random_state=1).fit(X_test, y_test)\n",
    "# eli5.show_weights(perm, feature_names = X_test.columns.tolist())"
   ]
  },
  {
   "cell_type": "code",
   "execution_count": null,
   "metadata": {
    "id": "csU1egs1MvIl"
   },
   "outputs": [],
   "source": [
    "# y_pred_gb = pd.DataFrame(np.transpose(y_pred_gb))\n",
    "# y_data_gb = pd.concat([X_test.reset_index(), y_pred], axis = 1)\n",
    "# y_data_gb['y_pred'] = y_data_gb[0]"
   ]
  },
  {
   "cell_type": "code",
   "execution_count": null,
   "metadata": {
    "id": "cVirPlxGMvIu"
   },
   "outputs": [],
   "source": [
    "# y_data_gb.groupby('y_pred').std().round(2)"
   ]
  },
  {
   "cell_type": "markdown",
   "metadata": {
    "id": "bF8bipxGk0F5"
   },
   "source": [
    "# Random Forest (0.86375)"
   ]
  },
  {
   "cell_type": "code",
   "execution_count": 204,
   "metadata": {
    "id": "fsQMK-4fgPU0"
   },
   "outputs": [],
   "source": [
    "y=train['Income']\n",
    "X_train, X_test, y_train, y_test = train_test_split(train[metrics], y, test_size=0.25, random_state=5, stratify=y)"
   ]
  },
  {
   "cell_type": "code",
   "execution_count": 205,
   "metadata": {
    "id": "F1uDGvjtao6l"
   },
   "outputs": [],
   "source": [
    "modelRF = RandomForestClassifier(class_weight = 'balanced',criterion = 'entropy', max_depth =30, max_features= 10, max_samples = 0.2, n_estimators = 300, random_state = 5)"
   ]
  },
  {
   "cell_type": "code",
   "execution_count": null,
   "metadata": {
    "id": "m2E1hyr_TeQ1"
   },
   "outputs": [],
   "source": [
    "#we got 0.869 in f1 micro --> modelRF = RandomForestClassifier(class_weight = 'balanced',criterion = 'entropy', max_depth = 30, max_features= 6, max_samples = 0.2, n_estimators = 300, random_state = 5) "
   ]
  },
  {
   "cell_type": "code",
   "execution_count": 206,
   "metadata": {
    "colab": {
     "base_uri": "https://localhost:8080/"
    },
    "id": "ne6G72EOxZm8",
    "outputId": "0a03f624-4fa6-4610-a2a2-4ad760c9b789"
   },
   "outputs": [
    {
     "data": {
      "text/plain": [
       "RandomForestClassifier(bootstrap=True, ccp_alpha=0.0, class_weight='balanced',\n",
       "                       criterion='entropy', max_depth=30, max_features=10,\n",
       "                       max_leaf_nodes=None, max_samples=0.2,\n",
       "                       min_impurity_decrease=0.0, min_impurity_split=None,\n",
       "                       min_samples_leaf=1, min_samples_split=2,\n",
       "                       min_weight_fraction_leaf=0.0, n_estimators=300,\n",
       "                       n_jobs=None, oob_score=False, random_state=5, verbose=0,\n",
       "                       warm_start=False)"
      ]
     },
     "execution_count": 206,
     "metadata": {
      "tags": []
     },
     "output_type": "execute_result"
    }
   ],
   "source": [
    "modelRF.fit(X_train, y_train)"
   ]
  },
  {
   "cell_type": "code",
   "execution_count": null,
   "metadata": {
    "id": "OorJkldi5rI4"
   },
   "outputs": [],
   "source": [
    "# estimator = modelRF.estimators_[5]\n",
    "# export_graphviz(estimator, out_file='tree.dot',rounded = True, proportion = False, precision = 2, filled = True)\n",
    "# call(['dot', '-Tpng', 'tree.dot', '-o', 'tree.png', '-Gdpi=600'])\n",
    "\n",
    "# Image(filename = 'tree.png')\n",
    "\n"
   ]
  },
  {
   "cell_type": "code",
   "execution_count": 207,
   "metadata": {
    "id": "SkLw75QExij1"
   },
   "outputs": [],
   "source": [
    "y_pred = modelRF.predict(X_test)\n",
    "label_train = modelRF.predict(X_train)"
   ]
  },
  {
   "cell_type": "code",
   "execution_count": 208,
   "metadata": {
    "colab": {
     "base_uri": "https://localhost:8080/"
    },
    "id": "nfo9hiFZl5Ie",
    "outputId": "3ed15fcc-ce31-4647-9c69-1b7aaf22383b"
   },
   "outputs": [
    {
     "data": {
      "text/plain": [
       "0.86375"
      ]
     },
     "execution_count": 208,
     "metadata": {
      "tags": []
     },
     "output_type": "execute_result"
    }
   ],
   "source": [
    "f1_score(y_test,y_pred,average = 'micro')"
   ]
  },
  {
   "cell_type": "code",
   "execution_count": 209,
   "metadata": {
    "colab": {
     "base_uri": "https://localhost:8080/"
    },
    "id": "biDCEPS1mCER",
    "outputId": "f0fd06bc-916f-4fc8-b9bd-fe75eace90b1"
   },
   "outputs": [
    {
     "data": {
      "text/plain": [
       "0.9083928571428571"
      ]
     },
     "execution_count": 209,
     "metadata": {
      "tags": []
     },
     "output_type": "execute_result"
    }
   ],
   "source": [
    "f1_score(y_train,label_train,average = 'micro')"
   ]
  },
  {
   "cell_type": "code",
   "execution_count": null,
   "metadata": {
    "id": "1fUdhr9ud5-G"
   },
   "outputs": [],
   "source": [
    "# print(classification_report(y_test, y_pred))"
   ]
  },
  {
   "cell_type": "code",
   "execution_count": null,
   "metadata": {
    "id": "9XLELlQtfXxZ"
   },
   "outputs": [],
   "source": [
    "  #best params with GridSearch\n",
    "#'max_features': 20, 'max_samples': 0.2, 'n_estimators': 300"
   ]
  },
  {
   "cell_type": "code",
   "execution_count": null,
   "metadata": {
    "id": "e0owfxwhMvIw"
   },
   "outputs": [],
   "source": [
    "# train_test_gb = pd.concat([X_test, y_test], axis = 1)\n",
    "# train_test_gb.groupby('Income').std().round(2)"
   ]
  },
  {
   "cell_type": "code",
   "execution_count": null,
   "metadata": {
    "id": "LwuRcz5IO9rr"
   },
   "outputs": [],
   "source": [
    "# y_pred_test = pd.DataFrame(gb.predict(test[metrics]))\n",
    "# pd.concat([test['CITIZEN_ID'],y_pred_test], axis = 1).to_csv(r\"GBFinal.csv\")"
   ]
  },
  {
   "cell_type": "markdown",
   "metadata": {
    "id": "b-Jb6x8QzUVP"
   },
   "source": [
    "# Stacking (0.8727)"
   ]
  },
  {
   "cell_type": "code",
   "execution_count": 210,
   "metadata": {
    "id": "N72MJDfu5OJp"
   },
   "outputs": [],
   "source": [
    "y=train['Income']\n",
    "X = train[metrics]\n",
    "X_train, X_test, y_train, y_test = train_test_split(X, y, test_size=0.25, random_state=5, stratify=y)"
   ]
  },
  {
   "cell_type": "code",
   "execution_count": null,
   "metadata": {
    "id": "dnvWA2S52WAb"
   },
   "outputs": [],
   "source": [
    "# estimators = [tuple(['rf', RandomForestClassifier(random_state = 5)]),\n",
    "#               tuple(['nb', GaussianNB()]),\n",
    "#               tuple(['graboost', GradientBoostingClassifier(random_state = 5, learning_rate=0.16, n_estimators=170, max_features=10, max_depth=3)]),\n",
    "#               tuple(['svm' , svm.SVC()]),\n",
    "#               tuple(['lr', LogisticRegression()]),\n",
    "#               tuple(['mlp',  MLPClassifier()]),\n",
    "#               tuple(['knn', KNeighborsClassifier(n_neighbors=15)]),\n",
    "#               tuple(['dt', DecisionTreeClassifier(criterion = 'entropy')])\n",
    "#               ]"
   ]
  },
  {
   "cell_type": "code",
   "execution_count": null,
   "metadata": {
    "id": "0lNrUZQQ4--8"
   },
   "outputs": [],
   "source": [
    "# subsets = []\n",
    "# for e in range(2, len(estimators)+1):\n",
    "#     for subset in itertools.combinations(estimators, e):\n",
    "#       subsets.append(list(subset))"
   ]
  },
  {
   "cell_type": "code",
   "execution_count": null,
   "metadata": {
    "id": "-tKSVbzP2SeM"
   },
   "outputs": [],
   "source": [
    "#tr_scores = []\n",
    "#te_scores = []\n",
    "#for i in range(0, len(subsets)):\n",
    "#  sc = StackingClassifier(estimators=subsets[i], final_estimator=LogisticRegression())\n",
    "#  sc.fit(X_train, y_train)\n",
    "#  y_pred_sc = sc.predict(X_test)\n",
    "#  labels_train = sc.predict(X_train)\n",
    "#  tr_scores.append(f1_score(y_train, labels_train,average = 'micro'))\n",
    "#  te_scores.append(f1_score(y_test,y_pred_sc,average = 'micro'))"
   ]
  },
  {
   "cell_type": "code",
   "execution_count": 211,
   "metadata": {
    "id": "qdjwwqL2CIkj"
   },
   "outputs": [],
   "source": [
    "sc = StackingClassifier(estimators=[('nb', GaussianNB(priors=None, var_smoothing=1e-09)),\n",
    " ('graboost',\n",
    "  GradientBoostingClassifier(ccp_alpha=0.0, criterion='friedman_mse', init=None,\n",
    "                             learning_rate=0.16, loss='deviance', max_depth=3,\n",
    "                             max_features=10, max_leaf_nodes=None,\n",
    "                             min_impurity_decrease=0.0, min_impurity_split=None,\n",
    "                             min_samples_leaf=1, min_samples_split=2,\n",
    "                             min_weight_fraction_leaf=0.0, n_estimators=170,\n",
    "                             n_iter_no_change=None, presort='deprecated',\n",
    "                             random_state=5, subsample=1.0, tol=0.0001,\n",
    "                             validation_fraction=0.1, verbose=0,\n",
    "                             warm_start=False)),\n",
    " ('mlp',\n",
    "  MLPClassifier(activation='relu', alpha=0.0001, batch_size='auto', beta_1=0.9,\n",
    "                beta_2=0.999, early_stopping=False, epsilon=1e-08,\n",
    "                hidden_layer_sizes=(100,), learning_rate='constant',\n",
    "                learning_rate_init=0.001, max_fun=15000, max_iter=200,\n",
    "                momentum=0.9, n_iter_no_change=10, nesterovs_momentum=True,\n",
    "                power_t=0.5, random_state=3, shuffle=True, solver='adam',\n",
    "                tol=0.0001, validation_fraction=0.1, verbose=False,\n",
    "                warm_start=False))], final_estimator=LogisticRegression())"
   ]
  },
  {
   "cell_type": "code",
   "execution_count": 212,
   "metadata": {
    "id": "05dAt1FazxAv"
   },
   "outputs": [],
   "source": [
    "sc.fit(X_train, y_train)\n",
    "y_pred_sc = sc.predict(X_test)"
   ]
  },
  {
   "cell_type": "code",
   "execution_count": 213,
   "metadata": {
    "id": "ChHwX8UnahXh"
   },
   "outputs": [],
   "source": [
    "labels_train = sc.predict(X_train)"
   ]
  },
  {
   "cell_type": "code",
   "execution_count": 214,
   "metadata": {
    "colab": {
     "base_uri": "https://localhost:8080/"
    },
    "id": "mULxNWvjfVf7",
    "outputId": "88ef6092-7034-4b24-9198-0713a2c2d516"
   },
   "outputs": [
    {
     "data": {
      "text/plain": [
       "0.8818452380952381"
      ]
     },
     "execution_count": 214,
     "metadata": {
      "tags": []
     },
     "output_type": "execute_result"
    }
   ],
   "source": [
    "f1_score(y_train, labels_train,average = 'micro')"
   ]
  },
  {
   "cell_type": "code",
   "execution_count": 215,
   "metadata": {
    "colab": {
     "base_uri": "https://localhost:8080/"
    },
    "id": "-_nFo8r90SGe",
    "outputId": "6b5828de-91e4-43f1-f849-546d154d08d0"
   },
   "outputs": [
    {
     "data": {
      "text/plain": [
       "0.8726785714285714"
      ]
     },
     "execution_count": 215,
     "metadata": {
      "tags": []
     },
     "output_type": "execute_result"
    }
   ],
   "source": [
    "f1_score(y_test,y_pred_sc,average = 'micro')"
   ]
  },
  {
   "cell_type": "code",
   "execution_count": null,
   "metadata": {
    "id": "l6ASp-PXQeEX"
   },
   "outputs": [],
   "source": [
    "# print(classification_report(y_test, y_pred_sc))"
   ]
  },
  {
   "cell_type": "code",
   "execution_count": null,
   "metadata": {
    "id": "6IyFppWknVJl"
   },
   "outputs": [],
   "source": [
    "# perm = PermutationImportance(model, random_state=1).fit(X_test, y_pred_sc)\n",
    "# eli5.show_weights(perm, feature_names = X_test.columns.tolist())"
   ]
  },
  {
   "cell_type": "markdown",
   "metadata": {
    "id": "dg0QBtHg-plY"
   },
   "source": [
    "# ROC curvers and F1 scores"
   ]
  },
  {
   "cell_type": "code",
   "execution_count": null,
   "metadata": {
    "id": "qbJwww4-n5S5"
   },
   "outputs": [],
   "source": [
    "# X = train"
   ]
  },
  {
   "cell_type": "code",
   "execution_count": null,
   "metadata": {
    "id": "uigsXjz49GXh"
   },
   "outputs": [],
   "source": [
    "# X = train[metrics]\n",
    "# y = train['Income']"
   ]
  },
  {
   "cell_type": "code",
   "execution_count": null,
   "metadata": {
    "id": "Xg_uoGgd7pRz"
   },
   "outputs": [],
   "source": [
    "# X_train, X_test, y_train, y_test = train_test_split(X, y,test_size=0.33, random_state=15, shuffle=True, stratify=y)\n",
    "# from sklearn.metrics import roc_curve, roc_auc_score\n",
    "# # Instantiate the classfiers and make a list\n",
    "# classifiers = [KNeighborsClassifier(weights='distance', n_neighbors=25), \n",
    "#                DecisionTreeClassifier(criterion = 'entropy'),\n",
    "#               MLPClassifier(activation = 'tanh', hidden_layer_sizes = (50, 100, 50), learning_rate = 'adaptive',\n",
    "#                       learning_rate_init = 0.05000500000000001, solver = 'sgd', random_state =3 ),\n",
    "#                RandomForestClassifier(class_weight = 'balanced',criterion = 'entropy', max_depth =30, max_features= 10, max_samples = 0.2, n_estimators = 300, random_state = 5),\n",
    "#                GradientBoostingClassifier(random_state = 5, learning_rate=0.16, n_estimators=170, max_features=10, max_depth=3),\n",
    "#                StackingClassifier(estimators=[('nb', GaussianNB(priors=None, var_smoothing=1e-09)),\n",
    "#  ('graboost',\n",
    "#   GradientBoostingClassifier(ccp_alpha=0.0, criterion='friedman_mse', init=None,\n",
    "#                              learning_rate=0.16, loss='deviance', max_depth=3,\n",
    "#                              max_features=10, max_leaf_nodes=None,\n",
    "#                              min_impurity_decrease=0.0, min_impurity_split=None,\n",
    "#                              min_samples_leaf=1, min_samples_split=2,\n",
    "#                              min_weight_fraction_leaf=0.0, n_estimators=170,\n",
    "#                              n_iter_no_change=None, presort='deprecated',\n",
    "#                              random_state=5, subsample=1.0, tol=0.0001,\n",
    "#                              validation_fraction=0.1, verbose=0,\n",
    "#                              warm_start=False)),\n",
    "#  ('mlp',\n",
    "#   MLPClassifier(activation='relu', alpha=0.0001, batch_size='auto', beta_1=0.9,\n",
    "#                 beta_2=0.999, early_stopping=False, epsilon=1e-08,\n",
    "#                 hidden_layer_sizes=(100,), learning_rate='constant',\n",
    "#                 learning_rate_init=0.001, max_fun=15000, max_iter=200,\n",
    "#                 momentum=0.9, n_iter_no_change=10, nesterovs_momentum=True,\n",
    "#                 power_t=0.5, random_state=3, shuffle=True, solver='adam',\n",
    "#                 tol=0.0001, validation_fraction=0.1, verbose=False,\n",
    "#                 warm_start=False))], final_estimator=LogisticRegression())\n",
    "#                ]\n",
    "\n",
    "# # Define a result table as a DataFrame\n",
    "# result_table = pd.DataFrame(columns=['classifiers', 'fpr','tpr','auc'])\n",
    "\n",
    "# # Train the models and record the results\n",
    "# for cls in classifiers:\n",
    "#   model = cls.fit(X_train, y_train)\n",
    "#   yproba = model.predict_proba(X_test)[::,1]\n",
    "    \n",
    "#   fpr, tpr, _ = roc_curve(y_test,  yproba)\n",
    "#   auc = roc_auc_score(y_test, yproba)\n",
    "\n",
    "    \n",
    "#   result_table = result_table.append({'classifiers':cls.__class__.__name__,\n",
    "#                                         'fpr':fpr, \n",
    "#                                         'tpr':tpr, \n",
    "#                                         'auc':auc,\n",
    "#                                         }, ignore_index=True)\n",
    "\n",
    "# f1_table = pd.DataFrame(columns=['classifiers', 'f1'])\n",
    "# for cls in classifiers:\n",
    "#   cls.fit(X_train, y_train)\n",
    "#   y_pred = cls.predict(X_test)\n",
    "#   f1 = f1_score(y_test, y_pred, average = 'micro')\n",
    "  \n",
    "#   f1_table = f1_table.append({'classifiers':cls.__class__.__name__,\n",
    "#                                         'f1':f1,\n",
    "#                                         }, ignore_index=True)\n",
    "\n",
    "# # Set name of the classifiers as index labels\n",
    "# result_table.set_index('classifiers', inplace=True)\n",
    "# f1_table.set_index('classifiers', inplace = True)"
   ]
  },
  {
   "cell_type": "code",
   "execution_count": null,
   "metadata": {
    "id": "jDngHwJI8BPu"
   },
   "outputs": [],
   "source": [
    "# fig = plt.figure(figsize=(10,8))\n",
    "\n",
    "# for i in result_table.index:\n",
    "#     plt.plot(result_table.loc[i]['fpr'], \n",
    "#              result_table.loc[i]['tpr'], \n",
    "#              label=\"{}, AUC={:.3f}\".format(i, result_table.loc[i]['auc']))\n",
    "  \n",
    "# plt.plot(fpr_log, tpr_log, label = 'LogisticRegrClassifier = %0.2f' % roc_auc)\n",
    "\n",
    "\n",
    "# plt.xticks(np.arange(0.0, 1.1, step=0.1))\n",
    "# plt.xlabel(\"False Positive Rate\", fontsize=15)\n",
    "\n",
    "# plt.yticks(np.arange(0.0, 1.1, step=0.1))\n",
    "# plt.ylabel(\"True Positive Rate\", fontsize=15)\n",
    "\n",
    "# plt.title('ROC Curve Analysis', fontweight='bold', fontsize=15)\n",
    "# plt.legend(prop={'size':13}, loc='lower right')\n",
    "\n",
    "# plt.show()"
   ]
  },
  {
   "cell_type": "code",
   "execution_count": null,
   "metadata": {
    "id": "4PyDuZUfNJYD"
   },
   "outputs": [],
   "source": [
    "# f1_table = f1_table.sort_values(by=\"f1\")\n",
    "# figsize=(50, 50)\n",
    "# plt.bar(f1_table.index, f1_table['f1'])\n",
    "# plt.ylim(ymin=0.77, ymax=0.89) \n",
    "# plt.xticks(rotation=45)\n",
    "# plt.show()"
   ]
  },
  {
   "cell_type": "code",
   "execution_count": null,
   "metadata": {
    "id": "WedevGdIp49M"
   },
   "outputs": [],
   "source": [
    "# f1_tests = [0.8169642857142857, 0.8347497639282342, 0.8573214285714286, 0.86375, 0.8725, 0.8726785714285714]\n",
    "# f1_trains = [0.9835119047619048, 0.9831266133601965, 0.8611904761904762, 0.9083928571428571, 0.8824404761904762, 0.8818452380952381]\n",
    "# classifier_names = ['Decision Tree', 'KNN', 'Neural Network', 'Random Forest Classifier', 'GradientBoost', 'Stacking']"
   ]
  },
  {
   "cell_type": "code",
   "execution_count": null,
   "metadata": {
    "id": "6fzFHt4oVpq1"
   },
   "outputs": [],
   "source": [
    "# plt.figure(figsize=(10, 5))\n",
    "# # set width of bar\n",
    "# barWidth = 0.25\n",
    " \n",
    "# # set height of bar\n",
    "# bars1 = f1_tests\n",
    "# bars2 = f1_trains\n",
    " \n",
    "# # Set position of bar on X axis\n",
    "# r1 = np.arange(len(bars1))\n",
    "# r2 = [x + barWidth for x in r1]\n",
    " \n",
    "# # Make the plot\n",
    "# plt.bar(r1, bars1, width=barWidth, edgecolor='white', label='f1_test')\n",
    "# plt.bar(r2, bars2, width=barWidth, edgecolor='white', label='f1_train')\n",
    " \n",
    "# # Add xticks on the middle of the group bars\n",
    "# plt.xlabel('classifiers', fontweight='bold')\n",
    "# plt.xticks([r + barWidth for r in range(len(bars1))], classifier_names)\n",
    " \n",
    "# # Create legend & Show graphic\n",
    "# plt.xticks(rotation=45)\n",
    "# plt.ylim(ymin=0.55, ymax=1) \n",
    "\n",
    "# plt.legend()\n",
    "# plt.show()\n"
   ]
  },
  {
   "cell_type": "markdown",
   "metadata": {
    "id": "wKs0TknOVqI_"
   },
   "source": [
    "# GB vs STACKING"
   ]
  },
  {
   "cell_type": "code",
   "execution_count": 221,
   "metadata": {
    "id": "uIu8cJPyVtTc"
   },
   "outputs": [],
   "source": [
    "#gb prepare data for checking mean and std for each variable for level of income\n",
    "y_pred_gb = pd.DataFrame(np.transpose(y_pred_gb))\n",
    "y_data_gb = pd.concat([X_test.reset_index(), y_pred_gb], axis = 1)\n",
    "y_data_gb['y_pred'] = y_data_gb[0]"
   ]
  },
  {
   "cell_type": "code",
   "execution_count": null,
   "metadata": {
    "id": "UG-w0QypN3O7"
   },
   "outputs": [],
   "source": []
  },
  {
   "cell_type": "code",
   "execution_count": 233,
   "metadata": {
    "id": "nQvbG07jWCrT"
   },
   "outputs": [],
   "source": [
    "#sc prepare data for checking mean and std for each variable for level of income\n",
    "y_pred_sc = pd.DataFrame(np.transpose(y_pred_sc))\n",
    "y_data_sc = pd.concat([X_test.reset_index(), y_pred_sc], axis = 1)\n",
    "y_data_sc['y_pred'] = y_data_sc[0]"
   ]
  },
  {
   "cell_type": "code",
   "execution_count": 224,
   "metadata": {
    "colab": {
     "base_uri": "https://localhost:8080/",
     "height": 206
    },
    "id": "HC-dNVUxXQzy",
    "outputId": "b7f7b598-5471-4417-d32a-2313e8256d01"
   },
   "outputs": [
    {
     "data": {
      "text/html": [
       "<div>\n",
       "<style scoped>\n",
       "    .dataframe tbody tr th:only-of-type {\n",
       "        vertical-align: middle;\n",
       "    }\n",
       "\n",
       "    .dataframe tbody tr th {\n",
       "        vertical-align: top;\n",
       "    }\n",
       "\n",
       "    .dataframe thead th {\n",
       "        text-align: right;\n",
       "    }\n",
       "</style>\n",
       "<table border=\"1\" class=\"dataframe\">\n",
       "  <thead>\n",
       "    <tr style=\"text-align: right;\">\n",
       "      <th></th>\n",
       "      <th>Years of Education</th>\n",
       "      <th>Working Hours per week</th>\n",
       "      <th>Money Received</th>\n",
       "      <th>Ticket Price</th>\n",
       "      <th>Gender</th>\n",
       "      <th>Age</th>\n",
       "      <th>Lives_smean_enc</th>\n",
       "      <th>Education_smean_enc</th>\n",
       "      <th>Role_smean_enc</th>\n",
       "      <th>Marital_smean_enc</th>\n",
       "      <th>Continent_smean_enc</th>\n",
       "      <th>Employment_smean_enc</th>\n",
       "      <th>Area_smean_enc</th>\n",
       "    </tr>\n",
       "    <tr>\n",
       "      <th>Income</th>\n",
       "      <th></th>\n",
       "      <th></th>\n",
       "      <th></th>\n",
       "      <th></th>\n",
       "      <th></th>\n",
       "      <th></th>\n",
       "      <th></th>\n",
       "      <th></th>\n",
       "      <th></th>\n",
       "      <th></th>\n",
       "      <th></th>\n",
       "      <th></th>\n",
       "      <th></th>\n",
       "    </tr>\n",
       "  </thead>\n",
       "  <tbody>\n",
       "    <tr>\n",
       "      <th>0</th>\n",
       "      <td>0.564</td>\n",
       "      <td>0.387</td>\n",
       "      <td>0.002</td>\n",
       "      <td>0.012</td>\n",
       "      <td>0.631</td>\n",
       "      <td>0.27</td>\n",
       "      <td>0.398</td>\n",
       "      <td>0.258</td>\n",
       "      <td>0.426</td>\n",
       "      <td>0.381</td>\n",
       "      <td>0.847</td>\n",
       "      <td>0.290</td>\n",
       "      <td>0.686</td>\n",
       "    </tr>\n",
       "    <tr>\n",
       "      <th>1</th>\n",
       "      <td>0.665</td>\n",
       "      <td>0.450</td>\n",
       "      <td>0.037</td>\n",
       "      <td>0.046</td>\n",
       "      <td>0.840</td>\n",
       "      <td>0.37</td>\n",
       "      <td>0.836</td>\n",
       "      <td>0.464</td>\n",
       "      <td>0.696</td>\n",
       "      <td>0.861</td>\n",
       "      <td>0.922</td>\n",
       "      <td>0.346</td>\n",
       "      <td>0.707</td>\n",
       "    </tr>\n",
       "  </tbody>\n",
       "</table>\n",
       "</div>"
      ],
      "text/plain": [
       "        Years of Education  ...  Area_smean_enc\n",
       "Income                      ...                \n",
       "0                    0.564  ...           0.686\n",
       "1                    0.665  ...           0.707\n",
       "\n",
       "[2 rows x 13 columns]"
      ]
     },
     "execution_count": 224,
     "metadata": {
      "tags": []
     },
     "output_type": "execute_result"
    }
   ],
   "source": [
    "#how the test is actually classified\n",
    "train_test = pd.concat([X_test, y_test], axis = 1)\n",
    "train_test.groupby('Income').mean().round(3)"
   ]
  },
  {
   "cell_type": "code",
   "execution_count": 225,
   "metadata": {
    "colab": {
     "base_uri": "https://localhost:8080/",
     "height": 206
    },
    "id": "OfLozuwaV1wY",
    "outputId": "9ab1b19c-4cf8-437c-a0b4-da3699b5f4dd"
   },
   "outputs": [
    {
     "data": {
      "text/html": [
       "<div>\n",
       "<style scoped>\n",
       "    .dataframe tbody tr th:only-of-type {\n",
       "        vertical-align: middle;\n",
       "    }\n",
       "\n",
       "    .dataframe tbody tr th {\n",
       "        vertical-align: top;\n",
       "    }\n",
       "\n",
       "    .dataframe thead th {\n",
       "        text-align: right;\n",
       "    }\n",
       "</style>\n",
       "<table border=\"1\" class=\"dataframe\">\n",
       "  <thead>\n",
       "    <tr style=\"text-align: right;\">\n",
       "      <th></th>\n",
       "      <th>index</th>\n",
       "      <th>Years of Education</th>\n",
       "      <th>Working Hours per week</th>\n",
       "      <th>Money Received</th>\n",
       "      <th>Ticket Price</th>\n",
       "      <th>Gender</th>\n",
       "      <th>Age</th>\n",
       "      <th>Lives_smean_enc</th>\n",
       "      <th>Education_smean_enc</th>\n",
       "      <th>Role_smean_enc</th>\n",
       "      <th>Marital_smean_enc</th>\n",
       "      <th>Continent_smean_enc</th>\n",
       "      <th>Employment_smean_enc</th>\n",
       "      <th>Area_smean_enc</th>\n",
       "      <th>0</th>\n",
       "    </tr>\n",
       "    <tr>\n",
       "      <th>y_pred</th>\n",
       "      <th></th>\n",
       "      <th></th>\n",
       "      <th></th>\n",
       "      <th></th>\n",
       "      <th></th>\n",
       "      <th></th>\n",
       "      <th></th>\n",
       "      <th></th>\n",
       "      <th></th>\n",
       "      <th></th>\n",
       "      <th></th>\n",
       "      <th></th>\n",
       "      <th></th>\n",
       "      <th></th>\n",
       "      <th></th>\n",
       "    </tr>\n",
       "  </thead>\n",
       "  <tbody>\n",
       "    <tr>\n",
       "      <th>0</th>\n",
       "      <td>10769.532</td>\n",
       "      <td>0.560</td>\n",
       "      <td>0.388</td>\n",
       "      <td>0.002</td>\n",
       "      <td>0.011</td>\n",
       "      <td>0.636</td>\n",
       "      <td>0.273</td>\n",
       "      <td>0.409</td>\n",
       "      <td>0.25</td>\n",
       "      <td>0.417</td>\n",
       "      <td>0.393</td>\n",
       "      <td>0.848</td>\n",
       "      <td>0.285</td>\n",
       "      <td>0.686</td>\n",
       "      <td>0.0</td>\n",
       "    </tr>\n",
       "    <tr>\n",
       "      <th>1</th>\n",
       "      <td>12552.684</td>\n",
       "      <td>0.701</td>\n",
       "      <td>0.460</td>\n",
       "      <td>0.045</td>\n",
       "      <td>0.059</td>\n",
       "      <td>0.863</td>\n",
       "      <td>0.379</td>\n",
       "      <td>0.885</td>\n",
       "      <td>0.54</td>\n",
       "      <td>0.793</td>\n",
       "      <td>0.916</td>\n",
       "      <td>0.935</td>\n",
       "      <td>0.377</td>\n",
       "      <td>0.712</td>\n",
       "      <td>1.0</td>\n",
       "    </tr>\n",
       "  </tbody>\n",
       "</table>\n",
       "</div>"
      ],
      "text/plain": [
       "            index  Years of Education  ...  Area_smean_enc    0\n",
       "y_pred                                 ...                     \n",
       "0       10769.532               0.560  ...           0.686  0.0\n",
       "1       12552.684               0.701  ...           0.712  1.0\n",
       "\n",
       "[2 rows x 15 columns]"
      ]
     },
     "execution_count": 225,
     "metadata": {
      "tags": []
     },
     "output_type": "execute_result"
    }
   ],
   "source": [
    "#classification and mean for gb\n",
    "y_data_gb.groupby('y_pred').mean().round(3)"
   ]
  },
  {
   "cell_type": "code",
   "execution_count": null,
   "metadata": {
    "id": "WLaCsKPsYJBE"
   },
   "outputs": [],
   "source": [
    "#between the two models there's no difference in any of the variables regarding the mean.\n",
    "#below we are checking the standard deviation, which are also the same."
   ]
  },
  {
   "cell_type": "code",
   "execution_count": 226,
   "metadata": {
    "colab": {
     "base_uri": "https://localhost:8080/",
     "height": 206
    },
    "id": "Ei6T6KcMVtTd",
    "outputId": "5d69b02e-febf-4857-bb67-f0b70be815bd"
   },
   "outputs": [
    {
     "data": {
      "text/html": [
       "<div>\n",
       "<style scoped>\n",
       "    .dataframe tbody tr th:only-of-type {\n",
       "        vertical-align: middle;\n",
       "    }\n",
       "\n",
       "    .dataframe tbody tr th {\n",
       "        vertical-align: top;\n",
       "    }\n",
       "\n",
       "    .dataframe thead th {\n",
       "        text-align: right;\n",
       "    }\n",
       "</style>\n",
       "<table border=\"1\" class=\"dataframe\">\n",
       "  <thead>\n",
       "    <tr style=\"text-align: right;\">\n",
       "      <th></th>\n",
       "      <th>index</th>\n",
       "      <th>Years of Education</th>\n",
       "      <th>Working Hours per week</th>\n",
       "      <th>Money Received</th>\n",
       "      <th>Ticket Price</th>\n",
       "      <th>Gender</th>\n",
       "      <th>Age</th>\n",
       "      <th>Lives_smean_enc</th>\n",
       "      <th>Education_smean_enc</th>\n",
       "      <th>Role_smean_enc</th>\n",
       "      <th>Marital_smean_enc</th>\n",
       "      <th>Continent_smean_enc</th>\n",
       "      <th>Employment_smean_enc</th>\n",
       "      <th>Area_smean_enc</th>\n",
       "      <th>0</th>\n",
       "    </tr>\n",
       "    <tr>\n",
       "      <th>y_pred</th>\n",
       "      <th></th>\n",
       "      <th></th>\n",
       "      <th></th>\n",
       "      <th></th>\n",
       "      <th></th>\n",
       "      <th></th>\n",
       "      <th></th>\n",
       "      <th></th>\n",
       "      <th></th>\n",
       "      <th></th>\n",
       "      <th></th>\n",
       "      <th></th>\n",
       "      <th></th>\n",
       "      <th></th>\n",
       "      <th></th>\n",
       "    </tr>\n",
       "  </thead>\n",
       "  <tbody>\n",
       "    <tr>\n",
       "      <th>0</th>\n",
       "      <td>6609.41</td>\n",
       "      <td>0.12</td>\n",
       "      <td>0.13</td>\n",
       "      <td>0.02</td>\n",
       "      <td>0.07</td>\n",
       "      <td>0.48</td>\n",
       "      <td>0.19</td>\n",
       "      <td>0.40</td>\n",
       "      <td>0.20</td>\n",
       "      <td>0.32</td>\n",
       "      <td>0.45</td>\n",
       "      <td>0.32</td>\n",
       "      <td>0.14</td>\n",
       "      <td>0.12</td>\n",
       "      <td>0.0</td>\n",
       "    </tr>\n",
       "    <tr>\n",
       "      <th>1</th>\n",
       "      <td>5715.25</td>\n",
       "      <td>0.12</td>\n",
       "      <td>0.11</td>\n",
       "      <td>0.15</td>\n",
       "      <td>0.15</td>\n",
       "      <td>0.34</td>\n",
       "      <td>0.13</td>\n",
       "      <td>0.23</td>\n",
       "      <td>0.28</td>\n",
       "      <td>0.27</td>\n",
       "      <td>0.27</td>\n",
       "      <td>0.19</td>\n",
       "      <td>0.23</td>\n",
       "      <td>0.05</td>\n",
       "      <td>0.0</td>\n",
       "    </tr>\n",
       "  </tbody>\n",
       "</table>\n",
       "</div>"
      ],
      "text/plain": [
       "          index  Years of Education  ...  Area_smean_enc    0\n",
       "y_pred                               ...                     \n",
       "0       6609.41                0.12  ...            0.12  0.0\n",
       "1       5715.25                0.12  ...            0.05  0.0\n",
       "\n",
       "[2 rows x 15 columns]"
      ]
     },
     "execution_count": 226,
     "metadata": {
      "tags": []
     },
     "output_type": "execute_result"
    }
   ],
   "source": [
    "y_data_gb.groupby('y_pred').std().round(2)"
   ]
  },
  {
   "cell_type": "code",
   "execution_count": 235,
   "metadata": {
    "colab": {
     "base_uri": "https://localhost:8080/",
     "height": 206
    },
    "id": "KMUdXiYXVtTf",
    "outputId": "369e656c-57a3-4307-ed96-8e5f96420439"
   },
   "outputs": [
    {
     "data": {
      "text/html": [
       "<div>\n",
       "<style scoped>\n",
       "    .dataframe tbody tr th:only-of-type {\n",
       "        vertical-align: middle;\n",
       "    }\n",
       "\n",
       "    .dataframe tbody tr th {\n",
       "        vertical-align: top;\n",
       "    }\n",
       "\n",
       "    .dataframe thead th {\n",
       "        text-align: right;\n",
       "    }\n",
       "</style>\n",
       "<table border=\"1\" class=\"dataframe\">\n",
       "  <thead>\n",
       "    <tr style=\"text-align: right;\">\n",
       "      <th></th>\n",
       "      <th>index</th>\n",
       "      <th>Years of Education</th>\n",
       "      <th>Working Hours per week</th>\n",
       "      <th>Money Received</th>\n",
       "      <th>Ticket Price</th>\n",
       "      <th>Gender</th>\n",
       "      <th>Age</th>\n",
       "      <th>Lives_smean_enc</th>\n",
       "      <th>Education_smean_enc</th>\n",
       "      <th>Role_smean_enc</th>\n",
       "      <th>Marital_smean_enc</th>\n",
       "      <th>Continent_smean_enc</th>\n",
       "      <th>Employment_smean_enc</th>\n",
       "      <th>Area_smean_enc</th>\n",
       "      <th>0</th>\n",
       "    </tr>\n",
       "    <tr>\n",
       "      <th>y_pred</th>\n",
       "      <th></th>\n",
       "      <th></th>\n",
       "      <th></th>\n",
       "      <th></th>\n",
       "      <th></th>\n",
       "      <th></th>\n",
       "      <th></th>\n",
       "      <th></th>\n",
       "      <th></th>\n",
       "      <th></th>\n",
       "      <th></th>\n",
       "      <th></th>\n",
       "      <th></th>\n",
       "      <th></th>\n",
       "      <th></th>\n",
       "    </tr>\n",
       "  </thead>\n",
       "  <tbody>\n",
       "    <tr>\n",
       "      <th>0</th>\n",
       "      <td>6611.91</td>\n",
       "      <td>0.12</td>\n",
       "      <td>0.13</td>\n",
       "      <td>0.02</td>\n",
       "      <td>0.07</td>\n",
       "      <td>0.48</td>\n",
       "      <td>0.19</td>\n",
       "      <td>0.40</td>\n",
       "      <td>0.20</td>\n",
       "      <td>0.32</td>\n",
       "      <td>0.45</td>\n",
       "      <td>0.32</td>\n",
       "      <td>0.15</td>\n",
       "      <td>0.12</td>\n",
       "      <td>0.0</td>\n",
       "    </tr>\n",
       "    <tr>\n",
       "      <th>1</th>\n",
       "      <td>5683.62</td>\n",
       "      <td>0.12</td>\n",
       "      <td>0.11</td>\n",
       "      <td>0.15</td>\n",
       "      <td>0.15</td>\n",
       "      <td>0.35</td>\n",
       "      <td>0.13</td>\n",
       "      <td>0.23</td>\n",
       "      <td>0.28</td>\n",
       "      <td>0.27</td>\n",
       "      <td>0.27</td>\n",
       "      <td>0.20</td>\n",
       "      <td>0.23</td>\n",
       "      <td>0.06</td>\n",
       "      <td>0.0</td>\n",
       "    </tr>\n",
       "  </tbody>\n",
       "</table>\n",
       "</div>"
      ],
      "text/plain": [
       "          index  Years of Education  ...  Area_smean_enc    0\n",
       "y_pred                               ...                     \n",
       "0       6611.91                0.12  ...            0.12  0.0\n",
       "1       5683.62                0.12  ...            0.06  0.0\n",
       "\n",
       "[2 rows x 15 columns]"
      ]
     },
     "execution_count": 235,
     "metadata": {
      "tags": []
     },
     "output_type": "execute_result"
    }
   ],
   "source": [
    "y_data_sc.groupby('y_pred').std().round(2)"
   ]
  },
  {
   "cell_type": "code",
   "execution_count": null,
   "metadata": {
    "id": "zIK5zGPyYpPl"
   },
   "outputs": [],
   "source": [
    "#the only different thing between one and the other is the precision score for 0s which is higher by 0.01 in stacking.\n",
    "#it can be found above in the models or in the report."
   ]
  },
  {
   "cell_type": "markdown",
   "metadata": {
    "id": "kKgikCvfmxfO"
   },
   "source": [
    "# Statistical Tests for Stacking"
   ]
  },
  {
   "cell_type": "code",
   "execution_count": 236,
   "metadata": {
    "colab": {
     "base_uri": "https://localhost:8080/",
     "height": 136
    },
    "id": "4gctef0qmIjS",
    "outputId": "ffdfc318-4e0e-49cb-e3d0-1b42e9f85f09"
   },
   "outputs": [
    {
     "data": {
      "text/html": [
       "<div>\n",
       "<style scoped>\n",
       "    .dataframe tbody tr th:only-of-type {\n",
       "        vertical-align: middle;\n",
       "    }\n",
       "\n",
       "    .dataframe tbody tr th {\n",
       "        vertical-align: top;\n",
       "    }\n",
       "\n",
       "    .dataframe thead th {\n",
       "        text-align: right;\n",
       "    }\n",
       "</style>\n",
       "<table border=\"1\" class=\"dataframe\">\n",
       "  <thead>\n",
       "    <tr style=\"text-align: right;\">\n",
       "      <th></th>\n",
       "      <th>Years of Education</th>\n",
       "      <th>Age</th>\n",
       "      <th>Gender</th>\n",
       "    </tr>\n",
       "    <tr>\n",
       "      <th>y_pred</th>\n",
       "      <th></th>\n",
       "      <th></th>\n",
       "      <th></th>\n",
       "    </tr>\n",
       "  </thead>\n",
       "  <tbody>\n",
       "    <tr>\n",
       "      <th>0</th>\n",
       "      <td>0.560</td>\n",
       "      <td>0.273</td>\n",
       "      <td>0.637</td>\n",
       "    </tr>\n",
       "    <tr>\n",
       "      <th>1</th>\n",
       "      <td>0.701</td>\n",
       "      <td>0.380</td>\n",
       "      <td>0.859</td>\n",
       "    </tr>\n",
       "  </tbody>\n",
       "</table>\n",
       "</div>"
      ],
      "text/plain": [
       "        Years of Education    Age  Gender\n",
       "y_pred                                   \n",
       "0                    0.560  0.273   0.637\n",
       "1                    0.701  0.380   0.859"
      ]
     },
     "execution_count": 236,
     "metadata": {
      "tags": []
     },
     "output_type": "execute_result"
    }
   ],
   "source": [
    "#classification and mean for stacking\n",
    "y_data_sc.groupby('y_pred').mean().round(3)[['Years of Education','Age','Gender']]"
   ]
  },
  {
   "cell_type": "code",
   "execution_count": 237,
   "metadata": {
    "id": "xDbmCb0kmIjV"
   },
   "outputs": [],
   "source": [
    "#reate Men and Women variables from Gender for testing chisquare\n",
    "y_data_sc['Men'] = y_data_sc['Gender']\n",
    "\n",
    "# create a list of our conditions\n",
    "conditions = [\n",
    "    (y_data_sc['Gender'] <= 0),\n",
    "    (y_data_sc['Gender'] == 1),\n",
    "]\n",
    "\n",
    "# create a list of the values we want to assign for each condition\n",
    "values = [1, 0]\n",
    "\n",
    "# create a new column and use np.select to assign values to it using our lists as arguments\n",
    "y_data_sc['Women'] = np.select(conditions, values)"
   ]
  },
  {
   "cell_type": "code",
   "execution_count": 238,
   "metadata": {
    "colab": {
     "base_uri": "https://localhost:8080/"
    },
    "id": "5s0m39IumIjW",
    "outputId": "70043bde-e4b6-45a6-ec97-f2cd81722be0"
   },
   "outputs": [
    {
     "data": {
      "text/plain": [
       "(array([ 64.10529061, 136.44757386]), array([1.17944391e-15, 1.59263552e-31]))"
      ]
     },
     "execution_count": 238,
     "metadata": {
      "tags": []
     },
     "output_type": "execute_result"
    }
   ],
   "source": [
    "#chisquare test for gender\n",
    "feature_selection.chi2(y_data_sc[['Men','Women']], y_data_sc['y_pred'])\n",
    "#we can reject the null hp that they have the same mean"
   ]
  },
  {
   "cell_type": "code",
   "execution_count": 239,
   "metadata": {
    "id": "pqCWHXkOmIjW"
   },
   "outputs": [],
   "source": [
    "#preparing years of education for t test\n",
    "a = y_data_sc[y_data_sc['y_pred']==1]['Years of Education']\n",
    "b = y_data_sc[y_data_sc['y_pred']==0]['Years of Education']\n",
    "#b needs to have same length as a. we sample randomly from b.\n",
    "c = b.sample(n=a.shape[0], random_state=1)"
   ]
  },
  {
   "cell_type": "code",
   "execution_count": 240,
   "metadata": {
    "colab": {
     "base_uri": "https://localhost:8080/"
    },
    "id": "V85gQriQmIjW",
    "outputId": "1103a219-6ea2-4122-ef73-d2af986f7fae"
   },
   "outputs": [
    {
     "name": "stdout",
     "output_type": "stream",
     "text": [
      "P-Value:3.4046118937315354e-123 T-Statistic:26.963220415367772\n"
     ]
    }
   ],
   "source": [
    "#t test for years of education\n",
    "tStat, pValue =  stats.ttest_rel(a, c)\n",
    "print(\"P-Value:{0} T-Statistic:{1}\".format(pValue,tStat))"
   ]
  },
  {
   "cell_type": "code",
   "execution_count": 241,
   "metadata": {
    "id": "kAZOCIvgmIjX"
   },
   "outputs": [],
   "source": [
    "#preparing age for t test\n",
    "a = y_data_sc[y_data_sc['y_pred']==1]['Age']\n",
    "b = y_data_sc[y_data_sc['y_pred']==0]['Age']\n",
    "#b needs to have same length as a. we sample randomly from b.\n",
    "c = b.sample(n=a.shape[0], random_state=1)"
   ]
  },
  {
   "cell_type": "code",
   "execution_count": 242,
   "metadata": {
    "colab": {
     "base_uri": "https://localhost:8080/"
    },
    "id": "wSBpVDNgmIjX",
    "outputId": "85bb5085-c53f-47ff-adb9-653bf200ffd6"
   },
   "outputs": [
    {
     "name": "stdout",
     "output_type": "stream",
     "text": [
      "P-Value:5.020207745921948e-45 T-Statistic:14.746579140993793\n"
     ]
    }
   ],
   "source": [
    "#t test for age\n",
    "tStat, pValue =  stats.ttest_rel(a, c)\n",
    "print(\"P-Value:{0} T-Statistic:{1}\".format(pValue,tStat))"
   ]
  },
  {
   "cell_type": "markdown",
   "metadata": {
    "id": "ukSwl4AyQW4L"
   },
   "source": [
    "# test predict - kaggle"
   ]
  },
  {
   "cell_type": "code",
   "execution_count": null,
   "metadata": {
    "id": "OH65G8OXQZUM"
   },
   "outputs": [],
   "source": [
    "# y_pred_test = pd.DataFrame(gb.predict(test[metrics]))\n",
    "# pd.concat([test['CITIZEN_ID'],y_pred_test], axis = 1).to_csv(r\"xxxx.csv\")"
   ]
  }
 ],
 "metadata": {
  "colab": {
   "collapsed_sections": [],
   "name": "ML_Project_Final.ipynb",
   "provenance": [],
   "toc_visible": true
  },
  "kernelspec": {
   "display_name": "Python 3",
   "language": "python",
   "name": "python3"
  },
  "language_info": {
   "codemirror_mode": {
    "name": "ipython",
    "version": 3
   },
   "file_extension": ".py",
   "mimetype": "text/x-python",
   "name": "python",
   "nbconvert_exporter": "python",
   "pygments_lexer": "ipython3",
   "version": "3.8.5"
  }
 },
 "nbformat": 4,
 "nbformat_minor": 1
}
